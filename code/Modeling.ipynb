{
 "cells": [
  {
   "cell_type": "code",
   "execution_count": 8,
   "metadata": {},
   "outputs": [],
   "source": [
    "import pandas as pd\n",
    "import numpy as np\n",
    "from functools import partial\n",
    "\n",
    "from sklearn.naive_bayes import MultinomialNB\n",
    "from sklearn import tree\n",
    "from sklearn.svm import SVC\n",
    "from sklearn.ensemble import RandomForestClassifier\n",
    "\n",
    "from sklearn.model_selection import GridSearchCV\n",
    "from sklearn.preprocessing import MinMaxScaler\n",
    "from sklearn.decomposition import NMF\n",
    "from sklearn.metrics import accuracy_score\n",
    "from sklearn.feature_extraction.text import TfidfVectorizer\n",
    "from sklearn.model_selection import train_test_split\n",
    "import lightgbm as lgb\n",
    "from sklearn.metrics import accuracy_score,precision_score, classification_report\n",
    "from sklearn.tree import export_graphviz\n",
    "import pydotplus\n",
    "from IPython.display import Image\n",
    "import os\n",
    "\n",
    "from sklearn.preprocessing import MaxAbsScaler\n",
    "from sklearn.decomposition import PCA\n",
    "from imblearn.over_sampling import SMOTE\n",
    "from sklearn.datasets import make_classification"
   ]
  },
  {
   "cell_type": "code",
   "execution_count": 2,
   "metadata": {},
   "outputs": [],
   "source": [
    "# save np.load\n",
    "np_load_old = partial(np.load)\n",
    "\n",
    "# modify the default parameters of np.load\n",
    "np.load = lambda *a,**k: np_load_old(*a, allow_pickle=True, **k)"
   ]
  },
  {
   "cell_type": "code",
   "execution_count": 9,
   "metadata": {},
   "outputs": [],
   "source": [
    "# restore np.load for future normal usage\n",
    "np.load = np_load_old"
   ]
  },
  {
   "cell_type": "markdown",
   "metadata": {},
   "source": [
    "# Word2Vec"
   ]
  },
  {
   "cell_type": "markdown",
   "metadata": {},
   "source": [
    "# features = 300"
   ]
  },
  {
   "cell_type": "code",
   "execution_count": 15,
   "metadata": {},
   "outputs": [],
   "source": [
    "X_train = np.load('X_trainingset.npy')\n",
    "y_train = np.load('y_trainingset.npy')\n",
    "X_val = np.load('X_validationset.npy')\n",
    "y_val = np.load('y_validationset.npy')"
   ]
  },
  {
   "cell_type": "code",
   "execution_count": 16,
   "metadata": {
    "scrolled": true
   },
   "outputs": [
    {
     "name": "stdout",
     "output_type": "stream",
     "text": [
      "(14475, 300)\n",
      "(14475,)\n",
      "(3619, 300)\n",
      "(3619,)\n"
     ]
    }
   ],
   "source": [
    "print(X_train.shape)\n",
    "print(y_train.shape)\n",
    "print(X_val.shape)\n",
    "print(y_val.shape)"
   ]
  },
  {
   "cell_type": "code",
   "execution_count": 38,
   "metadata": {},
   "outputs": [
    {
     "data": {
      "text/plain": [
       "0.44469775474956824"
      ]
     },
     "execution_count": 38,
     "metadata": {},
     "output_type": "execute_result"
    }
   ],
   "source": [
    "# MultinomialNB는 negative value X\n",
    "# [0, 1]로 정규화\n",
    "min_max_scaler = MinMaxScaler()\n",
    "X_nomal_train = min_max_scaler.fit_transform(X_train)\n",
    "\n",
    "mnbModel = MultinomialNB(alpha = 0.01)\n",
    "mnbModel.fit(X_nomal_train, y_train)\n",
    "mnbModel.score(X_nomal_train, y_train)"
   ]
  },
  {
   "cell_type": "code",
   "execution_count": null,
   "metadata": {},
   "outputs": [],
   "source": []
  },
  {
   "cell_type": "markdown",
   "metadata": {},
   "source": [
    "# features = 1000"
   ]
  },
  {
   "cell_type": "code",
   "execution_count": 60,
   "metadata": {},
   "outputs": [],
   "source": [
    "X_train = np.load('X_trainingset3.npy')\n",
    "y_train = np.load('y_trainingset3.npy')\n",
    "X_val = np.load('X_validationset3.npy')\n",
    "y_val = np.load('y_validationset3.npy')"
   ]
  },
  {
   "cell_type": "code",
   "execution_count": 61,
   "metadata": {},
   "outputs": [
    {
     "name": "stdout",
     "output_type": "stream",
     "text": [
      "(14475, 1000)\n",
      "(14475,)\n",
      "(3619, 1000)\n",
      "(3619,)\n"
     ]
    }
   ],
   "source": [
    "print(X_train.shape)\n",
    "print(y_train.shape)\n",
    "print(X_val.shape)\n",
    "print(y_val.shape)"
   ]
  },
  {
   "cell_type": "code",
   "execution_count": 62,
   "metadata": {},
   "outputs": [
    {
     "data": {
      "text/plain": [
       "0.44649395509499135"
      ]
     },
     "execution_count": 62,
     "metadata": {},
     "output_type": "execute_result"
    }
   ],
   "source": [
    "# MultinomialNB는 negative value X\n",
    "# [0, 1]로 정규화\n",
    "min_max_scaler = MinMaxScaler()\n",
    "X_nomal_train = min_max_scaler.fit_transform(X_train)\n",
    "\n",
    "mnbModel = MultinomialNB(alpha = 0.01)\n",
    "mnbModel.fit(X_nomal_train, y_train)\n",
    "mnbModel.score(X_nomal_train, y_train)"
   ]
  },
  {
   "cell_type": "code",
   "execution_count": null,
   "metadata": {},
   "outputs": [],
   "source": []
  },
  {
   "cell_type": "markdown",
   "metadata": {},
   "source": [
    "# features = 600"
   ]
  },
  {
   "cell_type": "code",
   "execution_count": 63,
   "metadata": {},
   "outputs": [],
   "source": [
    "X_train = np.load('X_trainingset4.npy')\n",
    "y_train = np.load('y_trainingset4.npy')\n",
    "X_val = np.load('X_validationset4.npy')\n",
    "y_val = np.load('y_validationset4.npy')"
   ]
  },
  {
   "cell_type": "code",
   "execution_count": 64,
   "metadata": {},
   "outputs": [
    {
     "name": "stdout",
     "output_type": "stream",
     "text": [
      "(14475, 600)\n",
      "(14475,)\n",
      "(3619, 600)\n",
      "(3619,)\n"
     ]
    }
   ],
   "source": [
    "print(X_train.shape)\n",
    "print(y_train.shape)\n",
    "print(X_val.shape)\n",
    "print(y_val.shape)"
   ]
  },
  {
   "cell_type": "code",
   "execution_count": 65,
   "metadata": {},
   "outputs": [
    {
     "data": {
      "text/plain": [
       "0.44649395509499135"
      ]
     },
     "execution_count": 65,
     "metadata": {},
     "output_type": "execute_result"
    }
   ],
   "source": [
    "# MultinomialNB는 negative value X\n",
    "# [0, 1]로 정규화\n",
    "min_max_scaler = MinMaxScaler()\n",
    "X_nomal_train = min_max_scaler.fit_transform(X_train)\n",
    "\n",
    "mnbModel = MultinomialNB(alpha = 0.01)\n",
    "mnbModel.fit(X_nomal_train, y_train)\n",
    "mnbModel.score(X_nomal_train, y_train)"
   ]
  },
  {
   "cell_type": "code",
   "execution_count": null,
   "metadata": {},
   "outputs": [],
   "source": []
  },
  {
   "cell_type": "markdown",
   "metadata": {},
   "source": [
    "# features = 400"
   ]
  },
  {
   "cell_type": "code",
   "execution_count": 66,
   "metadata": {},
   "outputs": [],
   "source": [
    "X_train = np.load('X_trainingset5.npy')\n",
    "y_train = np.load('y_trainingset5.npy')\n",
    "X_val = np.load('X_validationset5.npy')\n",
    "y_val = np.load('y_validationset5.npy')"
   ]
  },
  {
   "cell_type": "code",
   "execution_count": 67,
   "metadata": {},
   "outputs": [
    {
     "name": "stdout",
     "output_type": "stream",
     "text": [
      "(14475, 400)\n",
      "(14475,)\n",
      "(3619, 400)\n",
      "(3619,)\n"
     ]
    }
   ],
   "source": [
    "print(X_train.shape)\n",
    "print(y_train.shape)\n",
    "print(X_val.shape)\n",
    "print(y_val.shape)"
   ]
  },
  {
   "cell_type": "code",
   "execution_count": 68,
   "metadata": {},
   "outputs": [
    {
     "data": {
      "text/plain": [
       "0.44649395509499135"
      ]
     },
     "execution_count": 68,
     "metadata": {},
     "output_type": "execute_result"
    }
   ],
   "source": [
    "# MultinomialNB는 negative value X\n",
    "# [0, 1]로 정규화\n",
    "min_max_scaler = MinMaxScaler()\n",
    "X_nomal_train = min_max_scaler.fit_transform(X_train)\n",
    "\n",
    "mnbModel = MultinomialNB(alpha = 0.01)\n",
    "mnbModel.fit(X_nomal_train, y_train)\n",
    "mnbModel.score(X_nomal_train, y_train)"
   ]
  },
  {
   "cell_type": "markdown",
   "metadata": {},
   "source": [
    "# features = 350"
   ]
  },
  {
   "cell_type": "code",
   "execution_count": 63,
   "metadata": {},
   "outputs": [],
   "source": [
    "X_train = np.load('X_trainingset_w2v.npy')\n",
    "y_train = np.load('y_trainingset_w2v.npy')\n",
    "X_val = np.load('X_validationset_w2v.npy')\n",
    "y_val = np.load('y_validationset_w2v.npy')"
   ]
  },
  {
   "cell_type": "code",
   "execution_count": 64,
   "metadata": {},
   "outputs": [
    {
     "name": "stdout",
     "output_type": "stream",
     "text": [
      "(57689, 350)\n",
      "(57689,)\n",
      "(14423, 350)\n",
      "(14423,)\n"
     ]
    }
   ],
   "source": [
    "print(X_train.shape)\n",
    "print(y_train.shape)\n",
    "print(X_val.shape)\n",
    "print(y_val.shape)"
   ]
  },
  {
   "cell_type": "code",
   "execution_count": 61,
   "metadata": {},
   "outputs": [
    {
     "data": {
      "text/plain": [
       "array([[0., 0., 0., ..., 0., 0., 0.],\n",
       "       [0., 0., 0., ..., 0., 0., 0.],\n",
       "       [0., 0., 0., ..., 0., 0., 0.],\n",
       "       ...,\n",
       "       [0., 0., 0., ..., 0., 0., 0.],\n",
       "       [0., 0., 0., ..., 0., 0., 0.],\n",
       "       [0., 0., 0., ..., 0., 0., 0.]], dtype=float32)"
      ]
     },
     "execution_count": 61,
     "metadata": {},
     "output_type": "execute_result"
    }
   ],
   "source": [
    "X_train"
   ]
  },
  {
   "cell_type": "code",
   "execution_count": 66,
   "metadata": {},
   "outputs": [
    {
     "data": {
      "text/plain": [
       "array([[0., 0., 0., ..., 0., 0., 0.],\n",
       "       [0., 0., 0., ..., 0., 0., 0.],\n",
       "       [0., 0., 0., ..., 0., 0., 0.],\n",
       "       ...,\n",
       "       [0., 0., 0., ..., 0., 0., 0.],\n",
       "       [0., 0., 0., ..., 0., 0., 0.],\n",
       "       [0., 0., 0., ..., 0., 0., 0.]], dtype=float32)"
      ]
     },
     "execution_count": 66,
     "metadata": {},
     "output_type": "execute_result"
    }
   ],
   "source": [
    "np.nan_to_num(X_train, nan = 0)"
   ]
  },
  {
   "cell_type": "code",
   "execution_count": 55,
   "metadata": {},
   "outputs": [
    {
     "name": "stdout",
     "output_type": "stream",
     "text": [
      "[ 65500. -65500.]\n"
     ]
    }
   ],
   "source": [
    "np.nan_to_num(var, copy=False)\n",
    "print(var)"
   ]
  },
  {
   "cell_type": "code",
   "execution_count": 67,
   "metadata": {},
   "outputs": [
    {
     "data": {
      "text/plain": [
       "0.4206521173880636"
      ]
     },
     "execution_count": 67,
     "metadata": {},
     "output_type": "execute_result"
    }
   ],
   "source": [
    "# MultinomialNB는 negative value X\n",
    "# [0, 1]로 정규화\n",
    "X_train = np.nan_to_num(X_train, nan = 0)\n",
    "mnbModel = MultinomialNB(alpha = 0.1)\n",
    "mnbModel.fit(X_train, y_train)\n",
    "mnbModel.score(X_train, y_train)"
   ]
  },
  {
   "cell_type": "markdown",
   "metadata": {},
   "source": [
    "# alpha값에 따른 변화 x"
   ]
  },
  {
   "cell_type": "code",
   "execution_count": 24,
   "metadata": {},
   "outputs": [
    {
     "ename": "ValueError",
     "evalue": "Input contains NaN, infinity or a value too large for dtype('float32').",
     "output_type": "error",
     "traceback": [
      "\u001b[1;31m---------------------------------------------------------------------------\u001b[0m",
      "\u001b[1;31mValueError\u001b[0m                                Traceback (most recent call last)",
      "\u001b[1;32m<ipython-input-24-d6c11aa0bcfa>\u001b[0m in \u001b[0;36m<module>\u001b[1;34m\u001b[0m\n\u001b[0;32m      5\u001b[0m \u001b[1;33m\u001b[0m\u001b[0m\n\u001b[0;32m      6\u001b[0m \u001b[0mgnbModel\u001b[0m \u001b[1;33m=\u001b[0m \u001b[0mGaussianNB\u001b[0m\u001b[1;33m(\u001b[0m\u001b[1;33m)\u001b[0m\u001b[1;33m\u001b[0m\u001b[1;33m\u001b[0m\u001b[0m\n\u001b[1;32m----> 7\u001b[1;33m \u001b[0mgnbModel\u001b[0m\u001b[1;33m.\u001b[0m\u001b[0mfit\u001b[0m\u001b[1;33m(\u001b[0m\u001b[0mX_nomal_train\u001b[0m\u001b[1;33m,\u001b[0m \u001b[0my_train\u001b[0m\u001b[1;33m)\u001b[0m\u001b[1;33m\u001b[0m\u001b[1;33m\u001b[0m\u001b[0m\n\u001b[0m\u001b[0;32m      8\u001b[0m \u001b[0mgnbModel\u001b[0m\u001b[1;33m.\u001b[0m\u001b[0mscore\u001b[0m\u001b[1;33m(\u001b[0m\u001b[0mX_nomal_train\u001b[0m\u001b[1;33m,\u001b[0m \u001b[0my_train\u001b[0m\u001b[1;33m)\u001b[0m\u001b[1;33m\u001b[0m\u001b[1;33m\u001b[0m\u001b[0m\n",
      "\u001b[1;32m~\\anaconda3\\envs\\tensorflow\\lib\\site-packages\\sklearn\\naive_bayes.py\u001b[0m in \u001b[0;36mfit\u001b[1;34m(self, X, y, sample_weight)\u001b[0m\n\u001b[0;32m    208\u001b[0m         \u001b[0mself\u001b[0m \u001b[1;33m:\u001b[0m \u001b[0mobject\u001b[0m\u001b[1;33m\u001b[0m\u001b[1;33m\u001b[0m\u001b[0m\n\u001b[0;32m    209\u001b[0m         \"\"\"\n\u001b[1;32m--> 210\u001b[1;33m         \u001b[0mX\u001b[0m\u001b[1;33m,\u001b[0m \u001b[0my\u001b[0m \u001b[1;33m=\u001b[0m \u001b[0mself\u001b[0m\u001b[1;33m.\u001b[0m\u001b[0m_validate_data\u001b[0m\u001b[1;33m(\u001b[0m\u001b[0mX\u001b[0m\u001b[1;33m,\u001b[0m \u001b[0my\u001b[0m\u001b[1;33m)\u001b[0m\u001b[1;33m\u001b[0m\u001b[1;33m\u001b[0m\u001b[0m\n\u001b[0m\u001b[0;32m    211\u001b[0m         \u001b[0my\u001b[0m \u001b[1;33m=\u001b[0m \u001b[0mcolumn_or_1d\u001b[0m\u001b[1;33m(\u001b[0m\u001b[0my\u001b[0m\u001b[1;33m,\u001b[0m \u001b[0mwarn\u001b[0m\u001b[1;33m=\u001b[0m\u001b[1;32mTrue\u001b[0m\u001b[1;33m)\u001b[0m\u001b[1;33m\u001b[0m\u001b[1;33m\u001b[0m\u001b[0m\n\u001b[0;32m    212\u001b[0m         return self._partial_fit(X, y, np.unique(y), _refit=True,\n",
      "\u001b[1;32m~\\anaconda3\\envs\\tensorflow\\lib\\site-packages\\sklearn\\base.py\u001b[0m in \u001b[0;36m_validate_data\u001b[1;34m(self, X, y, reset, validate_separately, **check_params)\u001b[0m\n\u001b[0;32m    430\u001b[0m                 \u001b[0my\u001b[0m \u001b[1;33m=\u001b[0m \u001b[0mcheck_array\u001b[0m\u001b[1;33m(\u001b[0m\u001b[0my\u001b[0m\u001b[1;33m,\u001b[0m \u001b[1;33m**\u001b[0m\u001b[0mcheck_y_params\u001b[0m\u001b[1;33m)\u001b[0m\u001b[1;33m\u001b[0m\u001b[1;33m\u001b[0m\u001b[0m\n\u001b[0;32m    431\u001b[0m             \u001b[1;32melse\u001b[0m\u001b[1;33m:\u001b[0m\u001b[1;33m\u001b[0m\u001b[1;33m\u001b[0m\u001b[0m\n\u001b[1;32m--> 432\u001b[1;33m                 \u001b[0mX\u001b[0m\u001b[1;33m,\u001b[0m \u001b[0my\u001b[0m \u001b[1;33m=\u001b[0m \u001b[0mcheck_X_y\u001b[0m\u001b[1;33m(\u001b[0m\u001b[0mX\u001b[0m\u001b[1;33m,\u001b[0m \u001b[0my\u001b[0m\u001b[1;33m,\u001b[0m \u001b[1;33m**\u001b[0m\u001b[0mcheck_params\u001b[0m\u001b[1;33m)\u001b[0m\u001b[1;33m\u001b[0m\u001b[1;33m\u001b[0m\u001b[0m\n\u001b[0m\u001b[0;32m    433\u001b[0m             \u001b[0mout\u001b[0m \u001b[1;33m=\u001b[0m \u001b[0mX\u001b[0m\u001b[1;33m,\u001b[0m \u001b[0my\u001b[0m\u001b[1;33m\u001b[0m\u001b[1;33m\u001b[0m\u001b[0m\n\u001b[0;32m    434\u001b[0m \u001b[1;33m\u001b[0m\u001b[0m\n",
      "\u001b[1;32m~\\anaconda3\\envs\\tensorflow\\lib\\site-packages\\sklearn\\utils\\validation.py\u001b[0m in \u001b[0;36minner_f\u001b[1;34m(*args, **kwargs)\u001b[0m\n\u001b[0;32m     70\u001b[0m                           FutureWarning)\n\u001b[0;32m     71\u001b[0m         \u001b[0mkwargs\u001b[0m\u001b[1;33m.\u001b[0m\u001b[0mupdate\u001b[0m\u001b[1;33m(\u001b[0m\u001b[1;33m{\u001b[0m\u001b[0mk\u001b[0m\u001b[1;33m:\u001b[0m \u001b[0marg\u001b[0m \u001b[1;32mfor\u001b[0m \u001b[0mk\u001b[0m\u001b[1;33m,\u001b[0m \u001b[0marg\u001b[0m \u001b[1;32min\u001b[0m \u001b[0mzip\u001b[0m\u001b[1;33m(\u001b[0m\u001b[0msig\u001b[0m\u001b[1;33m.\u001b[0m\u001b[0mparameters\u001b[0m\u001b[1;33m,\u001b[0m \u001b[0margs\u001b[0m\u001b[1;33m)\u001b[0m\u001b[1;33m}\u001b[0m\u001b[1;33m)\u001b[0m\u001b[1;33m\u001b[0m\u001b[1;33m\u001b[0m\u001b[0m\n\u001b[1;32m---> 72\u001b[1;33m         \u001b[1;32mreturn\u001b[0m \u001b[0mf\u001b[0m\u001b[1;33m(\u001b[0m\u001b[1;33m**\u001b[0m\u001b[0mkwargs\u001b[0m\u001b[1;33m)\u001b[0m\u001b[1;33m\u001b[0m\u001b[1;33m\u001b[0m\u001b[0m\n\u001b[0m\u001b[0;32m     73\u001b[0m     \u001b[1;32mreturn\u001b[0m \u001b[0minner_f\u001b[0m\u001b[1;33m\u001b[0m\u001b[1;33m\u001b[0m\u001b[0m\n\u001b[0;32m     74\u001b[0m \u001b[1;33m\u001b[0m\u001b[0m\n",
      "\u001b[1;32m~\\anaconda3\\envs\\tensorflow\\lib\\site-packages\\sklearn\\utils\\validation.py\u001b[0m in \u001b[0;36mcheck_X_y\u001b[1;34m(X, y, accept_sparse, accept_large_sparse, dtype, order, copy, force_all_finite, ensure_2d, allow_nd, multi_output, ensure_min_samples, ensure_min_features, y_numeric, estimator)\u001b[0m\n\u001b[0;32m    800\u001b[0m                     \u001b[0mensure_min_samples\u001b[0m\u001b[1;33m=\u001b[0m\u001b[0mensure_min_samples\u001b[0m\u001b[1;33m,\u001b[0m\u001b[1;33m\u001b[0m\u001b[1;33m\u001b[0m\u001b[0m\n\u001b[0;32m    801\u001b[0m                     \u001b[0mensure_min_features\u001b[0m\u001b[1;33m=\u001b[0m\u001b[0mensure_min_features\u001b[0m\u001b[1;33m,\u001b[0m\u001b[1;33m\u001b[0m\u001b[1;33m\u001b[0m\u001b[0m\n\u001b[1;32m--> 802\u001b[1;33m                     estimator=estimator)\n\u001b[0m\u001b[0;32m    803\u001b[0m     \u001b[1;32mif\u001b[0m \u001b[0mmulti_output\u001b[0m\u001b[1;33m:\u001b[0m\u001b[1;33m\u001b[0m\u001b[1;33m\u001b[0m\u001b[0m\n\u001b[0;32m    804\u001b[0m         y = check_array(y, accept_sparse='csr', force_all_finite=True,\n",
      "\u001b[1;32m~\\anaconda3\\envs\\tensorflow\\lib\\site-packages\\sklearn\\utils\\validation.py\u001b[0m in \u001b[0;36minner_f\u001b[1;34m(*args, **kwargs)\u001b[0m\n\u001b[0;32m     70\u001b[0m                           FutureWarning)\n\u001b[0;32m     71\u001b[0m         \u001b[0mkwargs\u001b[0m\u001b[1;33m.\u001b[0m\u001b[0mupdate\u001b[0m\u001b[1;33m(\u001b[0m\u001b[1;33m{\u001b[0m\u001b[0mk\u001b[0m\u001b[1;33m:\u001b[0m \u001b[0marg\u001b[0m \u001b[1;32mfor\u001b[0m \u001b[0mk\u001b[0m\u001b[1;33m,\u001b[0m \u001b[0marg\u001b[0m \u001b[1;32min\u001b[0m \u001b[0mzip\u001b[0m\u001b[1;33m(\u001b[0m\u001b[0msig\u001b[0m\u001b[1;33m.\u001b[0m\u001b[0mparameters\u001b[0m\u001b[1;33m,\u001b[0m \u001b[0margs\u001b[0m\u001b[1;33m)\u001b[0m\u001b[1;33m}\u001b[0m\u001b[1;33m)\u001b[0m\u001b[1;33m\u001b[0m\u001b[1;33m\u001b[0m\u001b[0m\n\u001b[1;32m---> 72\u001b[1;33m         \u001b[1;32mreturn\u001b[0m \u001b[0mf\u001b[0m\u001b[1;33m(\u001b[0m\u001b[1;33m**\u001b[0m\u001b[0mkwargs\u001b[0m\u001b[1;33m)\u001b[0m\u001b[1;33m\u001b[0m\u001b[1;33m\u001b[0m\u001b[0m\n\u001b[0m\u001b[0;32m     73\u001b[0m     \u001b[1;32mreturn\u001b[0m \u001b[0minner_f\u001b[0m\u001b[1;33m\u001b[0m\u001b[1;33m\u001b[0m\u001b[0m\n\u001b[0;32m     74\u001b[0m \u001b[1;33m\u001b[0m\u001b[0m\n",
      "\u001b[1;32m~\\anaconda3\\envs\\tensorflow\\lib\\site-packages\\sklearn\\utils\\validation.py\u001b[0m in \u001b[0;36mcheck_array\u001b[1;34m(array, accept_sparse, accept_large_sparse, dtype, order, copy, force_all_finite, ensure_2d, allow_nd, ensure_min_samples, ensure_min_features, estimator)\u001b[0m\n\u001b[0;32m    643\u001b[0m         \u001b[1;32mif\u001b[0m \u001b[0mforce_all_finite\u001b[0m\u001b[1;33m:\u001b[0m\u001b[1;33m\u001b[0m\u001b[1;33m\u001b[0m\u001b[0m\n\u001b[0;32m    644\u001b[0m             _assert_all_finite(array,\n\u001b[1;32m--> 645\u001b[1;33m                                allow_nan=force_all_finite == 'allow-nan')\n\u001b[0m\u001b[0;32m    646\u001b[0m \u001b[1;33m\u001b[0m\u001b[0m\n\u001b[0;32m    647\u001b[0m     \u001b[1;32mif\u001b[0m \u001b[0mensure_min_samples\u001b[0m \u001b[1;33m>\u001b[0m \u001b[1;36m0\u001b[0m\u001b[1;33m:\u001b[0m\u001b[1;33m\u001b[0m\u001b[1;33m\u001b[0m\u001b[0m\n",
      "\u001b[1;32m~\\anaconda3\\envs\\tensorflow\\lib\\site-packages\\sklearn\\utils\\validation.py\u001b[0m in \u001b[0;36m_assert_all_finite\u001b[1;34m(X, allow_nan, msg_dtype)\u001b[0m\n\u001b[0;32m     97\u001b[0m                     \u001b[0mmsg_err\u001b[0m\u001b[1;33m.\u001b[0m\u001b[0mformat\u001b[0m\u001b[1;33m\u001b[0m\u001b[1;33m\u001b[0m\u001b[0m\n\u001b[0;32m     98\u001b[0m                     (type_err,\n\u001b[1;32m---> 99\u001b[1;33m                      msg_dtype if msg_dtype is not None else X.dtype)\n\u001b[0m\u001b[0;32m    100\u001b[0m             )\n\u001b[0;32m    101\u001b[0m     \u001b[1;31m# for object dtype data, we only check for NaNs (GH-13254)\u001b[0m\u001b[1;33m\u001b[0m\u001b[1;33m\u001b[0m\u001b[1;33m\u001b[0m\u001b[0m\n",
      "\u001b[1;31mValueError\u001b[0m: Input contains NaN, infinity or a value too large for dtype('float32')."
     ]
    }
   ],
   "source": [
    "# MultinomialNB는 negative value X\n",
    "# [0, 1]로 정규화\n",
    "min_max_scaler = MinMaxScaler()\n",
    "X_nomal_train = min_max_scaler.fit_transform(X_train)\n",
    "\n",
    "gnbModel = GaussianNB()\n",
    "gnbModel.fit(X_nomal_train, y_train)\n",
    "gnbModel.score(X_nomal_train, y_train)"
   ]
  },
  {
   "cell_type": "code",
   "execution_count": null,
   "metadata": {},
   "outputs": [],
   "source": []
  },
  {
   "cell_type": "markdown",
   "metadata": {},
   "source": [
    "# word2vec 벡터 평균 말고 다른 방법으로 해보기"
   ]
  },
  {
   "cell_type": "code",
   "execution_count": null,
   "metadata": {},
   "outputs": [],
   "source": []
  },
  {
   "cell_type": "markdown",
   "metadata": {},
   "source": [
    "# Tf-idf\n",
    "\n",
    "# 1) Hannanum"
   ]
  },
  {
   "cell_type": "code",
   "execution_count": 8,
   "metadata": {},
   "outputs": [],
   "source": [
    "data = pd.read_excel('tokenization.xlsx')\n",
    "text = data['Hannanum'].copy()"
   ]
  },
  {
   "cell_type": "code",
   "execution_count": 7,
   "metadata": {},
   "outputs": [],
   "source": [
    "preData =pd.read_excel('preprocessing_data_af_rm_kw.xlsx')\n",
    "sentences = preData['sentence']"
   ]
  },
  {
   "cell_type": "code",
   "execution_count": 18,
   "metadata": {},
   "outputs": [
    {
     "data": {
      "text/plain": [
       "(90141, 7)"
      ]
     },
     "execution_count": 18,
     "metadata": {},
     "output_type": "execute_result"
    }
   ],
   "source": [
    "preData.shape"
   ]
  },
  {
   "cell_type": "code",
   "execution_count": 12,
   "metadata": {},
   "outputs": [],
   "source": [
    "for i, t in enumerate(text):\n",
    "    text[i] = str(t)"
   ]
  },
  {
   "cell_type": "code",
   "execution_count": 69,
   "metadata": {},
   "outputs": [],
   "source": [
    "tfidf_vectorizer = TfidfVectorizer(min_df = 0.0, analyzer = 'word', sublinear_tf = True, ngram_range = (1, 3), max_features = 5000)\n",
    "X = tfidf_vectorizer.fit_transform(text)"
   ]
  },
  {
   "cell_type": "code",
   "execution_count": 70,
   "metadata": {},
   "outputs": [],
   "source": [
    "y = np.array(sentences)\n",
    "\n",
    "RANDOM_SEED = 42\n",
    "TEST_SPLIT = 0.2\n",
    "\n",
    "X_train, X_test, y_train, y_test = train_test_split(X, y, test_size = TEST_SPLIT, random_state = RANDOM_SEED)\n",
    "X_train, X_val, y_train, y_val = train_test_split(X_train, y_train, test_size = TEST_SPLIT, random_state = RANDOM_SEED)"
   ]
  },
  {
   "cell_type": "code",
   "execution_count": 346,
   "metadata": {},
   "outputs": [],
   "source": [
    "tfidf_vectorizer = TfidfVectorizer(min_df = 0.0, analyzer = 'word', sublinear_tf = True, ngram_range = (1, 3), max_features = 10000)\n",
    "X = tfidf_vectorizer.fit_transform(text)"
   ]
  },
  {
   "cell_type": "code",
   "execution_count": 347,
   "metadata": {},
   "outputs": [],
   "source": [
    "y = np.array(sentences)\n",
    "\n",
    "RANDOM_SEED = 42\n",
    "TEST_SPLIT = 0.2\n",
    "\n",
    "X_train8, X_test8, y_train8, y_test8 = train_test_split(X, y, test_size = TEST_SPLIT, random_state = RANDOM_SEED)\n",
    "X_train8, X_val8, y_train8, y_val8 = train_test_split(X_train8, y_train8, test_size = TEST_SPLIT, random_state = RANDOM_SEED)"
   ]
  },
  {
   "cell_type": "markdown",
   "metadata": {},
   "source": [
    "# 2) Okt"
   ]
  },
  {
   "cell_type": "code",
   "execution_count": 137,
   "metadata": {},
   "outputs": [],
   "source": [
    "text2 = data['Okt'].copy()\n",
    "for i, t in enumerate(text2):\n",
    "    text2[i] = str(t)"
   ]
  },
  {
   "cell_type": "code",
   "execution_count": 138,
   "metadata": {},
   "outputs": [],
   "source": [
    "tfidf_vectorizer = TfidfVectorizer(min_df = 0.0, analyzer = 'word', sublinear_tf = True, ngram_range = (1, 3), max_features = 5000)\n",
    "X = tfidf_vectorizer.fit_transform(text2)"
   ]
  },
  {
   "cell_type": "code",
   "execution_count": 139,
   "metadata": {},
   "outputs": [],
   "source": [
    "y = np.array(sentences)\n",
    "\n",
    "RANDOM_SEED = 42\n",
    "TEST_SPLIT = 0.2\n",
    "\n",
    "X_train2, X_test2, y_train2, y_test2 = train_test_split(X, y, test_size = TEST_SPLIT, random_state = RANDOM_SEED)\n",
    "X_train2, X_val2, y_train2, y_val2 = train_test_split(X_train2, y_train2, test_size = TEST_SPLIT, random_state = RANDOM_SEED)"
   ]
  },
  {
   "cell_type": "code",
   "execution_count": null,
   "metadata": {},
   "outputs": [],
   "source": []
  },
  {
   "cell_type": "code",
   "execution_count": null,
   "metadata": {},
   "outputs": [],
   "source": []
  },
  {
   "cell_type": "markdown",
   "metadata": {},
   "source": [
    "# 3) Hannanum2"
   ]
  },
  {
   "cell_type": "code",
   "execution_count": 200,
   "metadata": {},
   "outputs": [],
   "source": [
    "data2 = pd.read_excel('tokenization2.xlsx')\n",
    "text3 = data2['Hannanum'].copy()\n",
    "for i, t in enumerate(text3):\n",
    "    text3[i] = str(t)"
   ]
  },
  {
   "cell_type": "code",
   "execution_count": 201,
   "metadata": {},
   "outputs": [],
   "source": [
    "tfidf_vectorizer = TfidfVectorizer(min_df = 0.0, analyzer = 'word', sublinear_tf = True, ngram_range = (1, 3), max_features = 5000)\n",
    "X = tfidf_vectorizer.fit_transform(text3)"
   ]
  },
  {
   "cell_type": "code",
   "execution_count": 202,
   "metadata": {},
   "outputs": [],
   "source": [
    "y = np.array(sentences)\n",
    "\n",
    "RANDOM_SEED = 42\n",
    "TEST_SPLIT = 0.2\n",
    "\n",
    "X_train3, X_test3, y_train3, y_test3 = train_test_split(X, y, test_size = TEST_SPLIT, random_state = RANDOM_SEED)\n",
    "X_train3, X_val3, y_train3, y_val3 = train_test_split(X_train3, y_train3, test_size = TEST_SPLIT, random_state = RANDOM_SEED)"
   ]
  },
  {
   "cell_type": "code",
   "execution_count": 221,
   "metadata": {},
   "outputs": [
    {
     "name": "stdout",
     "output_type": "stream",
     "text": [
      "  (0, 116)\t0.08084782180104927\n",
      "  (0, 157)\t0.09580117770178317\n",
      "  (0, 415)\t0.09918011475288462\n",
      "  (0, 436)\t0.09966514373917827\n",
      "  (0, 503)\t0.12186181739960136\n",
      "  (0, 649)\t0.08537033356817093\n",
      "  (0, 676)\t0.12275340228730729\n",
      "  (0, 790)\t0.07916556586927914\n",
      "  (0, 833)\t0.10438436224917227\n",
      "  (0, 946)\t0.08167701150537716\n",
      "  (0, 949)\t0.1889543771316076\n",
      "  (0, 967)\t0.22874007671926808\n",
      "  (0, 968)\t0.34744402625500864\n",
      "  (0, 1034)\t0.1257893136133001\n",
      "  (0, 1112)\t0.11170232789989931\n",
      "  (0, 1120)\t0.13202866425639226\n",
      "  (0, 1184)\t0.3411305964268848\n",
      "  (0, 1332)\t0.12317760367089654\n",
      "  (0, 1397)\t0.11161501002636287\n",
      "  (0, 1478)\t0.19528697147908533\n",
      "  (0, 1513)\t0.18354165545256562\n",
      "  (0, 1514)\t0.1257893136133001\n",
      "  (0, 1700)\t0.0887699570985288\n",
      "  (0, 1726)\t0.1554296851567785\n",
      "  (0, 1956)\t0.08736970184878745\n",
      "  :\t:\n",
      "  (57688, 652)\t0.3270226564531866\n",
      "  (57688, 817)\t0.13536063896958977\n",
      "  (57688, 854)\t0.10168451199905494\n",
      "  (57688, 1498)\t0.2619725843120845\n",
      "  (57688, 1499)\t0.2902269001490389\n",
      "  (57688, 1538)\t0.22073910085930218\n",
      "  (57688, 2148)\t0.12028343999271285\n",
      "  (57688, 2284)\t0.1758562104543421\n",
      "  (57688, 2301)\t0.1520465765780301\n",
      "  (57688, 2410)\t0.4177774951608649\n",
      "  (57688, 3292)\t0.09842290942413162\n",
      "  (57688, 3295)\t0.1683983824392704\n",
      "  (57688, 3529)\t0.1349270762823122\n",
      "  (57688, 3617)\t0.09568971098299431\n",
      "  (57688, 3791)\t0.21017134249846664\n",
      "  (57688, 3803)\t0.11209586257526989\n",
      "  (57688, 4052)\t0.17296745815656694\n",
      "  (57688, 4514)\t0.08162721580819314\n",
      "  (57688, 4535)\t0.09837073232152554\n",
      "  (57688, 4590)\t0.16415493697770925\n",
      "  (57688, 4605)\t0.19186807812872433\n",
      "  (57688, 4614)\t0.08620927885959566\n",
      "  (57688, 4659)\t0.2025759758908945\n",
      "  (57688, 4779)\t0.11600056749995505\n",
      "  (57688, 4983)\t0.22176193040861522\n"
     ]
    }
   ],
   "source": [
    "print(X_train3)"
   ]
  },
  {
   "cell_type": "markdown",
   "metadata": {},
   "source": [
    "# 4) Hannanum3"
   ]
  },
  {
   "cell_type": "code",
   "execution_count": 274,
   "metadata": {},
   "outputs": [],
   "source": [
    "data3 = pd.read_excel('tokenization3.xlsx')\n",
    "text4 = data3['Hannanum'].copy()\n",
    "for i, t in enumerate(text4):\n",
    "    text4[i] = str(t)"
   ]
  },
  {
   "cell_type": "code",
   "execution_count": 288,
   "metadata": {},
   "outputs": [],
   "source": [
    "tfidf_vectorizer = TfidfVectorizer(min_df = 0.0, analyzer = 'word', sublinear_tf = True, ngram_range = (1, 3), max_features = 5000)\n",
    "X = tfidf_vectorizer.fit_transform(text4)"
   ]
  },
  {
   "cell_type": "code",
   "execution_count": 307,
   "metadata": {},
   "outputs": [],
   "source": [
    "sentences = preData['sentence']\n",
    "y = np.array(sentences)\n",
    "\n",
    "RANDOM_SEED = 42\n",
    "TEST_SPLIT = 0.2\n",
    "\n",
    "X_train4, X_test4, y_train4, y_test4 = train_test_split(X, y, test_size = TEST_SPLIT, random_state = RANDOM_SEED)\n",
    "X_train4, X_val4, y_train4, y_val4 = train_test_split(X_train4, y_train4, test_size = TEST_SPLIT, random_state = RANDOM_SEED)"
   ]
  },
  {
   "cell_type": "code",
   "execution_count": null,
   "metadata": {},
   "outputs": [],
   "source": []
  },
  {
   "cell_type": "markdown",
   "metadata": {},
   "source": [
    "# Dataset split: class(징역/무기징역, 무죄/벌금/집행유예)\n",
    "\n",
    "# 1) Hannanum"
   ]
  },
  {
   "cell_type": "code",
   "execution_count": 4,
   "metadata": {},
   "outputs": [],
   "source": [
    "data = pd.read_excel('tokenization.xlsx')\n",
    "text = data['Hannanum'].copy()"
   ]
  },
  {
   "cell_type": "code",
   "execution_count": 5,
   "metadata": {},
   "outputs": [],
   "source": [
    "preData =pd.read_excel('preprocessing_data_af_rm_kw.xlsx')\n",
    "sentences = preData['sentence3']"
   ]
  },
  {
   "cell_type": "code",
   "execution_count": 6,
   "metadata": {},
   "outputs": [],
   "source": [
    "for i, t in enumerate(text):\n",
    "    text[i] = str(t)"
   ]
  },
  {
   "cell_type": "code",
   "execution_count": 14,
   "metadata": {},
   "outputs": [],
   "source": [
    "tfidf_vectorizer = TfidfVectorizer(min_df = 0.0, analyzer = 'word', sublinear_tf = True, ngram_range = (1, 3), max_features = 5000)\n",
    "X = tfidf_vectorizer.fit_transform(text)"
   ]
  },
  {
   "cell_type": "code",
   "execution_count": 15,
   "metadata": {},
   "outputs": [],
   "source": [
    "y = np.array(sentences)\n",
    "\n",
    "RANDOM_SEED = 42\n",
    "TEST_SPLIT = 0.2\n",
    "\n",
    "X_train5, X_test5, y_train5, y_test5 = train_test_split(X, y, test_size = TEST_SPLIT, random_state = RANDOM_SEED)\n",
    "X_train5, X_val5, y_train5, y_val5 = train_test_split(X_train5, y_train5, test_size = TEST_SPLIT, random_state = RANDOM_SEED)"
   ]
  },
  {
   "cell_type": "code",
   "execution_count": null,
   "metadata": {},
   "outputs": [],
   "source": []
  },
  {
   "cell_type": "code",
   "execution_count": null,
   "metadata": {},
   "outputs": [],
   "source": [
    "tfidf_vectorizer = TfidfVectorizer(min_df = 0.0, analyzer = 'word', sublinear_tf = True, ngram_range = (1, 3), max_features = 10000)\n",
    "X = tfidf_vectorizer.fit_transform(text)"
   ]
  },
  {
   "cell_type": "code",
   "execution_count": 349,
   "metadata": {},
   "outputs": [],
   "source": [
    "sentences = preData['sentence3']\n",
    "y = np.array(sentences)\n",
    "\n",
    "RANDOM_SEED = 42\n",
    "TEST_SPLIT = 0.2\n",
    "\n",
    "X_train8, X_test8, y_train8, y_test8 = train_test_split(X, y, test_size = TEST_SPLIT, random_state = RANDOM_SEED)\n",
    "X_train8, X_val8, y_train8, y_val8 = train_test_split(X_train8, y_train8, test_size = TEST_SPLIT, random_state = RANDOM_SEED)"
   ]
  },
  {
   "cell_type": "code",
   "execution_count": null,
   "metadata": {},
   "outputs": [],
   "source": []
  },
  {
   "cell_type": "code",
   "execution_count": 7,
   "metadata": {},
   "outputs": [],
   "source": [
    "tfidf_vectorizer = TfidfVectorizer(min_df = 0.0, analyzer = 'word', sublinear_tf = True, ngram_range = (1, 3), max_features = 7000)\n",
    "X = tfidf_vectorizer.fit_transform(text)"
   ]
  },
  {
   "cell_type": "code",
   "execution_count": 8,
   "metadata": {},
   "outputs": [],
   "source": [
    "sentences = preData['sentence3']\n",
    "y = np.array(sentences)\n",
    "\n",
    "RANDOM_SEED = 42\n",
    "TEST_SPLIT = 0.2\n",
    "\n",
    "X_train9, X_test9, y_train9, y_test9 = train_test_split(X, y, test_size = TEST_SPLIT, random_state = RANDOM_SEED)\n",
    "X_train9, X_val9, y_train9, y_val9 = train_test_split(X_train9, y_train9, test_size = TEST_SPLIT, random_state = RANDOM_SEED)"
   ]
  },
  {
   "cell_type": "code",
   "execution_count": null,
   "metadata": {},
   "outputs": [],
   "source": []
  },
  {
   "cell_type": "code",
   "execution_count": null,
   "metadata": {},
   "outputs": [],
   "source": []
  },
  {
   "cell_type": "code",
   "execution_count": null,
   "metadata": {},
   "outputs": [],
   "source": []
  },
  {
   "cell_type": "markdown",
   "metadata": {},
   "source": [
    "# 2) Okt"
   ]
  },
  {
   "cell_type": "code",
   "execution_count": null,
   "metadata": {},
   "outputs": [],
   "source": [
    "text2 = data['Okt'].copy()\n",
    "for i, t in enumerate(text2):\n",
    "    text2[i] = str(t)"
   ]
  },
  {
   "cell_type": "code",
   "execution_count": null,
   "metadata": {},
   "outputs": [],
   "source": [
    "tfidf_vectorizer = TfidfVectorizer(min_df = 0.0, analyzer = 'word', sublinear_tf = True, ngram_range = (1, 3), max_features = 5000)\n",
    "X = tfidf_vectorizer.fit_transform(text2)"
   ]
  },
  {
   "cell_type": "code",
   "execution_count": null,
   "metadata": {},
   "outputs": [],
   "source": [
    "sentences = preData['sentence3']\n",
    "y = np.array(sentences)\n",
    "\n",
    "RANDOM_SEED = 42\n",
    "TEST_SPLIT = 0.2\n",
    "\n",
    "X_train6, X_test6, y_train6, y_test6 = train_test_split(X, y, test_size = TEST_SPLIT, random_state = RANDOM_SEED)\n",
    "X_train6, X_val6, y_train6, y_val6 = train_test_split(X_train6, y_train6, test_size = TEST_SPLIT, random_state = RANDOM_SEED)"
   ]
  },
  {
   "cell_type": "code",
   "execution_count": null,
   "metadata": {},
   "outputs": [],
   "source": []
  },
  {
   "cell_type": "code",
   "execution_count": null,
   "metadata": {},
   "outputs": [],
   "source": []
  },
  {
   "cell_type": "code",
   "execution_count": null,
   "metadata": {},
   "outputs": [],
   "source": []
  },
  {
   "cell_type": "markdown",
   "metadata": {},
   "source": [
    "# 3) Hannanum3"
   ]
  },
  {
   "cell_type": "code",
   "execution_count": null,
   "metadata": {},
   "outputs": [],
   "source": [
    "data3 = pd.read_excel('tokenization3.xlsx')\n",
    "text4 = data3['Hannanum'].copy()\n",
    "for i, t in enumerate(text4):\n",
    "    text4[i] = str(t)"
   ]
  },
  {
   "cell_type": "code",
   "execution_count": 300,
   "metadata": {},
   "outputs": [
    {
     "data": {
      "text/plain": [
       "0        대법원 문건 무단 유출 등 1심 증거 범죄고의 검찰 1심 임종헌 번복 술 수용 대법...\n",
       "1        검찰 내 나 폭 검찰 세상 고통 후배 검사 성추행 인사 불이익 로 안태근 전 법무부...\n",
       "2        회식 후 술 정규직 여직원 성폭행한 로 30대 전 은행원 대법원 을 확정 대법원 3...\n",
       "3        직권남용 서지현 인사 불이익 1심 인사 불이익 2심 항소기각 대법 취지 환송 파기환...\n",
       "4        1심 판결 후 항소심 등 윤한홍 국민의힘 의원 7일 오후 서울 여의 국회 법제사법위...\n",
       "                               ...                        \n",
       "90136    서울지검 공안1부 이상형검사 28일 남한사회주의 노동자동맹 사노맹 사건 단체 중앙위...\n",
       "90137    서울지검 남부지청피해자 합의 고소 단순강간범 검찰 신설 특정범죄 가중처벌법상 특수강...\n",
       "90138    일반 형사범 행형성적 고려 선별구제 가정파괴범 일벌백계 로 대상 제외법무부 20일 ...\n",
       "90139    삼호기획 대표 공범 4명 도피자금 주류도매상 살해교사서울지검 강력부 강신욱부장 김종...\n",
       "90140    미국 동생 아들 소생 정인숙양 살해한 죄 을 동안 복역 11 석가탄신일 가석방 정양...\n",
       "Name: Hannanum, Length: 90141, dtype: object"
      ]
     },
     "execution_count": 300,
     "metadata": {},
     "output_type": "execute_result"
    }
   ],
   "source": [
    "text4"
   ]
  },
  {
   "cell_type": "code",
   "execution_count": 301,
   "metadata": {},
   "outputs": [],
   "source": [
    "tfidf_vectorizer = TfidfVectorizer(min_df = 0.0, analyzer = 'word', sublinear_tf = True, ngram_range = (1, 3), max_features = 5000)\n",
    "X = tfidf_vectorizer.fit_transform(text4)"
   ]
  },
  {
   "cell_type": "code",
   "execution_count": 302,
   "metadata": {},
   "outputs": [],
   "source": [
    "y = np.array(sentences)\n",
    "\n",
    "RANDOM_SEED = 42\n",
    "TEST_SPLIT = 0.2\n",
    "\n",
    "X_train7, X_test7, y_train7, y_test7 = train_test_split(X, y, test_size = TEST_SPLIT, random_state = RANDOM_SEED)\n",
    "X_train7, X_val7, y_train7, y_val7 = train_test_split(X_train7, y_train7, test_size = TEST_SPLIT, random_state = RANDOM_SEED)"
   ]
  },
  {
   "cell_type": "code",
   "execution_count": null,
   "metadata": {},
   "outputs": [],
   "source": []
  },
  {
   "cell_type": "code",
   "execution_count": null,
   "metadata": {},
   "outputs": [],
   "source": []
  },
  {
   "cell_type": "markdown",
   "metadata": {},
   "source": [
    "# 4) Kkma"
   ]
  },
  {
   "cell_type": "code",
   "execution_count": null,
   "metadata": {},
   "outputs": [],
   "source": [
    "data = pd.read_excel('tokenization.xlsx', index_col = 0)"
   ]
  },
  {
   "cell_type": "code",
   "execution_count": 9,
   "metadata": {},
   "outputs": [],
   "source": [
    "text5 = data['Kkma'].copy()\n",
    "for i, t in enumerate(text5):\n",
    "    text5[i] = str(t)"
   ]
  },
  {
   "cell_type": "code",
   "execution_count": 10,
   "metadata": {},
   "outputs": [],
   "source": [
    "tfidf_vectorizer = TfidfVectorizer(min_df = 0.0, analyzer = 'word', sublinear_tf = True, ngram_range = (1, 3), max_features = 5000)\n",
    "X = tfidf_vectorizer.fit_transform(text5)"
   ]
  },
  {
   "cell_type": "code",
   "execution_count": 11,
   "metadata": {},
   "outputs": [],
   "source": [
    "sentences = preData['sentence3']\n",
    "y = np.array(sentences)\n",
    "\n",
    "RANDOM_SEED = 42\n",
    "TEST_SPLIT = 0.2\n",
    "\n",
    "X_train_1, X_test_1, y_train_1, y_test_1 = train_test_split(X, y, test_size = TEST_SPLIT, random_state = RANDOM_SEED)\n",
    "X_train_1, X_val_1, y_train_1, y_val_1 = train_test_split(X_train_1, y_train_1, test_size = TEST_SPLIT, random_state = RANDOM_SEED)"
   ]
  },
  {
   "cell_type": "code",
   "execution_count": null,
   "metadata": {},
   "outputs": [],
   "source": []
  },
  {
   "cell_type": "code",
   "execution_count": null,
   "metadata": {},
   "outputs": [],
   "source": []
  },
  {
   "cell_type": "code",
   "execution_count": null,
   "metadata": {},
   "outputs": [],
   "source": []
  },
  {
   "cell_type": "code",
   "execution_count": null,
   "metadata": {},
   "outputs": [],
   "source": []
  },
  {
   "cell_type": "code",
   "execution_count": null,
   "metadata": {},
   "outputs": [],
   "source": []
  },
  {
   "cell_type": "markdown",
   "metadata": {},
   "source": [
    "# Dataset split:class == 유죄, 무죄"
   ]
  },
  {
   "cell_type": "code",
   "execution_count": 9,
   "metadata": {},
   "outputs": [],
   "source": [
    "data = pd.read_excel('tokenization.xlsx', index_col = 0)\n",
    "text = data['Hannanum'].copy()"
   ]
  },
  {
   "cell_type": "code",
   "execution_count": 10,
   "metadata": {},
   "outputs": [],
   "source": [
    "preData =pd.read_excel('preprocessing_data_af_rm_kw.xlsx', index_col = 0)\n",
    "sentences = preData['sentence4']"
   ]
  },
  {
   "cell_type": "code",
   "execution_count": 11,
   "metadata": {},
   "outputs": [],
   "source": [
    "for i, t in enumerate(text):\n",
    "    text[i] = str(t)"
   ]
  },
  {
   "cell_type": "code",
   "execution_count": 12,
   "metadata": {},
   "outputs": [],
   "source": [
    "tfidf_vectorizer = TfidfVectorizer(min_df = 0.0, analyzer = 'word', sublinear_tf = True, ngram_range = (1, 3), max_features = 5000)\n",
    "X = tfidf_vectorizer.fit_transform(text)"
   ]
  },
  {
   "cell_type": "code",
   "execution_count": 13,
   "metadata": {},
   "outputs": [],
   "source": [
    "sentences = preData['sentence4']\n",
    "y = np.array(sentences)\n",
    "\n",
    "RANDOM_SEED = 42\n",
    "TEST_SPLIT = 0.2\n",
    "\n",
    "X_train_2, X_test_2, y_train_2, y_test_2 = train_test_split(X, y, test_size = TEST_SPLIT, random_state = RANDOM_SEED)\n",
    "X_train_2, X_val_2, y_train_2, y_val_2 = train_test_split(X_train_2, y_train_2, test_size = TEST_SPLIT, random_state = RANDOM_SEED)"
   ]
  },
  {
   "cell_type": "code",
   "execution_count": null,
   "metadata": {},
   "outputs": [],
   "source": []
  },
  {
   "cell_type": "code",
   "execution_count": 7,
   "metadata": {},
   "outputs": [],
   "source": [
    "tfidf_vectorizer = TfidfVectorizer(min_df = 0.0, analyzer = 'word', sublinear_tf = True, ngram_range = (1, 3), max_features = 6000)\n",
    "X = tfidf_vectorizer.fit_transform(text)"
   ]
  },
  {
   "cell_type": "code",
   "execution_count": 8,
   "metadata": {},
   "outputs": [],
   "source": [
    "sentences = preData['sentence4']\n",
    "y = np.array(sentences)\n",
    "\n",
    "RANDOM_SEED = 42\n",
    "TEST_SPLIT = 0.2\n",
    "\n",
    "X_train_3, X_test_3, y_train_3, y_test_3 = train_test_split(X, y, test_size = TEST_SPLIT, random_state = RANDOM_SEED)\n",
    "X_train_3, X_val_3, y_train_3, y_val_3 = train_test_split(X_train_3, y_train_3, test_size = TEST_SPLIT, random_state = RANDOM_SEED)"
   ]
  },
  {
   "cell_type": "code",
   "execution_count": null,
   "metadata": {},
   "outputs": [],
   "source": []
  },
  {
   "cell_type": "code",
   "execution_count": 28,
   "metadata": {},
   "outputs": [],
   "source": [
    "tfidf_vectorizer = TfidfVectorizer(min_df = 0.0, analyzer = 'word', sublinear_tf = True, ngram_range = (1, 3), max_features = 7000)\n",
    "X = tfidf_vectorizer.fit_transform(text)"
   ]
  },
  {
   "cell_type": "code",
   "execution_count": 29,
   "metadata": {},
   "outputs": [],
   "source": [
    "sentences = preData['sentence4']\n",
    "y = np.array(sentences)\n",
    "\n",
    "RANDOM_SEED = 42\n",
    "TEST_SPLIT = 0.2\n",
    "\n",
    "X_train_4, X_test_4, y_train_4, y_test_4 = train_test_split(X, y, test_size = TEST_SPLIT, random_state = RANDOM_SEED)\n",
    "X_train_4, X_val_4, y_train_4, y_val_4 = train_test_split(X_train_3, y_train_3, test_size = TEST_SPLIT, random_state = RANDOM_SEED)"
   ]
  },
  {
   "cell_type": "code",
   "execution_count": null,
   "metadata": {},
   "outputs": [],
   "source": []
  },
  {
   "cell_type": "code",
   "execution_count": null,
   "metadata": {},
   "outputs": [],
   "source": []
  },
  {
   "cell_type": "code",
   "execution_count": null,
   "metadata": {},
   "outputs": [],
   "source": []
  },
  {
   "cell_type": "markdown",
   "metadata": {},
   "source": [
    "# resampling"
   ]
  },
  {
   "cell_type": "code",
   "execution_count": 27,
   "metadata": {},
   "outputs": [],
   "source": [
    "scaler = MaxAbsScaler()\n",
    "scaler.fit_transform(X_train_2)\n",
    "X_train_tmp = scaler.fit_transform(X_train_2)"
   ]
  },
  {
   "cell_type": "code",
   "execution_count": 29,
   "metadata": {},
   "outputs": [
    {
     "name": "stdout",
     "output_type": "stream",
     "text": [
      "After OverSampling, the shape of train_X: (97938, 5000)\n",
      "After OverSampling, the shape of train_y: (97938, 5000) \n",
      "\n",
      "After OverSampling, counts of label '1': 48969\n",
      "After OverSampling, counts of label '0': 48969\n"
     ]
    }
   ],
   "source": [
    "# 모델설정\n",
    "sm = SMOTE()\n",
    "\n",
    "# train데이터를 넣어 복제함\n",
    "X_resampled, y_resampled = sm.fit_sample(X_train_tmp,list(y_train_2))\n",
    "\n",
    "print('After OverSampling, the shape of train_X: {}'.format(X_resampled.shape))\n",
    "print('After OverSampling, the shape of train_y: {} \\n'.format(X_resampled.shape))\n",
    "\n",
    "print(\"After OverSampling, counts of label '1': {}\".format(y_resampled.count('유죄')))\n",
    "print(\"After OverSampling, counts of label '0': {}\".format(y_resampled.count('무죄')))"
   ]
  },
  {
   "cell_type": "code",
   "execution_count": null,
   "metadata": {},
   "outputs": [],
   "source": []
  },
  {
   "cell_type": "code",
   "execution_count": null,
   "metadata": {},
   "outputs": [],
   "source": []
  },
  {
   "cell_type": "code",
   "execution_count": null,
   "metadata": {},
   "outputs": [],
   "source": []
  },
  {
   "cell_type": "code",
   "execution_count": null,
   "metadata": {},
   "outputs": [],
   "source": []
  },
  {
   "cell_type": "code",
   "execution_count": null,
   "metadata": {},
   "outputs": [],
   "source": []
  },
  {
   "cell_type": "code",
   "execution_count": null,
   "metadata": {},
   "outputs": [],
   "source": []
  },
  {
   "cell_type": "code",
   "execution_count": 318,
   "metadata": {},
   "outputs": [],
   "source": [
    "# Hannanum, Tf-idf\n",
    "np.save('X_train', X_train)\n",
    "np.save('X_val', X_val)\n",
    "np.save('X_test', X_test)\n",
    "np.save('y_train', y_train)\n",
    "np.save('y_val', y_val)\n",
    "np.save('y_test', y_test)\n",
    "\n",
    "# Okt, Tf-idf\n",
    "np.save('X_train2', X_train2)\n",
    "np.save('X_val2', X_val2)\n",
    "np.save('X_test2', X_test2)\n",
    "np.save('y_train2', y_train2)\n",
    "np.save('y_val2', y_val2)\n",
    "np.save('y_test2', y_test2)\n",
    "\n",
    "# Hannanum2, Tf-idf\n",
    "np.save('X_train3', X_train3)\n",
    "np.save('X_val3', X_val3)\n",
    "np.save('X_test3', X_test3)\n",
    "np.save('y_train3', y_train3)\n",
    "np.save('y_val3', y_val3)\n",
    "np.save('y_test3', y_test3)\n",
    "\n",
    "# Hannanum3, Tf-idf\n",
    "np.save('X_train4', X_train4)\n",
    "np.save('X_val4', X_val4)\n",
    "np.save('X_test4', X_test4)\n",
    "np.save('y_train4', y_train4)\n",
    "np.save('y_val4', y_val4)\n",
    "np.save('y_test4', y_test4)\n",
    "\n",
    "# Hannanum, Tf-idf, class == 무기징역/징역, another\n",
    "np.save('X_train5', X_train5)\n",
    "np.save('X_val5', X_val5)\n",
    "np.save('X_test5', X_test5)\n",
    "np.save('y_train5', y_train5)\n",
    "np.save('y_val5', y_val5)\n",
    "np.save('y_test5', y_test5)\n",
    "\n",
    "# Okt, Tf-idf, class == 무기징역/징역, another\n",
    "np.save('X_train6', X_train6)\n",
    "np.save('X_val6', X_val6)\n",
    "np.save('X_test6', X_test6)\n",
    "np.save('y_train6', y_train6)\n",
    "np.save('y_val6', y_val6)\n",
    "np.save('y_test6', y_test6)\n",
    "\n",
    "# Hannanum2, Tf-idf, class == 무기징역/징역, another\n",
    "np.save('X_train7', X_train7)\n",
    "np.save('X_val7', X_val7)\n",
    "np.save('X_test7', X_test7)\n",
    "np.save('y_train7', y_train7)\n",
    "np.save('y_val7', y_val7)\n",
    "np.save('y_test7', y_test7)"
   ]
  },
  {
   "cell_type": "code",
   "execution_count": 356,
   "metadata": {},
   "outputs": [],
   "source": [
    "# Hannanum, Tf-idf(max_featrues = 10000)\n",
    "np.save('X_train8', X_train8)\n",
    "np.save('X_val8', X_val8)\n",
    "np.save('X_test8', X_test8)\n",
    "np.save('y_train8', y_train8)\n",
    "np.save('y_val8', y_val8)\n",
    "np.save('y_test8', y_test8)\n",
    "\n",
    "# Hannanum, Tf-idf(max_features = 7000)\n",
    "np.save('X_train9', X_train9)\n",
    "np.save('X_val9', X_val9)\n",
    "np.save('X_test9', X_test9)\n",
    "np.save('y_train9', y_train9)\n",
    "np.save('y_val9', y_val9)\n",
    "np.save('y_test9', y_test9)"
   ]
  },
  {
   "cell_type": "code",
   "execution_count": null,
   "metadata": {},
   "outputs": [],
   "source": []
  },
  {
   "cell_type": "code",
   "execution_count": null,
   "metadata": {},
   "outputs": [],
   "source": []
  },
  {
   "cell_type": "markdown",
   "metadata": {},
   "source": [
    "# Multinomial Naive bayes"
   ]
  },
  {
   "cell_type": "markdown",
   "metadata": {},
   "source": [
    "# 1) Hannanum, Tf-idf"
   ]
  },
  {
   "cell_type": "code",
   "execution_count": 227,
   "metadata": {},
   "outputs": [
    {
     "name": "stdout",
     "output_type": "stream",
     "text": [
      "\n",
      "trainingset accuracy : 0.561\n",
      "\n",
      "testset accuracy : 0.549\n"
     ]
    }
   ],
   "source": [
    "mnbModel = MultinomialNB(alpha = 0.1)\n",
    "mnbModel.fit(X_train, y_train)\n",
    "print(\"\\ntrainingset accuracy : {:.3f}\".format(mnbModel.score(X_train, y_train)))\n",
    "print(\"\\ntestset accuracy : {:.3f}\".format(mnbModel.score(X_val, y_val)))"
   ]
  },
  {
   "cell_type": "code",
   "execution_count": 278,
   "metadata": {},
   "outputs": [
    {
     "name": "stdout",
     "output_type": "stream",
     "text": [
      "\n",
      "trainingset accuracy : 0.560\n",
      "\n",
      "testset accuracy : 0.550\n"
     ]
    }
   ],
   "source": [
    "mnbModel = MultinomialNB(alpha = 1)\n",
    "mnbModel.fit(X_train, y_train)\n",
    "print(\"\\ntrainingset accuracy : {:.3f}\".format(mnbModel.score(X_train, y_train)))\n",
    "print(\"\\ntestset accuracy : {:.3f}\".format(mnbModel.score(X_val, y_val)))"
   ]
  },
  {
   "cell_type": "markdown",
   "metadata": {},
   "source": [
    "# 2) Okt, Tf-idf"
   ]
  },
  {
   "cell_type": "code",
   "execution_count": 228,
   "metadata": {},
   "outputs": [
    {
     "name": "stdout",
     "output_type": "stream",
     "text": [
      "\n",
      "trainingset accuracy : 0.536\n",
      "\n",
      "testset accuracy : 0.526\n"
     ]
    }
   ],
   "source": [
    "mnbModel = MultinomialNB(alpha = 0.1)\n",
    "mnbModel.fit(X_train2, y_train2)\n",
    "print(\"\\ntrainingset accuracy : {:.3f}\".format(mnbModel.score(X_train2, y_train2)))\n",
    "print(\"\\ntestset accuracy : {:.3f}\".format(mnbModel.score(X_val2, y_val2)))"
   ]
  },
  {
   "cell_type": "code",
   "execution_count": 279,
   "metadata": {},
   "outputs": [
    {
     "name": "stdout",
     "output_type": "stream",
     "text": [
      "\n",
      "trainingset accuracy : 0.537\n",
      "\n",
      "testset accuracy : 0.529\n"
     ]
    }
   ],
   "source": [
    "mnbModel = MultinomialNB(alpha = 1)\n",
    "mnbModel.fit(X_train2, y_train2)\n",
    "print(\"\\ntrainingset accuracy : {:.3f}\".format(mnbModel.score(X_train2, y_train2)))\n",
    "print(\"\\ntestset accuracy : {:.3f}\".format(mnbModel.score(X_val2, y_val2)))"
   ]
  },
  {
   "cell_type": "markdown",
   "metadata": {},
   "source": [
    "# 3) Hannanum2, Tf-idf"
   ]
  },
  {
   "cell_type": "code",
   "execution_count": 229,
   "metadata": {},
   "outputs": [
    {
     "name": "stdout",
     "output_type": "stream",
     "text": [
      "\n",
      "trainingset accuracy : 0.555\n",
      "\n",
      "testset accuracy : 0.543\n"
     ]
    }
   ],
   "source": [
    "mnbModel = MultinomialNB(alpha = 0.1)\n",
    "mnbModel.fit(X_train3, y_train3)\n",
    "print(\"\\ntrainingset accuracy : {:.3f}\".format(mnbModel.score(X_train3, y_train3)))\n",
    "print(\"\\ntestset accuracy : {:.3f}\".format(mnbModel.score(X_val3, y_val3)))"
   ]
  },
  {
   "cell_type": "code",
   "execution_count": 280,
   "metadata": {},
   "outputs": [
    {
     "name": "stdout",
     "output_type": "stream",
     "text": [
      "\n",
      "trainingset accuracy : 0.553\n",
      "\n",
      "testset accuracy : 0.543\n"
     ]
    }
   ],
   "source": [
    "mnbModel = MultinomialNB(alpha = 1)\n",
    "mnbModel.fit(X_train3, y_train3)\n",
    "print(\"\\ntrainingset accuracy : {:.3f}\".format(mnbModel.score(X_train3, y_train3)))\n",
    "print(\"\\ntestset accuracy : {:.3f}\".format(mnbModel.score(X_val3, y_val3)))"
   ]
  },
  {
   "cell_type": "markdown",
   "metadata": {},
   "source": [
    "# 4) Hannanum3, Tf-idf"
   ]
  },
  {
   "cell_type": "code",
   "execution_count": 308,
   "metadata": {},
   "outputs": [
    {
     "name": "stdout",
     "output_type": "stream",
     "text": [
      "\n",
      "trainingset accuracy : 0.554\n",
      "\n",
      "testset accuracy : 0.544\n"
     ]
    }
   ],
   "source": [
    "mnbModel = MultinomialNB(alpha = 1)\n",
    "mnbModel.fit(X_train4, y_train4)\n",
    "print(\"\\ntrainingset accuracy : {:.3f}\".format(mnbModel.score(X_train4, y_train4)))\n",
    "print(\"\\ntestset accuracy : {:.3f}\".format(mnbModel.score(X_val4, y_val4)))"
   ]
  },
  {
   "cell_type": "code",
   "execution_count": null,
   "metadata": {},
   "outputs": [],
   "source": []
  },
  {
   "cell_type": "code",
   "execution_count": null,
   "metadata": {},
   "outputs": [],
   "source": []
  },
  {
   "cell_type": "markdown",
   "metadata": {},
   "source": [
    "# Multinomial Naive Bayes: class == 징역/무기징역, 무죄/벌금/집행유예\n",
    "\n",
    "# 1) Hannanum, Tf-idf"
   ]
  },
  {
   "cell_type": "code",
   "execution_count": 360,
   "metadata": {},
   "outputs": [
    {
     "name": "stdout",
     "output_type": "stream",
     "text": [
      "\n",
      "trainingset accuracy : 69.221\n",
      "\n",
      "testset accuracy : 68.620\n"
     ]
    }
   ],
   "source": [
    "mnbModel = MultinomialNB(alpha = 1)\n",
    "mnbModel.fit(X_train5, y_train5)\n",
    "print(\"\\ntrainingset accuracy : {:.3f}\".format(mnbModel.score(X_train5, y_train5) * 100))\n",
    "print(\"\\ntestset accuracy : {:.3f}\".format(mnbModel.score(X_val5, y_val5) * 100))"
   ]
  },
  {
   "cell_type": "code",
   "execution_count": 350,
   "metadata": {},
   "outputs": [
    {
     "name": "stdout",
     "output_type": "stream",
     "text": [
      "\n",
      "trainingset accuracy : 70.254\n",
      "\n",
      "testset accuracy : 69.181\n"
     ]
    }
   ],
   "source": [
    "# max_features = 10000\n",
    "mnbModel = MultinomialNB(alpha = 1)\n",
    "mnbModel.fit(X_train8, y_train8)\n",
    "print(\"\\ntrainingset accuracy : {:.3f}\".format(mnbModel.score(X_train8, y_train8) * 100))\n",
    "print(\"\\ntestset accuracy : {:.3f}\".format(mnbModel.score(X_val8, y_val8) * 100))"
   ]
  },
  {
   "cell_type": "code",
   "execution_count": 357,
   "metadata": {},
   "outputs": [
    {
     "name": "stdout",
     "output_type": "stream",
     "text": [
      "\n",
      "trainingset accuracy : 69.651\n",
      "\n",
      "testset accuracy : 68.758\n"
     ]
    }
   ],
   "source": [
    "# max_features = 7000\n",
    "mnbModel = MultinomialNB(alpha = 1)\n",
    "mnbModel.fit(X_train9, y_train9)\n",
    "print(\"\\ntrainingset accuracy : {:.3f}\".format(mnbModel.score(X_train9, y_train9) * 100))\n",
    "print(\"\\ntestset accuracy : {:.3f}\".format(mnbModel.score(X_val9, y_val9) * 100))"
   ]
  },
  {
   "cell_type": "code",
   "execution_count": null,
   "metadata": {},
   "outputs": [],
   "source": []
  },
  {
   "cell_type": "markdown",
   "metadata": {},
   "source": [
    "# 2) Okt, Tf-idf"
   ]
  },
  {
   "cell_type": "code",
   "execution_count": 303,
   "metadata": {},
   "outputs": [
    {
     "name": "stdout",
     "output_type": "stream",
     "text": [
      "\n",
      "trainingset accuracy : 0.681\n",
      "\n",
      "testset accuracy : 0.676\n"
     ]
    }
   ],
   "source": [
    "mnbModel = MultinomialNB(alpha = 1)\n",
    "mnbModel.fit(X_train6, y_train6)\n",
    "print(\"\\ntrainingset accuracy : {:.3f}\".format(mnbModel.score(X_train6, y_train6)))\n",
    "print(\"\\ntestset accuracy : {:.3f}\".format(mnbModel.score(X_val6, y_val6)))"
   ]
  },
  {
   "cell_type": "code",
   "execution_count": null,
   "metadata": {},
   "outputs": [],
   "source": []
  },
  {
   "cell_type": "markdown",
   "metadata": {},
   "source": [
    "# 3) Hannanum3, Tf-idf"
   ]
  },
  {
   "cell_type": "code",
   "execution_count": 305,
   "metadata": {},
   "outputs": [
    {
     "name": "stdout",
     "output_type": "stream",
     "text": [
      "\n",
      "trainingset accuracy : 0.685\n",
      "\n",
      "testset accuracy : 0.678\n"
     ]
    }
   ],
   "source": [
    "mnbModel = MultinomialNB(alpha = 1)\n",
    "mnbModel.fit(X_train7, y_train7)\n",
    "print(\"\\ntrainingset accuracy : {:.3f}\".format(mnbModel.score(X_train7, y_train7)))\n",
    "print(\"\\ntestset accuracy : {:.3f}\".format(mnbModel.score(X_val7, y_val7)))"
   ]
  },
  {
   "cell_type": "code",
   "execution_count": null,
   "metadata": {},
   "outputs": [],
   "source": []
  },
  {
   "cell_type": "markdown",
   "metadata": {},
   "source": [
    "# 4) Okt, Tf-idf"
   ]
  },
  {
   "cell_type": "code",
   "execution_count": 390,
   "metadata": {},
   "outputs": [
    {
     "name": "stdout",
     "output_type": "stream",
     "text": [
      "\n",
      "trainingset accuracy : 67.729\n",
      "\n",
      "testset accuracy : 67.989\n"
     ]
    }
   ],
   "source": [
    "mnbModel = MultinomialNB(alpha = 1)\n",
    "mnbModel.fit(X_train_1, y_train_1)\n",
    "print(\"\\ntrainingset accuracy : {:.3f}\".format(mnbModel.score(X_train_1, y_train_1) * 100))\n",
    "print(\"\\ntestset accuracy : {:.3f}\".format(mnbModel.score(X_val_1, y_val_1) * 100))"
   ]
  },
  {
   "cell_type": "code",
   "execution_count": null,
   "metadata": {},
   "outputs": [],
   "source": []
  },
  {
   "cell_type": "code",
   "execution_count": 12,
   "metadata": {
    "scrolled": true
   },
   "outputs": [
    {
     "name": "stdout",
     "output_type": "stream",
     "text": [
      "\n",
      "trainingset accuracy : 68.253\n",
      "\n",
      "testset accuracy : 68.294\n"
     ]
    }
   ],
   "source": [
    "mnbModel = MultinomialNB(alpha = 1)\n",
    "mnbModel.fit(X_resampled, y_resampled)\n",
    "print(\"\\ntrainingset accuracy : {:.3f}\".format(mnbModel.score(X_resampled, y_resampled) * 100))\n",
    "print(\"\\ntestset accuracy : {:.3f}\".format(mnbModel.score(X_val5, y_val5) * 100))"
   ]
  },
  {
   "cell_type": "code",
   "execution_count": null,
   "metadata": {},
   "outputs": [],
   "source": []
  },
  {
   "cell_type": "markdown",
   "metadata": {},
   "source": [
    "# Multinomial Naive Bayes: class == 유죄, 무죄"
   ]
  },
  {
   "cell_type": "code",
   "execution_count": 26,
   "metadata": {},
   "outputs": [
    {
     "name": "stdout",
     "output_type": "stream",
     "text": [
      "\n",
      "trainingset accuracy : 85.938\n",
      "\n",
      "testset accuracy : 86.126\n"
     ]
    }
   ],
   "source": [
    "mnbModel = MultinomialNB(alpha = 1)\n",
    "mnbModel.fit(X_train_2, y_train_2)\n",
    "print(\"\\ntrainingset accuracy : {:.3f}\".format(mnbModel.score(X_train_2, y_train_2) * 100))\n",
    "print(\"\\ntestset accuracy : {:.3f}\".format(mnbModel.score(X_val_2, y_val_2) * 100))"
   ]
  },
  {
   "cell_type": "code",
   "execution_count": null,
   "metadata": {},
   "outputs": [],
   "source": []
  },
  {
   "cell_type": "code",
   "execution_count": 31,
   "metadata": {},
   "outputs": [
    {
     "name": "stdout",
     "output_type": "stream",
     "text": [
      "\n",
      "trainingset accuracy : 78.262\n",
      "\n",
      "testset accuracy : 77.487\n"
     ]
    }
   ],
   "source": [
    "mnbModel = MultinomialNB(alpha = 1)\n",
    "mnbModel.fit(X_resampled, y_resampled)\n",
    "print(\"\\ntrainingset accuracy : {:.3f}\".format(mnbModel.score(X_resampled, y_resampled) * 100))\n",
    "print(\"\\ntestset accuracy : {:.3f}\".format(mnbModel.score(X_val_2, y_val_2) * 100))"
   ]
  },
  {
   "cell_type": "code",
   "execution_count": null,
   "metadata": {},
   "outputs": [],
   "source": []
  },
  {
   "cell_type": "code",
   "execution_count": 9,
   "metadata": {},
   "outputs": [
    {
     "name": "stdout",
     "output_type": "stream",
     "text": [
      "\n",
      "trainingset accuracy : 85.876\n",
      "\n",
      "testset accuracy : 85.828\n"
     ]
    }
   ],
   "source": [
    "# Tf-idf features = 6000\n",
    "mnbModel = MultinomialNB(alpha = 1)\n",
    "mnbModel.fit(X_train_3, y_train_3)\n",
    "print(\"\\ntrainingset accuracy : {:.3f}\".format(mnbModel.score(X_train_3, y_train_3) * 100))\n",
    "print(\"\\ntestset accuracy : {:.3f}\".format(mnbModel.score(X_val_3, y_val_3) * 100))"
   ]
  },
  {
   "cell_type": "code",
   "execution_count": null,
   "metadata": {},
   "outputs": [],
   "source": []
  },
  {
   "cell_type": "code",
   "execution_count": null,
   "metadata": {},
   "outputs": [],
   "source": []
  },
  {
   "cell_type": "code",
   "execution_count": null,
   "metadata": {},
   "outputs": [],
   "source": []
  },
  {
   "cell_type": "code",
   "execution_count": null,
   "metadata": {},
   "outputs": [],
   "source": []
  },
  {
   "cell_type": "code",
   "execution_count": null,
   "metadata": {},
   "outputs": [],
   "source": []
  },
  {
   "cell_type": "markdown",
   "metadata": {},
   "source": [
    "# LGBM 학습전 y 전처리"
   ]
  },
  {
   "cell_type": "code",
   "execution_count": 330,
   "metadata": {},
   "outputs": [],
   "source": [
    "y_train_lgb = np.zeros(len(y_train))\n",
    "for idx, y in enumerate(y_train):\n",
    "    if y == '무죄':\n",
    "        y_train_lgb[idx] = 0\n",
    "    elif y == '벌금':\n",
    "        y_train_lgb[idx] = 1\n",
    "    elif y == '집행유예':\n",
    "        y_train_lgb[idx] = 2\n",
    "    elif y == '징역':\n",
    "        y_train_lgb[idx] = 3\n",
    "    else:\n",
    "        y_train_lgb[idx] = 4"
   ]
  },
  {
   "cell_type": "code",
   "execution_count": 331,
   "metadata": {},
   "outputs": [],
   "source": [
    "y_val_lgb = np.zeros(len(y_val))\n",
    "for idx, y in enumerate(y_val):\n",
    "    if y == '무죄':\n",
    "        y_val_lgb[idx] = 0\n",
    "    elif y == '벌금':\n",
    "        y_val_lgb[idx] = 1\n",
    "    elif y == '집행유예':\n",
    "        y_val_lgb[idx] = 2\n",
    "    elif y == '징역':\n",
    "        y_val_lgb[idx] = 3\n",
    "    else:\n",
    "        y_val_lgb[idx] = 4"
   ]
  },
  {
   "cell_type": "markdown",
   "metadata": {},
   "source": [
    "# 유죄/무죄"
   ]
  },
  {
   "cell_type": "code",
   "execution_count": 10,
   "metadata": {},
   "outputs": [],
   "source": [
    "y_train_lgb2 = np.zeros(len(y_train_2))\n",
    "for idx, y in enumerate(y_train_2):\n",
    "    if y == '무죄':\n",
    "        y_train_lgb2[idx] = 0\n",
    "    else:\n",
    "        y_train_lgb2[idx] = 1"
   ]
  },
  {
   "cell_type": "code",
   "execution_count": 11,
   "metadata": {},
   "outputs": [],
   "source": [
    "y_val_lgb2 = np.zeros(len(y_val_2))\n",
    "for idx, y in enumerate(y_val_2):\n",
    "    if y == '무죄':\n",
    "        y_val_lgb2[idx] = 0\n",
    "    else:\n",
    "        y_val_lgb2[idx] = 1"
   ]
  },
  {
   "cell_type": "code",
   "execution_count": null,
   "metadata": {},
   "outputs": [],
   "source": []
  },
  {
   "cell_type": "markdown",
   "metadata": {},
   "source": [
    "# LGBM\n",
    "\n",
    "objective: options - regression, binary, multiclass<br>\n",
    "meric: options - mae, rmse, mape, binary_logloss, auc, cross_entropy, kullbac_leibler<br>\n",
    "learning_rate: 일반적으로 0.01~0.1 정도로 맞추고 다른 파라미터를 튜닝, 나중에 성능을 높일 때 learning rate를 더 줄인다<br>\n",
    "num_iterations: 기본값은 100인데 1000정도가 좋음, 너무 크면 과적합 발생 (같은 뜻인 옵션: num_itration, n_iter, num_tree, num_trees, num_rounds, num_boost_round, n_estimators)<br>\n",
    "max_depth: -1로 설정하면 제한 없이 분기, feature가 많다면 크게 설정, 파라미터 설정 시 우선적으로 설정<br>\n",
    "boosting: options - default(gbdt), rf, dart, goss<br>\n",
    "bagging_fraction: 배깅을 하기 위해서 데이터를 랜덤 샘플링하여 학습에 사용, 0 < fraction <= 1이며 0이 되지 않게<br>\n",
    "scale_pos_weight: 클래스 불균형의 데이터셋에서 weight를 주는 방식으로 positive를 증가시킨다. 기본값은 1이며 불균형 정도에 따라 조절<br>\n",
    "early_stopping_round: validation셋에서 평가지표가 더 이상 향상되지 않으면, 학습 정지한다. 평가지표의 향상이 n round이상 지속되면 학습을 정지<br>\n",
    "lambda_l1, lambda_l2: 정규화를 통해 과적합을 방지할 수 있지만, 정확도를 저하시킬 수도 있기 때문에 일반적으로 default값인 0으로 둔다.<br><br>\n",
    "\n",
    "- 더 빠른 속도<br>\n",
    "bagging_fraction<br>\n",
    "max_bin 작게<br>\n",
    "save_binary 쓰면 데이터 로딩 속도 빨라짐<br>\n",
    "parallel learning 사용<br><br>\n",
    "\n",
    "- 더 높은 정확도<br>\n",
    "max_bin 크게<br>\n",
    "num_iterations는 크게 하고 learning_rate는 작게<br>\n",
    "num_leaves는 크게(과적합의 원인이 될 수 있음)<br>\n",
    "boosting 알고리즘 'dart'사용<br><br>\n",
    "\n",
    "- 과적합 줄이기<br>\n",
    "max_bin 작게<br>\n",
    "num_learves 작게<br>\n",
    "min_data_in_leaf와 min_sum_hessian_in_leaf 사용"
   ]
  },
  {
   "cell_type": "code",
   "execution_count": 12,
   "metadata": {
    "scrolled": true
   },
   "outputs": [
    {
     "name": "stdout",
     "output_type": "stream",
     "text": [
      "[LightGBM] [Info] Number of positive: 48969, number of negative: 8720\n",
      "[LightGBM] [Warning] Auto-choosing col-wise multi-threading, the overhead of testing was 0.689143 seconds.\n",
      "You can set `force_col_wise=true` to remove the overhead.\n",
      "[LightGBM] [Info] Total Bins 765434\n",
      "[LightGBM] [Info] Number of data points in the train set: 57689, number of used features: 4997\n",
      "[LightGBM] [Info] [binary:BoostFromScore]: pavg=0.848845 -> initscore=1.725568\n",
      "[LightGBM] [Info] Start training from score 1.725568\n",
      "Training until validation scores don't improve for 100 rounds\n",
      "[100]\tvalid_0's binary_logloss: 0.281078\n",
      "[LightGBM] [Warning] No further splits with positive gain, best gain: -inf\n",
      "[LightGBM] [Warning] No further splits with positive gain, best gain: -inf\n",
      "[LightGBM] [Warning] No further splits with positive gain, best gain: -inf\n",
      "[LightGBM] [Warning] No further splits with positive gain, best gain: -inf\n",
      "[LightGBM] [Warning] No further splits with positive gain, best gain: -inf\n",
      "[LightGBM] [Warning] No further splits with positive gain, best gain: -inf\n",
      "[LightGBM] [Warning] No further splits with positive gain, best gain: -inf\n",
      "[LightGBM] [Warning] No further splits with positive gain, best gain: -inf\n",
      "[LightGBM] [Warning] No further splits with positive gain, best gain: -inf\n",
      "[LightGBM] [Warning] No further splits with positive gain, best gain: -inf\n",
      "[LightGBM] [Warning] No further splits with positive gain, best gain: -inf\n",
      "[LightGBM] [Warning] No further splits with positive gain, best gain: -inf\n",
      "[LightGBM] [Warning] No further splits with positive gain, best gain: -inf\n",
      "[LightGBM] [Warning] No further splits with positive gain, best gain: -inf\n",
      "[LightGBM] [Warning] No further splits with positive gain, best gain: -inf\n",
      "[LightGBM] [Warning] No further splits with positive gain, best gain: -inf\n",
      "[LightGBM] [Warning] No further splits with positive gain, best gain: -inf\n",
      "[LightGBM] [Warning] No further splits with positive gain, best gain: -inf\n",
      "[LightGBM] [Warning] No further splits with positive gain, best gain: -inf\n",
      "[LightGBM] [Warning] No further splits with positive gain, best gain: -inf\n",
      "[LightGBM] [Warning] No further splits with positive gain, best gain: -inf\n",
      "[LightGBM] [Warning] No further splits with positive gain, best gain: -inf\n",
      "[LightGBM] [Warning] No further splits with positive gain, best gain: -inf\n",
      "[LightGBM] [Warning] No further splits with positive gain, best gain: -inf\n",
      "[LightGBM] [Warning] No further splits with positive gain, best gain: -inf\n",
      "[LightGBM] [Warning] No further splits with positive gain, best gain: -inf\n",
      "[LightGBM] [Warning] No further splits with positive gain, best gain: -inf\n",
      "[LightGBM] [Warning] No further splits with positive gain, best gain: -inf\n",
      "[LightGBM] [Warning] No further splits with positive gain, best gain: -inf\n",
      "[LightGBM] [Warning] No further splits with positive gain, best gain: -inf\n",
      "[LightGBM] [Warning] No further splits with positive gain, best gain: -inf\n",
      "[LightGBM] [Warning] No further splits with positive gain, best gain: -inf\n",
      "[LightGBM] [Warning] No further splits with positive gain, best gain: -inf\n",
      "[LightGBM] [Warning] No further splits with positive gain, best gain: -inf\n",
      "[LightGBM] [Warning] No further splits with positive gain, best gain: -inf\n",
      "[LightGBM] [Warning] No further splits with positive gain, best gain: -inf\n",
      "[LightGBM] [Warning] No further splits with positive gain, best gain: -inf\n",
      "[LightGBM] [Warning] No further splits with positive gain, best gain: -inf\n",
      "[LightGBM] [Warning] No further splits with positive gain, best gain: -inf\n",
      "[LightGBM] [Warning] No further splits with positive gain, best gain: -inf\n",
      "[200]\tvalid_0's binary_logloss: 0.27027\n",
      "[LightGBM] [Warning] No further splits with positive gain, best gain: -inf\n",
      "[LightGBM] [Warning] No further splits with positive gain, best gain: -inf\n",
      "[LightGBM] [Warning] No further splits with positive gain, best gain: -inf\n",
      "[LightGBM] [Warning] No further splits with positive gain, best gain: -inf\n",
      "[LightGBM] [Warning] No further splits with positive gain, best gain: -inf\n",
      "[LightGBM] [Warning] No further splits with positive gain, best gain: -inf\n",
      "[LightGBM] [Warning] No further splits with positive gain, best gain: -inf\n",
      "[LightGBM] [Warning] No further splits with positive gain, best gain: -inf\n",
      "[LightGBM] [Warning] No further splits with positive gain, best gain: -inf\n",
      "[LightGBM] [Warning] No further splits with positive gain, best gain: -inf\n",
      "[LightGBM] [Warning] No further splits with positive gain, best gain: -inf\n",
      "[LightGBM] [Warning] No further splits with positive gain, best gain: -inf\n",
      "[LightGBM] [Warning] No further splits with positive gain, best gain: -inf\n",
      "[LightGBM] [Warning] No further splits with positive gain, best gain: -inf\n",
      "[LightGBM] [Warning] No further splits with positive gain, best gain: -inf\n",
      "[LightGBM] [Warning] No further splits with positive gain, best gain: -inf\n",
      "[LightGBM] [Warning] No further splits with positive gain, best gain: -inf\n",
      "[LightGBM] [Warning] No further splits with positive gain, best gain: -inf\n",
      "[LightGBM] [Warning] No further splits with positive gain, best gain: -inf\n",
      "[LightGBM] [Warning] No further splits with positive gain, best gain: -inf\n",
      "[LightGBM] [Warning] No further splits with positive gain, best gain: -inf\n",
      "[LightGBM] [Warning] No further splits with positive gain, best gain: -inf\n",
      "[LightGBM] [Warning] No further splits with positive gain, best gain: -inf\n",
      "[LightGBM] [Warning] No further splits with positive gain, best gain: -inf\n",
      "[LightGBM] [Warning] No further splits with positive gain, best gain: -inf\n",
      "[LightGBM] [Warning] No further splits with positive gain, best gain: -inf\n",
      "[LightGBM] [Warning] No further splits with positive gain, best gain: -inf\n",
      "[LightGBM] [Warning] No further splits with positive gain, best gain: -inf\n",
      "[LightGBM] [Warning] No further splits with positive gain, best gain: -inf\n",
      "[LightGBM] [Warning] No further splits with positive gain, best gain: -inf\n",
      "[LightGBM] [Warning] No further splits with positive gain, best gain: -inf\n",
      "[LightGBM] [Warning] No further splits with positive gain, best gain: -inf\n",
      "[LightGBM] [Warning] No further splits with positive gain, best gain: -inf\n",
      "[LightGBM] [Warning] No further splits with positive gain, best gain: -inf\n",
      "[LightGBM] [Warning] No further splits with positive gain, best gain: -inf\n",
      "[LightGBM] [Warning] No further splits with positive gain, best gain: -inf\n",
      "[LightGBM] [Warning] No further splits with positive gain, best gain: -inf\n",
      "[LightGBM] [Warning] No further splits with positive gain, best gain: -inf\n",
      "[LightGBM] [Warning] No further splits with positive gain, best gain: -inf\n",
      "[LightGBM] [Warning] No further splits with positive gain, best gain: -inf\n",
      "[LightGBM] [Warning] No further splits with positive gain, best gain: -inf\n",
      "[LightGBM] [Warning] No further splits with positive gain, best gain: -inf\n",
      "[LightGBM] [Warning] No further splits with positive gain, best gain: -inf\n",
      "[LightGBM] [Warning] No further splits with positive gain, best gain: -inf\n",
      "[LightGBM] [Warning] No further splits with positive gain, best gain: -inf\n",
      "[LightGBM] [Warning] No further splits with positive gain, best gain: -inf\n",
      "[LightGBM] [Warning] No further splits with positive gain, best gain: -inf\n",
      "[LightGBM] [Warning] No further splits with positive gain, best gain: -inf\n",
      "[LightGBM] [Warning] No further splits with positive gain, best gain: -inf\n",
      "[LightGBM] [Warning] No further splits with positive gain, best gain: -inf\n",
      "[LightGBM] [Warning] No further splits with positive gain, best gain: -inf\n",
      "[LightGBM] [Warning] No further splits with positive gain, best gain: -inf\n",
      "[LightGBM] [Warning] No further splits with positive gain, best gain: -inf\n",
      "[LightGBM] [Warning] No further splits with positive gain, best gain: -inf\n",
      "[LightGBM] [Warning] No further splits with positive gain, best gain: -inf\n",
      "[LightGBM] [Warning] No further splits with positive gain, best gain: -inf\n",
      "[LightGBM] [Warning] No further splits with positive gain, best gain: -inf\n",
      "[LightGBM] [Warning] No further splits with positive gain, best gain: -inf\n",
      "[LightGBM] [Warning] No further splits with positive gain, best gain: -inf\n",
      "[LightGBM] [Warning] No further splits with positive gain, best gain: -inf\n",
      "[LightGBM] [Warning] No further splits with positive gain, best gain: -inf\n"
     ]
    },
    {
     "name": "stdout",
     "output_type": "stream",
     "text": [
      "[LightGBM] [Warning] No further splits with positive gain, best gain: -inf\n",
      "[LightGBM] [Warning] No further splits with positive gain, best gain: -inf\n",
      "[LightGBM] [Warning] No further splits with positive gain, best gain: -inf\n",
      "[LightGBM] [Warning] No further splits with positive gain, best gain: -inf\n",
      "[LightGBM] [Warning] No further splits with positive gain, best gain: -inf\n",
      "[LightGBM] [Warning] No further splits with positive gain, best gain: -inf\n",
      "[LightGBM] [Warning] No further splits with positive gain, best gain: -inf\n",
      "[LightGBM] [Warning] No further splits with positive gain, best gain: -inf\n",
      "[LightGBM] [Warning] No further splits with positive gain, best gain: -inf\n",
      "[LightGBM] [Warning] No further splits with positive gain, best gain: -inf\n",
      "[LightGBM] [Warning] No further splits with positive gain, best gain: -inf\n",
      "[LightGBM] [Warning] No further splits with positive gain, best gain: -inf\n",
      "[300]\tvalid_0's binary_logloss: 0.268645\n",
      "[LightGBM] [Warning] No further splits with positive gain, best gain: -inf\n",
      "[LightGBM] [Warning] No further splits with positive gain, best gain: -inf\n",
      "[LightGBM] [Warning] No further splits with positive gain, best gain: -inf\n",
      "[LightGBM] [Warning] No further splits with positive gain, best gain: -inf\n",
      "[LightGBM] [Warning] No further splits with positive gain, best gain: -inf\n",
      "[LightGBM] [Warning] No further splits with positive gain, best gain: -inf\n",
      "[LightGBM] [Warning] No further splits with positive gain, best gain: -inf\n",
      "[LightGBM] [Warning] No further splits with positive gain, best gain: -inf\n",
      "[LightGBM] [Warning] No further splits with positive gain, best gain: -inf\n",
      "[LightGBM] [Warning] No further splits with positive gain, best gain: -inf\n",
      "[LightGBM] [Warning] No further splits with positive gain, best gain: -inf\n",
      "[LightGBM] [Warning] No further splits with positive gain, best gain: -inf\n",
      "[LightGBM] [Warning] No further splits with positive gain, best gain: -inf\n",
      "[LightGBM] [Warning] No further splits with positive gain, best gain: -inf\n",
      "[LightGBM] [Warning] No further splits with positive gain, best gain: -inf\n",
      "[LightGBM] [Warning] No further splits with positive gain, best gain: -inf\n",
      "[LightGBM] [Warning] No further splits with positive gain, best gain: -inf\n",
      "[LightGBM] [Warning] No further splits with positive gain, best gain: -inf\n",
      "[LightGBM] [Warning] No further splits with positive gain, best gain: -inf\n",
      "[LightGBM] [Warning] No further splits with positive gain, best gain: -inf\n",
      "[LightGBM] [Warning] No further splits with positive gain, best gain: -inf\n",
      "[LightGBM] [Warning] No further splits with positive gain, best gain: -inf\n",
      "[LightGBM] [Warning] No further splits with positive gain, best gain: -inf\n",
      "[LightGBM] [Warning] No further splits with positive gain, best gain: -inf\n",
      "[LightGBM] [Warning] No further splits with positive gain, best gain: -inf\n",
      "[LightGBM] [Warning] No further splits with positive gain, best gain: -inf\n",
      "[LightGBM] [Warning] No further splits with positive gain, best gain: -inf\n",
      "[LightGBM] [Warning] No further splits with positive gain, best gain: -inf\n",
      "[LightGBM] [Warning] No further splits with positive gain, best gain: -inf\n",
      "[LightGBM] [Warning] No further splits with positive gain, best gain: -inf\n",
      "[LightGBM] [Warning] No further splits with positive gain, best gain: -inf\n",
      "[LightGBM] [Warning] No further splits with positive gain, best gain: -inf\n",
      "[LightGBM] [Warning] No further splits with positive gain, best gain: -inf\n",
      "[LightGBM] [Warning] No further splits with positive gain, best gain: -inf\n",
      "[LightGBM] [Warning] No further splits with positive gain, best gain: -inf\n",
      "[LightGBM] [Warning] No further splits with positive gain, best gain: -inf\n",
      "[LightGBM] [Warning] No further splits with positive gain, best gain: -inf\n",
      "[LightGBM] [Warning] No further splits with positive gain, best gain: -inf\n",
      "[LightGBM] [Warning] No further splits with positive gain, best gain: -inf\n",
      "[LightGBM] [Warning] No further splits with positive gain, best gain: -inf\n",
      "[LightGBM] [Warning] No further splits with positive gain, best gain: -inf\n",
      "[LightGBM] [Warning] No further splits with positive gain, best gain: -inf\n",
      "[LightGBM] [Warning] No further splits with positive gain, best gain: -inf\n",
      "[LightGBM] [Warning] No further splits with positive gain, best gain: -inf\n",
      "[LightGBM] [Warning] No further splits with positive gain, best gain: -inf\n",
      "[LightGBM] [Warning] No further splits with positive gain, best gain: -inf\n",
      "[LightGBM] [Warning] No further splits with positive gain, best gain: -inf\n",
      "[LightGBM] [Warning] No further splits with positive gain, best gain: -inf\n",
      "[LightGBM] [Warning] No further splits with positive gain, best gain: -inf\n",
      "[LightGBM] [Warning] No further splits with positive gain, best gain: -inf\n",
      "[LightGBM] [Warning] No further splits with positive gain, best gain: -inf\n",
      "[LightGBM] [Warning] No further splits with positive gain, best gain: -inf\n",
      "[LightGBM] [Warning] No further splits with positive gain, best gain: -inf\n",
      "[LightGBM] [Warning] No further splits with positive gain, best gain: -inf\n",
      "[LightGBM] [Warning] No further splits with positive gain, best gain: -inf\n",
      "[LightGBM] [Warning] No further splits with positive gain, best gain: -inf\n",
      "[LightGBM] [Warning] No further splits with positive gain, best gain: -inf\n",
      "[LightGBM] [Warning] No further splits with positive gain, best gain: -inf\n",
      "[LightGBM] [Warning] No further splits with positive gain, best gain: -inf\n",
      "[LightGBM] [Warning] No further splits with positive gain, best gain: -inf\n",
      "[LightGBM] [Warning] No further splits with positive gain, best gain: -inf\n",
      "[LightGBM] [Warning] No further splits with positive gain, best gain: -inf\n",
      "[LightGBM] [Warning] No further splits with positive gain, best gain: -inf\n",
      "[LightGBM] [Warning] No further splits with positive gain, best gain: -inf\n",
      "[LightGBM] [Warning] No further splits with positive gain, best gain: -inf\n",
      "[LightGBM] [Warning] No further splits with positive gain, best gain: -inf\n",
      "[LightGBM] [Warning] No further splits with positive gain, best gain: -inf\n",
      "[LightGBM] [Warning] No further splits with positive gain, best gain: -inf\n",
      "[LightGBM] [Warning] No further splits with positive gain, best gain: -inf\n",
      "[LightGBM] [Warning] No further splits with positive gain, best gain: -inf\n",
      "[LightGBM] [Warning] No further splits with positive gain, best gain: -inf\n",
      "[LightGBM] [Warning] No further splits with positive gain, best gain: -inf\n",
      "[LightGBM] [Warning] No further splits with positive gain, best gain: -inf\n",
      "[LightGBM] [Warning] No further splits with positive gain, best gain: -inf\n",
      "[LightGBM] [Warning] No further splits with positive gain, best gain: -inf\n",
      "[LightGBM] [Warning] No further splits with positive gain, best gain: -inf\n",
      "[LightGBM] [Warning] No further splits with positive gain, best gain: -inf\n",
      "[LightGBM] [Warning] No further splits with positive gain, best gain: -inf\n",
      "[LightGBM] [Warning] No further splits with positive gain, best gain: -inf\n",
      "[LightGBM] [Warning] No further splits with positive gain, best gain: -inf\n",
      "[LightGBM] [Warning] No further splits with positive gain, best gain: -inf\n",
      "[400]\tvalid_0's binary_logloss: 0.268486\n",
      "[LightGBM] [Warning] No further splits with positive gain, best gain: -inf\n",
      "[LightGBM] [Warning] No further splits with positive gain, best gain: -inf\n",
      "[LightGBM] [Warning] No further splits with positive gain, best gain: -inf\n",
      "[LightGBM] [Warning] No further splits with positive gain, best gain: -inf\n",
      "[LightGBM] [Warning] No further splits with positive gain, best gain: -inf\n",
      "[LightGBM] [Warning] No further splits with positive gain, best gain: -inf\n",
      "[LightGBM] [Warning] No further splits with positive gain, best gain: -inf\n",
      "[LightGBM] [Warning] No further splits with positive gain, best gain: -inf\n",
      "[LightGBM] [Warning] No further splits with positive gain, best gain: -inf\n",
      "[LightGBM] [Warning] No further splits with positive gain, best gain: -inf\n",
      "[LightGBM] [Warning] No further splits with positive gain, best gain: -inf\n",
      "[LightGBM] [Warning] No further splits with positive gain, best gain: -inf\n",
      "[LightGBM] [Warning] No further splits with positive gain, best gain: -inf\n",
      "[LightGBM] [Warning] No further splits with positive gain, best gain: -inf\n",
      "[LightGBM] [Warning] No further splits with positive gain, best gain: -inf\n",
      "[LightGBM] [Warning] No further splits with positive gain, best gain: -inf\n"
     ]
    },
    {
     "name": "stdout",
     "output_type": "stream",
     "text": [
      "[LightGBM] [Warning] No further splits with positive gain, best gain: -inf\n",
      "[LightGBM] [Warning] No further splits with positive gain, best gain: -inf\n",
      "[LightGBM] [Warning] No further splits with positive gain, best gain: -inf\n",
      "[LightGBM] [Warning] No further splits with positive gain, best gain: -inf\n",
      "[LightGBM] [Warning] No further splits with positive gain, best gain: -inf\n",
      "[LightGBM] [Warning] No further splits with positive gain, best gain: -inf\n",
      "[LightGBM] [Warning] No further splits with positive gain, best gain: -inf\n",
      "[LightGBM] [Warning] No further splits with positive gain, best gain: -inf\n",
      "[LightGBM] [Warning] No further splits with positive gain, best gain: -inf\n",
      "[LightGBM] [Warning] No further splits with positive gain, best gain: -inf\n",
      "[LightGBM] [Warning] No further splits with positive gain, best gain: -inf\n",
      "[LightGBM] [Warning] No further splits with positive gain, best gain: -inf\n",
      "[LightGBM] [Warning] No further splits with positive gain, best gain: -inf\n",
      "[LightGBM] [Warning] No further splits with positive gain, best gain: -inf\n",
      "[LightGBM] [Warning] No further splits with positive gain, best gain: -inf\n",
      "[LightGBM] [Warning] No further splits with positive gain, best gain: -inf\n",
      "[LightGBM] [Warning] No further splits with positive gain, best gain: -inf\n",
      "[LightGBM] [Warning] No further splits with positive gain, best gain: -inf\n",
      "[LightGBM] [Warning] No further splits with positive gain, best gain: -inf\n",
      "[LightGBM] [Warning] No further splits with positive gain, best gain: -inf\n",
      "[LightGBM] [Warning] No further splits with positive gain, best gain: -inf\n",
      "[LightGBM] [Warning] No further splits with positive gain, best gain: -inf\n",
      "[LightGBM] [Warning] No further splits with positive gain, best gain: -inf\n",
      "[LightGBM] [Warning] No further splits with positive gain, best gain: -inf\n",
      "[LightGBM] [Warning] No further splits with positive gain, best gain: -inf\n",
      "[LightGBM] [Warning] No further splits with positive gain, best gain: -inf\n",
      "[LightGBM] [Warning] No further splits with positive gain, best gain: -inf\n",
      "[LightGBM] [Warning] No further splits with positive gain, best gain: -inf\n",
      "[LightGBM] [Warning] No further splits with positive gain, best gain: -inf\n",
      "[LightGBM] [Warning] No further splits with positive gain, best gain: -inf\n",
      "Early stopping, best iteration is:\n",
      "[351]\tvalid_0's binary_logloss: 0.267975\n"
     ]
    }
   ],
   "source": [
    "train_ds = lgb.Dataset(X_train_2, label = y_train_lgb2)\n",
    "test_ds = lgb.Dataset(X_val_2, label = y_val_lgb2)\n",
    "params = {'learning_rate':0.03,\n",
    "         'max_depth':16,\n",
    "         'boosting':'gbdt',\n",
    "         'metric':'binary_logloss',\n",
    "         'is_training_metric':True,\n",
    "         'num_leaves':144,\n",
    "         'feature_fraction':0.9,\n",
    "         'bagging_fraction':0.7,\n",
    "         'bagging_freq':5,\n",
    "         'seed':2020,\n",
    "         'objective':'binary'}\n",
    "model = lgb.train(params, train_ds, 1000, test_ds, verbose_eval=100, early_stopping_rounds=100)\n",
    "y_pred = model.predict(X_val_2)"
   ]
  },
  {
   "cell_type": "code",
   "execution_count": 19,
   "metadata": {},
   "outputs": [
    {
     "ename": "NameError",
     "evalue": "name 'lgb_f1_score' is not defined",
     "output_type": "error",
     "traceback": [
      "\u001b[1;31m---------------------------------------------------------------------------\u001b[0m",
      "\u001b[1;31mNameError\u001b[0m                                 Traceback (most recent call last)",
      "\u001b[1;32m<ipython-input-19-7bf66780df6d>\u001b[0m in \u001b[0;36m<module>\u001b[1;34m\u001b[0m\n\u001b[0;32m     12\u001b[0m          \u001b[1;34m'seed'\u001b[0m\u001b[1;33m:\u001b[0m\u001b[1;36m2020\u001b[0m\u001b[1;33m,\u001b[0m\u001b[1;33m\u001b[0m\u001b[1;33m\u001b[0m\u001b[0m\n\u001b[0;32m     13\u001b[0m          'objective':'binary'}\n\u001b[1;32m---> 14\u001b[1;33m \u001b[0mmodel\u001b[0m \u001b[1;33m=\u001b[0m \u001b[0mlgb\u001b[0m\u001b[1;33m.\u001b[0m\u001b[0mtrain\u001b[0m\u001b[1;33m(\u001b[0m\u001b[0mparams\u001b[0m\u001b[1;33m,\u001b[0m \u001b[0mtrain_ds\u001b[0m\u001b[1;33m,\u001b[0m \u001b[1;36m1000\u001b[0m\u001b[1;33m,\u001b[0m \u001b[0mtest_ds\u001b[0m\u001b[1;33m,\u001b[0m \u001b[0mverbose_eval\u001b[0m\u001b[1;33m=\u001b[0m\u001b[1;36m100\u001b[0m\u001b[1;33m,\u001b[0m \u001b[0mearly_stopping_rounds\u001b[0m\u001b[1;33m=\u001b[0m\u001b[1;36m100\u001b[0m\u001b[1;33m,\u001b[0m\u001b[0mfeval\u001b[0m\u001b[1;33m=\u001b[0m\u001b[0mlgb_f1_score\u001b[0m\u001b[1;33m)\u001b[0m\u001b[1;33m\u001b[0m\u001b[1;33m\u001b[0m\u001b[0m\n\u001b[0m\u001b[0;32m     15\u001b[0m \u001b[0my_pred\u001b[0m \u001b[1;33m=\u001b[0m \u001b[0mmodel\u001b[0m\u001b[1;33m.\u001b[0m\u001b[0mpredict\u001b[0m\u001b[1;33m(\u001b[0m\u001b[0mX_val_2\u001b[0m\u001b[1;33m)\u001b[0m\u001b[1;33m\u001b[0m\u001b[1;33m\u001b[0m\u001b[0m\n",
      "\u001b[1;31mNameError\u001b[0m: name 'lgb_f1_score' is not defined"
     ]
    }
   ],
   "source": [
    "train_ds = lgb.Dataset(X_train_2, label = y_train_lgb2)\n",
    "test_ds = lgb.Dataset(X_val_2, label = y_val_lgb2)\n",
    "params = {'learning_rate':0.03,\n",
    "         'max_depth':16,\n",
    "         'boosting':'gbdt',\n",
    "         'metric':'binary_logloss',\n",
    "         'is_training_metric':True,\n",
    "         'num_leaves':144,\n",
    "         'feature_fraction':0.9,\n",
    "         'bagging_fraction':0.7,\n",
    "         'bagging_freq':5,\n",
    "         'seed':2020,\n",
    "         'objective':'binary'}\n",
    "model = lgb.train(params, train_ds, 1000, test_ds, verbose_eval=100, early_stopping_rounds=100,feval=lgb_f1_score)\n",
    "y_pred = model.predict(X_val_2)"
   ]
  },
  {
   "cell_type": "code",
   "execution_count": 17,
   "metadata": {},
   "outputs": [
    {
     "ename": "ValueError",
     "evalue": "Classification metrics can't handle a mix of binary and continuous targets",
     "output_type": "error",
     "traceback": [
      "\u001b[1;31m---------------------------------------------------------------------------\u001b[0m",
      "\u001b[1;31mValueError\u001b[0m                                Traceback (most recent call last)",
      "\u001b[1;32m<ipython-input-17-d1d71ac4d596>\u001b[0m in \u001b[0;36m<module>\u001b[1;34m\u001b[0m\n\u001b[0;32m      1\u001b[0m \u001b[1;31m#print('trainingset accuracy :', accuracy_score(X_train_2, y_train_lgb2) * 100)\u001b[0m\u001b[1;33m\u001b[0m\u001b[1;33m\u001b[0m\u001b[1;33m\u001b[0m\u001b[0m\n\u001b[1;32m----> 2\u001b[1;33m \u001b[0mprint\u001b[0m\u001b[1;33m(\u001b[0m\u001b[1;34m\"testset accuracy :\"\u001b[0m\u001b[1;33m,\u001b[0m\u001b[0maccuracy_score\u001b[0m\u001b[1;33m(\u001b[0m\u001b[0my_val_lgb2\u001b[0m\u001b[1;33m,\u001b[0m\u001b[0my_pred\u001b[0m\u001b[1;33m)\u001b[0m \u001b[1;33m*\u001b[0m \u001b[1;36m100\u001b[0m\u001b[1;33m)\u001b[0m\u001b[1;33m\u001b[0m\u001b[1;33m\u001b[0m\u001b[0m\n\u001b[0m\u001b[0;32m      3\u001b[0m \u001b[0mprint\u001b[0m\u001b[1;33m(\u001b[0m\u001b[1;34m\"classification report :\\n\"\u001b[0m\u001b[1;33m,\u001b[0m\u001b[1;33m(\u001b[0m\u001b[0mclassification_report\u001b[0m\u001b[1;33m(\u001b[0m\u001b[0my_val_lgb\u001b[0m\u001b[1;33m,\u001b[0m\u001b[0my_pred\u001b[0m\u001b[1;33m)\u001b[0m\u001b[1;33m)\u001b[0m\u001b[1;33m)\u001b[0m\u001b[1;33m\u001b[0m\u001b[1;33m\u001b[0m\u001b[0m\n",
      "\u001b[1;32m~\\anaconda3\\envs\\tensorflow\\lib\\site-packages\\sklearn\\utils\\validation.py\u001b[0m in \u001b[0;36minner_f\u001b[1;34m(*args, **kwargs)\u001b[0m\n\u001b[0;32m     70\u001b[0m                           FutureWarning)\n\u001b[0;32m     71\u001b[0m         \u001b[0mkwargs\u001b[0m\u001b[1;33m.\u001b[0m\u001b[0mupdate\u001b[0m\u001b[1;33m(\u001b[0m\u001b[1;33m{\u001b[0m\u001b[0mk\u001b[0m\u001b[1;33m:\u001b[0m \u001b[0marg\u001b[0m \u001b[1;32mfor\u001b[0m \u001b[0mk\u001b[0m\u001b[1;33m,\u001b[0m \u001b[0marg\u001b[0m \u001b[1;32min\u001b[0m \u001b[0mzip\u001b[0m\u001b[1;33m(\u001b[0m\u001b[0msig\u001b[0m\u001b[1;33m.\u001b[0m\u001b[0mparameters\u001b[0m\u001b[1;33m,\u001b[0m \u001b[0margs\u001b[0m\u001b[1;33m)\u001b[0m\u001b[1;33m}\u001b[0m\u001b[1;33m)\u001b[0m\u001b[1;33m\u001b[0m\u001b[1;33m\u001b[0m\u001b[0m\n\u001b[1;32m---> 72\u001b[1;33m         \u001b[1;32mreturn\u001b[0m \u001b[0mf\u001b[0m\u001b[1;33m(\u001b[0m\u001b[1;33m**\u001b[0m\u001b[0mkwargs\u001b[0m\u001b[1;33m)\u001b[0m\u001b[1;33m\u001b[0m\u001b[1;33m\u001b[0m\u001b[0m\n\u001b[0m\u001b[0;32m     73\u001b[0m     \u001b[1;32mreturn\u001b[0m \u001b[0minner_f\u001b[0m\u001b[1;33m\u001b[0m\u001b[1;33m\u001b[0m\u001b[0m\n\u001b[0;32m     74\u001b[0m \u001b[1;33m\u001b[0m\u001b[0m\n",
      "\u001b[1;32m~\\anaconda3\\envs\\tensorflow\\lib\\site-packages\\sklearn\\metrics\\_classification.py\u001b[0m in \u001b[0;36maccuracy_score\u001b[1;34m(y_true, y_pred, normalize, sample_weight)\u001b[0m\n\u001b[0;32m    185\u001b[0m \u001b[1;33m\u001b[0m\u001b[0m\n\u001b[0;32m    186\u001b[0m     \u001b[1;31m# Compute accuracy for each possible representation\u001b[0m\u001b[1;33m\u001b[0m\u001b[1;33m\u001b[0m\u001b[1;33m\u001b[0m\u001b[0m\n\u001b[1;32m--> 187\u001b[1;33m     \u001b[0my_type\u001b[0m\u001b[1;33m,\u001b[0m \u001b[0my_true\u001b[0m\u001b[1;33m,\u001b[0m \u001b[0my_pred\u001b[0m \u001b[1;33m=\u001b[0m \u001b[0m_check_targets\u001b[0m\u001b[1;33m(\u001b[0m\u001b[0my_true\u001b[0m\u001b[1;33m,\u001b[0m \u001b[0my_pred\u001b[0m\u001b[1;33m)\u001b[0m\u001b[1;33m\u001b[0m\u001b[1;33m\u001b[0m\u001b[0m\n\u001b[0m\u001b[0;32m    188\u001b[0m     \u001b[0mcheck_consistent_length\u001b[0m\u001b[1;33m(\u001b[0m\u001b[0my_true\u001b[0m\u001b[1;33m,\u001b[0m \u001b[0my_pred\u001b[0m\u001b[1;33m,\u001b[0m \u001b[0msample_weight\u001b[0m\u001b[1;33m)\u001b[0m\u001b[1;33m\u001b[0m\u001b[1;33m\u001b[0m\u001b[0m\n\u001b[0;32m    189\u001b[0m     \u001b[1;32mif\u001b[0m \u001b[0my_type\u001b[0m\u001b[1;33m.\u001b[0m\u001b[0mstartswith\u001b[0m\u001b[1;33m(\u001b[0m\u001b[1;34m'multilabel'\u001b[0m\u001b[1;33m)\u001b[0m\u001b[1;33m:\u001b[0m\u001b[1;33m\u001b[0m\u001b[1;33m\u001b[0m\u001b[0m\n",
      "\u001b[1;32m~\\anaconda3\\envs\\tensorflow\\lib\\site-packages\\sklearn\\metrics\\_classification.py\u001b[0m in \u001b[0;36m_check_targets\u001b[1;34m(y_true, y_pred)\u001b[0m\n\u001b[0;32m     89\u001b[0m     \u001b[1;32mif\u001b[0m \u001b[0mlen\u001b[0m\u001b[1;33m(\u001b[0m\u001b[0my_type\u001b[0m\u001b[1;33m)\u001b[0m \u001b[1;33m>\u001b[0m \u001b[1;36m1\u001b[0m\u001b[1;33m:\u001b[0m\u001b[1;33m\u001b[0m\u001b[1;33m\u001b[0m\u001b[0m\n\u001b[0;32m     90\u001b[0m         raise ValueError(\"Classification metrics can't handle a mix of {0} \"\n\u001b[1;32m---> 91\u001b[1;33m                          \"and {1} targets\".format(type_true, type_pred))\n\u001b[0m\u001b[0;32m     92\u001b[0m \u001b[1;33m\u001b[0m\u001b[0m\n\u001b[0;32m     93\u001b[0m     \u001b[1;31m# We can't have more than one value on y_type => The set is no more needed\u001b[0m\u001b[1;33m\u001b[0m\u001b[1;33m\u001b[0m\u001b[1;33m\u001b[0m\u001b[0m\n",
      "\u001b[1;31mValueError\u001b[0m: Classification metrics can't handle a mix of binary and continuous targets"
     ]
    }
   ],
   "source": [
    "print('trainingset accuracy :', accuracy_score(X_train_2, y_train_lgb2) * 100)\n",
    "print(\"testset accuracy :\",accuracy_score(y_val_lgb2,y_pred) * 100)\n",
    "print(\"classification report :\\n\",(classification_report(y_val_lgb,y_pred)))"
   ]
  },
  {
   "cell_type": "code",
   "execution_count": 94,
   "metadata": {},
   "outputs": [
    {
     "name": "stdout",
     "output_type": "stream",
     "text": [
      "[LightGBM] [Info] Number of positive: 48969, number of negative: 8720\n",
      "[LightGBM] [Warning] Auto-choosing row-wise multi-threading, the overhead of testing was 0.790968 seconds.\n",
      "You can set `force_row_wise=true` to remove the overhead.\n",
      "And if memory is not enough, you can set `force_col_wise=true`.\n",
      "[LightGBM] [Info] Total Bins 765434\n",
      "[LightGBM] [Info] Number of data points in the train set: 57689, number of used features: 4997\n",
      "[LightGBM] [Info] [binary:BoostFromScore]: pavg=0.848845 -> initscore=1.725568\n",
      "[LightGBM] [Info] Start training from score 1.725568\n",
      "Training until validation scores don't improve for 100 rounds\n",
      "[100]\tvalid_0's binary_logloss: 0.555495\n",
      "Early stopping, best iteration is:\n",
      "[1]\tvalid_0's binary_logloss: 0.43485\n"
     ]
    }
   ],
   "source": [
    "train_ds = lgb.Dataset(X_train, label = y_train2)\n",
    "test_ds = lgb.Dataset(X_val, label = y_val2)\n",
    "params = {'learning_rate':0.03,\n",
    "         'max_depth':16,\n",
    "         'boosting':'gbdt',\n",
    "         'metric':'binary_logloss',\n",
    "         'is_training_metric':True,\n",
    "         'num_leaves':144,\n",
    "         'feature_fraction':0.9,\n",
    "         'bagging_fraction':0.7,\n",
    "         'bagging_freq':5,\n",
    "         'seed':2020,\n",
    "         'objective':'binary'}\n",
    "model = lgb.train(params, train_ds, 1000, test_ds, verbose_eval=100, early_stopping_rounds=100)\n",
    "y_pred = model.predict(X_val)"
   ]
  },
  {
   "cell_type": "code",
   "execution_count": 99,
   "metadata": {
    "scrolled": true
   },
   "outputs": [
    {
     "name": "stdout",
     "output_type": "stream",
     "text": [
      "[LightGBM] [Warning] Auto-choosing row-wise multi-threading, the overhead of testing was 0.763261 seconds.\n",
      "You can set `force_row_wise=true` to remove the overhead.\n",
      "And if memory is not enough, you can set `force_col_wise=true`.\n",
      "[LightGBM] [Info] Total Bins 765434\n",
      "[LightGBM] [Info] Number of data points in the train set: 57689, number of used features: 4997\n",
      "[LightGBM] [Info] Start training from score -1.889447\n",
      "[LightGBM] [Info] Start training from score -1.549786\n",
      "[LightGBM] [Info] Start training from score -1.677467\n",
      "[LightGBM] [Info] Start training from score -0.865949\n",
      "[LightGBM] [Info] Start training from score -3.538657\n",
      "Training until validation scores don't improve for 100 rounds\n",
      "[LightGBM] [Warning] No further splits with positive gain, best gain: -inf\n",
      "[LightGBM] [Warning] No further splits with positive gain, best gain: -inf\n",
      "[LightGBM] [Warning] No further splits with positive gain, best gain: -inf\n",
      "[LightGBM] [Warning] No further splits with positive gain, best gain: -inf\n",
      "[LightGBM] [Warning] No further splits with positive gain, best gain: -inf\n",
      "[LightGBM] [Warning] No further splits with positive gain, best gain: -inf\n",
      "[LightGBM] [Warning] No further splits with positive gain, best gain: -inf\n",
      "[LightGBM] [Warning] No further splits with positive gain, best gain: -inf\n",
      "[LightGBM] [Warning] No further splits with positive gain, best gain: -inf\n",
      "[LightGBM] [Warning] No further splits with positive gain, best gain: -inf\n",
      "[LightGBM] [Warning] No further splits with positive gain, best gain: -inf\n",
      "[LightGBM] [Warning] No further splits with positive gain, best gain: -inf\n",
      "[LightGBM] [Warning] No further splits with positive gain, best gain: -inf\n",
      "[LightGBM] [Warning] No further splits with positive gain, best gain: -inf\n",
      "[LightGBM] [Warning] No further splits with positive gain, best gain: -inf\n",
      "[LightGBM] [Warning] No further splits with positive gain, best gain: -inf\n",
      "[LightGBM] [Warning] No further splits with positive gain, best gain: -inf\n",
      "[LightGBM] [Warning] No further splits with positive gain, best gain: -inf\n",
      "[LightGBM] [Warning] No further splits with positive gain, best gain: -inf\n",
      "[LightGBM] [Warning] No further splits with positive gain, best gain: -inf\n",
      "[LightGBM] [Warning] No further splits with positive gain, best gain: -inf\n",
      "[LightGBM] [Warning] No further splits with positive gain, best gain: -inf\n",
      "[LightGBM] [Warning] No further splits with positive gain, best gain: -inf\n",
      "[LightGBM] [Warning] No further splits with positive gain, best gain: -inf\n",
      "[LightGBM] [Warning] No further splits with positive gain, best gain: -inf\n",
      "[LightGBM] [Warning] No further splits with positive gain, best gain: -inf\n",
      "[LightGBM] [Warning] No further splits with positive gain, best gain: -inf\n",
      "[LightGBM] [Warning] No further splits with positive gain, best gain: -inf\n",
      "[LightGBM] [Warning] No further splits with positive gain, best gain: -inf\n",
      "[LightGBM] [Warning] No further splits with positive gain, best gain: -inf\n",
      "[LightGBM] [Warning] No further splits with positive gain, best gain: -inf\n",
      "[LightGBM] [Warning] No further splits with positive gain, best gain: -inf\n",
      "[LightGBM] [Warning] No further splits with positive gain, best gain: -inf\n",
      "[LightGBM] [Warning] No further splits with positive gain, best gain: -inf\n",
      "[LightGBM] [Warning] No further splits with positive gain, best gain: -inf\n",
      "[LightGBM] [Warning] No further splits with positive gain, best gain: -inf\n",
      "[LightGBM] [Warning] No further splits with positive gain, best gain: -inf\n",
      "[LightGBM] [Warning] No further splits with positive gain, best gain: -inf\n",
      "[LightGBM] [Warning] No further splits with positive gain, best gain: -inf\n",
      "[LightGBM] [Warning] No further splits with positive gain, best gain: -inf\n",
      "[LightGBM] [Warning] No further splits with positive gain, best gain: -inf\n",
      "[LightGBM] [Warning] No further splits with positive gain, best gain: -inf\n",
      "[LightGBM] [Warning] No further splits with positive gain, best gain: -inf\n",
      "[LightGBM] [Warning] No further splits with positive gain, best gain: -inf\n",
      "[LightGBM] [Warning] No further splits with positive gain, best gain: -inf\n",
      "[LightGBM] [Warning] No further splits with positive gain, best gain: -inf\n",
      "[LightGBM] [Warning] No further splits with positive gain, best gain: -inf\n",
      "[LightGBM] [Warning] No further splits with positive gain, best gain: -inf\n",
      "[LightGBM] [Warning] No further splits with positive gain, best gain: -inf\n",
      "[LightGBM] [Warning] No further splits with positive gain, best gain: -inf\n",
      "[100]\tvalid_0's multi_logloss: 1.86975\n",
      "[LightGBM] [Warning] No further splits with positive gain, best gain: -inf\n",
      "Early stopping, best iteration is:\n",
      "[1]\tvalid_0's multi_logloss: 1.39626\n"
     ]
    }
   ],
   "source": [
    "train_ds = lgb.Dataset(X_train, label = y_train2)\n",
    "test_ds = lgb.Dataset(X_val, label = y_val2)\n",
    "params = {'learning_rate':0.03,\n",
    "         'max_depth':16,\n",
    "         'boosting':'gbdt',\n",
    "         'metric':'multi_logloss',\n",
    "         'is_training_metric':True,\n",
    "         'num_leaves':144,\n",
    "         'feature_fraction':0.9,\n",
    "         'bagging_fraction':0.7,\n",
    "         'bagging_freq':5,\n",
    "         'seed':2020,\n",
    "         'objective':'multiclass',\n",
    "         'num_class':5,\n",
    "         'is_unbalance':True}\n",
    "model = lgb.train(params, train_ds, 1000, test_ds, verbose_eval=100, early_stopping_rounds=100)\n",
    "y_pred = model.predict(X_val)"
   ]
  },
  {
   "cell_type": "code",
   "execution_count": 113,
   "metadata": {},
   "outputs": [
    {
     "data": {
      "text/plain": [
       "0.20000000000000004"
      ]
     },
     "execution_count": 113,
     "metadata": {},
     "output_type": "execute_result"
    }
   ],
   "source": [
    "y_pred[0].mean()"
   ]
  },
  {
   "cell_type": "code",
   "execution_count": 114,
   "metadata": {},
   "outputs": [],
   "source": [
    "#Prediction\n",
    "y_pred=model.predict(X_val)\n",
    "#convert into binary values\n",
    "for i in range(0,99):\n",
    "    if y_pred[i].mean()>=0.5:       # setting threshold to .5\n",
    "        y_pred[i]=1\n",
    "    else:  \n",
    "        y_pred[i]=0"
   ]
  },
  {
   "cell_type": "code",
   "execution_count": 116,
   "metadata": {},
   "outputs": [
    {
     "ename": "ValueError",
     "evalue": "Classification metrics can't handle a mix of continuous-multioutput and multiclass targets",
     "output_type": "error",
     "traceback": [
      "\u001b[1;31m---------------------------------------------------------------------------\u001b[0m",
      "\u001b[1;31mValueError\u001b[0m                                Traceback (most recent call last)",
      "\u001b[1;32m<ipython-input-116-89757341d8ac>\u001b[0m in \u001b[0;36m<module>\u001b[1;34m\u001b[0m\n\u001b[1;32m----> 1\u001b[1;33m \u001b[0maccuracy\u001b[0m\u001b[1;33m=\u001b[0m\u001b[0maccuracy_score\u001b[0m\u001b[1;33m(\u001b[0m\u001b[0my_pred\u001b[0m\u001b[1;33m,\u001b[0m\u001b[0my_val2\u001b[0m\u001b[1;33m)\u001b[0m\u001b[1;33m\u001b[0m\u001b[1;33m\u001b[0m\u001b[0m\n\u001b[0m",
      "\u001b[1;32m~\\anaconda3\\envs\\tensorflow\\lib\\site-packages\\sklearn\\utils\\validation.py\u001b[0m in \u001b[0;36minner_f\u001b[1;34m(*args, **kwargs)\u001b[0m\n\u001b[0;32m     70\u001b[0m                           FutureWarning)\n\u001b[0;32m     71\u001b[0m         \u001b[0mkwargs\u001b[0m\u001b[1;33m.\u001b[0m\u001b[0mupdate\u001b[0m\u001b[1;33m(\u001b[0m\u001b[1;33m{\u001b[0m\u001b[0mk\u001b[0m\u001b[1;33m:\u001b[0m \u001b[0marg\u001b[0m \u001b[1;32mfor\u001b[0m \u001b[0mk\u001b[0m\u001b[1;33m,\u001b[0m \u001b[0marg\u001b[0m \u001b[1;32min\u001b[0m \u001b[0mzip\u001b[0m\u001b[1;33m(\u001b[0m\u001b[0msig\u001b[0m\u001b[1;33m.\u001b[0m\u001b[0mparameters\u001b[0m\u001b[1;33m,\u001b[0m \u001b[0margs\u001b[0m\u001b[1;33m)\u001b[0m\u001b[1;33m}\u001b[0m\u001b[1;33m)\u001b[0m\u001b[1;33m\u001b[0m\u001b[1;33m\u001b[0m\u001b[0m\n\u001b[1;32m---> 72\u001b[1;33m         \u001b[1;32mreturn\u001b[0m \u001b[0mf\u001b[0m\u001b[1;33m(\u001b[0m\u001b[1;33m**\u001b[0m\u001b[0mkwargs\u001b[0m\u001b[1;33m)\u001b[0m\u001b[1;33m\u001b[0m\u001b[1;33m\u001b[0m\u001b[0m\n\u001b[0m\u001b[0;32m     73\u001b[0m     \u001b[1;32mreturn\u001b[0m \u001b[0minner_f\u001b[0m\u001b[1;33m\u001b[0m\u001b[1;33m\u001b[0m\u001b[0m\n\u001b[0;32m     74\u001b[0m \u001b[1;33m\u001b[0m\u001b[0m\n",
      "\u001b[1;32m~\\anaconda3\\envs\\tensorflow\\lib\\site-packages\\sklearn\\metrics\\_classification.py\u001b[0m in \u001b[0;36maccuracy_score\u001b[1;34m(y_true, y_pred, normalize, sample_weight)\u001b[0m\n\u001b[0;32m    185\u001b[0m \u001b[1;33m\u001b[0m\u001b[0m\n\u001b[0;32m    186\u001b[0m     \u001b[1;31m# Compute accuracy for each possible representation\u001b[0m\u001b[1;33m\u001b[0m\u001b[1;33m\u001b[0m\u001b[1;33m\u001b[0m\u001b[0m\n\u001b[1;32m--> 187\u001b[1;33m     \u001b[0my_type\u001b[0m\u001b[1;33m,\u001b[0m \u001b[0my_true\u001b[0m\u001b[1;33m,\u001b[0m \u001b[0my_pred\u001b[0m \u001b[1;33m=\u001b[0m \u001b[0m_check_targets\u001b[0m\u001b[1;33m(\u001b[0m\u001b[0my_true\u001b[0m\u001b[1;33m,\u001b[0m \u001b[0my_pred\u001b[0m\u001b[1;33m)\u001b[0m\u001b[1;33m\u001b[0m\u001b[1;33m\u001b[0m\u001b[0m\n\u001b[0m\u001b[0;32m    188\u001b[0m     \u001b[0mcheck_consistent_length\u001b[0m\u001b[1;33m(\u001b[0m\u001b[0my_true\u001b[0m\u001b[1;33m,\u001b[0m \u001b[0my_pred\u001b[0m\u001b[1;33m,\u001b[0m \u001b[0msample_weight\u001b[0m\u001b[1;33m)\u001b[0m\u001b[1;33m\u001b[0m\u001b[1;33m\u001b[0m\u001b[0m\n\u001b[0;32m    189\u001b[0m     \u001b[1;32mif\u001b[0m \u001b[0my_type\u001b[0m\u001b[1;33m.\u001b[0m\u001b[0mstartswith\u001b[0m\u001b[1;33m(\u001b[0m\u001b[1;34m'multilabel'\u001b[0m\u001b[1;33m)\u001b[0m\u001b[1;33m:\u001b[0m\u001b[1;33m\u001b[0m\u001b[1;33m\u001b[0m\u001b[0m\n",
      "\u001b[1;32m~\\anaconda3\\envs\\tensorflow\\lib\\site-packages\\sklearn\\metrics\\_classification.py\u001b[0m in \u001b[0;36m_check_targets\u001b[1;34m(y_true, y_pred)\u001b[0m\n\u001b[0;32m     89\u001b[0m     \u001b[1;32mif\u001b[0m \u001b[0mlen\u001b[0m\u001b[1;33m(\u001b[0m\u001b[0my_type\u001b[0m\u001b[1;33m)\u001b[0m \u001b[1;33m>\u001b[0m \u001b[1;36m1\u001b[0m\u001b[1;33m:\u001b[0m\u001b[1;33m\u001b[0m\u001b[1;33m\u001b[0m\u001b[0m\n\u001b[0;32m     90\u001b[0m         raise ValueError(\"Classification metrics can't handle a mix of {0} \"\n\u001b[1;32m---> 91\u001b[1;33m                          \"and {1} targets\".format(type_true, type_pred))\n\u001b[0m\u001b[0;32m     92\u001b[0m \u001b[1;33m\u001b[0m\u001b[0m\n\u001b[0;32m     93\u001b[0m     \u001b[1;31m# We can't have more than one value on y_type => The set is no more needed\u001b[0m\u001b[1;33m\u001b[0m\u001b[1;33m\u001b[0m\u001b[1;33m\u001b[0m\u001b[0m\n",
      "\u001b[1;31mValueError\u001b[0m: Classification metrics can't handle a mix of continuous-multioutput and multiclass targets"
     ]
    }
   ],
   "source": [
    "accuracy=accuracy_score(y_pred,y_val2)"
   ]
  },
  {
   "cell_type": "code",
   "execution_count": null,
   "metadata": {},
   "outputs": [],
   "source": [
    "{'learning_rate':0.03,\n",
    "         'max_depth':16,\n",
    "         'boosting':'gbdt',\n",
    "         'metric':'multi_logloss',\n",
    "         'is_training_metric':True,\n",
    "         'num_leaves':144,\n",
    "         'feature_fraction':0.9,\n",
    "         'bagging_fraction':0.7,\n",
    "         'bagging_freq':5,\n",
    "         'seed':2020,\n",
    "         'objective':'multiclass',\n",
    "         'num_class':5,\n",
    "         'is_unbalance':True}\n",
    "model = lgb.train(params, train_ds, 1000"
   ]
  },
  {
   "cell_type": "code",
   "execution_count": 132,
   "metadata": {},
   "outputs": [
    {
     "data": {
      "text/plain": [
       "LGBMClassifier(bagging_fraction=0.7, bagging_freq=5, feature_fraction=0.9,\n",
       "               is_training_metric=True, learning_rate=0.01, max_depth=16,\n",
       "               metric='multi_logloss', num_class=5, num_leaves=144,\n",
       "               objective='multiclass', seed=2020)"
      ]
     },
     "execution_count": 132,
     "metadata": {},
     "output_type": "execute_result"
    }
   ],
   "source": [
    "from lightgbm import LGBMClassifier\n",
    "lgb = LGBMClassifier(max_depth = 16, metric = 'multi_logloss', boosting_type = 'gbdt', \n",
    "                     objective = 'multiclass', num_leaves = 144, learning_rate = 0.01, \n",
    "                     is_training_metric = True, feature_fraction = 0.9, bagging_fraction = 0.7,\n",
    "                     bagging_freq = 5, seed = 2020, num_class = 5)\n",
    "lgb.fit(X_train, y_train2)"
   ]
  },
  {
   "cell_type": "code",
   "execution_count": 135,
   "metadata": {},
   "outputs": [
    {
     "name": "stdout",
     "output_type": "stream",
     "text": [
      "0.34216182486306596\n"
     ]
    }
   ],
   "source": [
    "print((lgb.predict(X_val) == y_val2).sum() / len(y_val2))"
   ]
  },
  {
   "cell_type": "code",
   "execution_count": 142,
   "metadata": {},
   "outputs": [
    {
     "ename": "AttributeError",
     "evalue": "module 'lightgbm' has no attribute 'predict'",
     "output_type": "error",
     "traceback": [
      "\u001b[1;31m---------------------------------------------------------------------------\u001b[0m",
      "\u001b[1;31mAttributeError\u001b[0m                            Traceback (most recent call last)",
      "\u001b[1;32m<ipython-input-142-717b4837f7e9>\u001b[0m in \u001b[0;36m<module>\u001b[1;34m\u001b[0m\n\u001b[1;32m----> 1\u001b[1;33m \u001b[0my_pred_1\u001b[0m\u001b[1;33m=\u001b[0m\u001b[0mlgb\u001b[0m\u001b[1;33m.\u001b[0m\u001b[0mpredict\u001b[0m\u001b[1;33m(\u001b[0m\u001b[0mX_val\u001b[0m\u001b[1;33m)\u001b[0m\u001b[1;33m\u001b[0m\u001b[1;33m\u001b[0m\u001b[0m\n\u001b[0m",
      "\u001b[1;31mAttributeError\u001b[0m: module 'lightgbm' has no attribute 'predict'"
     ]
    }
   ],
   "source": [
    "y_pred_1=lgb.predict(X_val)"
   ]
  },
  {
   "cell_type": "code",
   "execution_count": null,
   "metadata": {},
   "outputs": [],
   "source": []
  },
  {
   "cell_type": "code",
   "execution_count": 333,
   "metadata": {
    "scrolled": true
   },
   "outputs": [
    {
     "name": "stdout",
     "output_type": "stream",
     "text": [
      "[LightGBM] [Warning] Auto-choosing row-wise multi-threading, the overhead of testing was 1.425834 seconds.\n",
      "You can set `force_row_wise=true` to remove the overhead.\n",
      "And if memory is not enough, you can set `force_col_wise=true`.\n",
      "[LightGBM] [Info] Total Bins 765434\n",
      "[LightGBM] [Info] Number of data points in the train set: 57689, number of used features: 4997\n",
      "[LightGBM] [Info] Start training from score -1.889447\n",
      "[LightGBM] [Info] Start training from score -1.549786\n",
      "[LightGBM] [Info] Start training from score -1.677467\n",
      "[LightGBM] [Info] Start training from score -0.865949\n",
      "[LightGBM] [Info] Start training from score -3.538657\n",
      "Training until validation scores don't improve for 100 rounds\n",
      "[LightGBM] [Warning] No further splits with positive gain, best gain: -inf\n",
      "[LightGBM] [Warning] No further splits with positive gain, best gain: -inf\n",
      "[LightGBM] [Warning] No further splits with positive gain, best gain: -inf\n",
      "[LightGBM] [Warning] No further splits with positive gain, best gain: -inf\n",
      "[LightGBM] [Warning] No further splits with positive gain, best gain: -inf\n",
      "[LightGBM] [Warning] No further splits with positive gain, best gain: -inf\n",
      "[LightGBM] [Warning] No further splits with positive gain, best gain: -inf\n",
      "[LightGBM] [Warning] No further splits with positive gain, best gain: -inf\n",
      "[LightGBM] [Warning] No further splits with positive gain, best gain: -inf\n",
      "[LightGBM] [Warning] No further splits with positive gain, best gain: -inf\n",
      "[LightGBM] [Warning] No further splits with positive gain, best gain: -inf\n",
      "[LightGBM] [Warning] No further splits with positive gain, best gain: -inf\n",
      "[LightGBM] [Warning] No further splits with positive gain, best gain: -inf\n",
      "[LightGBM] [Warning] No further splits with positive gain, best gain: -inf\n",
      "[LightGBM] [Warning] No further splits with positive gain, best gain: -inf\n",
      "[LightGBM] [Warning] No further splits with positive gain, best gain: -inf\n",
      "[LightGBM] [Warning] No further splits with positive gain, best gain: -inf\n",
      "[LightGBM] [Warning] No further splits with positive gain, best gain: -inf\n",
      "[LightGBM] [Warning] No further splits with positive gain, best gain: -inf\n",
      "[LightGBM] [Warning] No further splits with positive gain, best gain: -inf\n",
      "[LightGBM] [Warning] No further splits with positive gain, best gain: -inf\n",
      "[LightGBM] [Warning] No further splits with positive gain, best gain: -inf\n",
      "[LightGBM] [Warning] No further splits with positive gain, best gain: -inf\n",
      "[LightGBM] [Warning] No further splits with positive gain, best gain: -inf\n",
      "[LightGBM] [Warning] No further splits with positive gain, best gain: -inf\n",
      "[LightGBM] [Warning] No further splits with positive gain, best gain: -inf\n",
      "[LightGBM] [Warning] No further splits with positive gain, best gain: -inf\n",
      "[LightGBM] [Warning] No further splits with positive gain, best gain: -inf\n",
      "[LightGBM] [Warning] No further splits with positive gain, best gain: -inf\n",
      "[LightGBM] [Warning] No further splits with positive gain, best gain: -inf\n",
      "[LightGBM] [Warning] No further splits with positive gain, best gain: -inf\n",
      "[LightGBM] [Warning] No further splits with positive gain, best gain: -inf\n",
      "[LightGBM] [Warning] No further splits with positive gain, best gain: -inf\n",
      "[LightGBM] [Warning] No further splits with positive gain, best gain: -inf\n",
      "[LightGBM] [Warning] No further splits with positive gain, best gain: -inf\n",
      "[LightGBM] [Warning] No further splits with positive gain, best gain: -inf\n",
      "[LightGBM] [Warning] No further splits with positive gain, best gain: -inf\n",
      "[LightGBM] [Warning] No further splits with positive gain, best gain: -inf\n",
      "[LightGBM] [Warning] No further splits with positive gain, best gain: -inf\n",
      "[LightGBM] [Warning] No further splits with positive gain, best gain: -inf\n",
      "[LightGBM] [Warning] No further splits with positive gain, best gain: -inf\n",
      "[LightGBM] [Warning] No further splits with positive gain, best gain: -inf\n",
      "[LightGBM] [Warning] No further splits with positive gain, best gain: -inf\n",
      "[LightGBM] [Warning] No further splits with positive gain, best gain: -inf\n",
      "[LightGBM] [Warning] No further splits with positive gain, best gain: -inf\n",
      "[LightGBM] [Warning] No further splits with positive gain, best gain: -inf\n",
      "[LightGBM] [Warning] No further splits with positive gain, best gain: -inf\n",
      "[LightGBM] [Warning] No further splits with positive gain, best gain: -inf\n",
      "[LightGBM] [Warning] No further splits with positive gain, best gain: -inf\n",
      "[LightGBM] [Warning] No further splits with positive gain, best gain: -inf\n",
      "[100]\tvalid_0's multi_logloss: 0.916191\n",
      "[LightGBM] [Warning] No further splits with positive gain, best gain: -inf\n",
      "[LightGBM] [Warning] No further splits with positive gain, best gain: -inf\n",
      "[LightGBM] [Warning] No further splits with positive gain, best gain: -inf\n",
      "[LightGBM] [Warning] No further splits with positive gain, best gain: -inf\n",
      "[LightGBM] [Warning] No further splits with positive gain, best gain: -inf\n",
      "[LightGBM] [Warning] No further splits with positive gain, best gain: -inf\n",
      "[LightGBM] [Warning] No further splits with positive gain, best gain: -inf\n",
      "[LightGBM] [Warning] No further splits with positive gain, best gain: -inf\n",
      "[LightGBM] [Warning] No further splits with positive gain, best gain: -inf\n",
      "[LightGBM] [Warning] No further splits with positive gain, best gain: -inf\n",
      "[LightGBM] [Warning] No further splits with positive gain, best gain: -inf\n",
      "[LightGBM] [Warning] No further splits with positive gain, best gain: -inf\n",
      "[LightGBM] [Warning] No further splits with positive gain, best gain: -inf\n",
      "[LightGBM] [Warning] No further splits with positive gain, best gain: -inf\n",
      "[LightGBM] [Warning] No further splits with positive gain, best gain: -inf\n",
      "[LightGBM] [Warning] No further splits with positive gain, best gain: -inf\n",
      "[LightGBM] [Warning] No further splits with positive gain, best gain: -inf\n",
      "[LightGBM] [Warning] No further splits with positive gain, best gain: -inf\n",
      "[LightGBM] [Warning] No further splits with positive gain, best gain: -inf\n",
      "[LightGBM] [Warning] No further splits with positive gain, best gain: -inf\n",
      "[LightGBM] [Warning] No further splits with positive gain, best gain: -inf\n",
      "[LightGBM] [Warning] No further splits with positive gain, best gain: -inf\n",
      "[LightGBM] [Warning] No further splits with positive gain, best gain: -inf\n",
      "[LightGBM] [Warning] No further splits with positive gain, best gain: -inf\n",
      "[LightGBM] [Warning] No further splits with positive gain, best gain: -inf\n",
      "[LightGBM] [Warning] No further splits with positive gain, best gain: -inf\n",
      "[LightGBM] [Warning] No further splits with positive gain, best gain: -inf\n",
      "[LightGBM] [Warning] No further splits with positive gain, best gain: -inf\n",
      "[LightGBM] [Warning] No further splits with positive gain, best gain: -inf\n",
      "[LightGBM] [Warning] No further splits with positive gain, best gain: -inf\n",
      "[LightGBM] [Warning] No further splits with positive gain, best gain: -inf\n",
      "[LightGBM] [Warning] No further splits with positive gain, best gain: -inf\n",
      "[LightGBM] [Warning] No further splits with positive gain, best gain: -inf\n",
      "[LightGBM] [Warning] No further splits with positive gain, best gain: -inf\n",
      "[LightGBM] [Warning] No further splits with positive gain, best gain: -inf\n",
      "[LightGBM] [Warning] No further splits with positive gain, best gain: -inf\n",
      "[LightGBM] [Warning] No further splits with positive gain, best gain: -inf\n",
      "[LightGBM] [Warning] No further splits with positive gain, best gain: -inf\n",
      "[LightGBM] [Warning] No further splits with positive gain, best gain: -inf\n",
      "[LightGBM] [Warning] No further splits with positive gain, best gain: -inf\n",
      "[LightGBM] [Warning] No further splits with positive gain, best gain: -inf\n",
      "[LightGBM] [Warning] No further splits with positive gain, best gain: -inf\n",
      "[LightGBM] [Warning] No further splits with positive gain, best gain: -inf\n",
      "[LightGBM] [Warning] No further splits with positive gain, best gain: -inf\n",
      "[LightGBM] [Warning] No further splits with positive gain, best gain: -inf\n",
      "[LightGBM] [Warning] No further splits with positive gain, best gain: -inf\n",
      "[LightGBM] [Warning] No further splits with positive gain, best gain: -inf\n",
      "[LightGBM] [Warning] No further splits with positive gain, best gain: -inf\n",
      "[LightGBM] [Warning] No further splits with positive gain, best gain: -inf\n",
      "[LightGBM] [Warning] No further splits with positive gain, best gain: -inf\n"
     ]
    },
    {
     "name": "stdout",
     "output_type": "stream",
     "text": [
      "[LightGBM] [Warning] No further splits with positive gain, best gain: -inf\n",
      "[LightGBM] [Warning] No further splits with positive gain, best gain: -inf\n",
      "[LightGBM] [Warning] No further splits with positive gain, best gain: -inf\n",
      "[LightGBM] [Warning] No further splits with positive gain, best gain: -inf\n",
      "[LightGBM] [Warning] No further splits with positive gain, best gain: -inf\n",
      "[LightGBM] [Warning] No further splits with positive gain, best gain: -inf\n",
      "[LightGBM] [Warning] No further splits with positive gain, best gain: -inf\n",
      "[LightGBM] [Warning] No further splits with positive gain, best gain: -inf\n",
      "[LightGBM] [Warning] No further splits with positive gain, best gain: -inf\n",
      "[LightGBM] [Warning] No further splits with positive gain, best gain: -inf\n",
      "[LightGBM] [Warning] No further splits with positive gain, best gain: -inf\n",
      "[LightGBM] [Warning] No further splits with positive gain, best gain: -inf\n",
      "[LightGBM] [Warning] No further splits with positive gain, best gain: -inf\n",
      "[LightGBM] [Warning] No further splits with positive gain, best gain: -inf\n",
      "[LightGBM] [Warning] No further splits with positive gain, best gain: -inf\n",
      "[LightGBM] [Warning] No further splits with positive gain, best gain: -inf\n",
      "[LightGBM] [Warning] No further splits with positive gain, best gain: -inf\n",
      "[LightGBM] [Warning] No further splits with positive gain, best gain: -inf\n",
      "[LightGBM] [Warning] No further splits with positive gain, best gain: -inf\n",
      "[LightGBM] [Warning] No further splits with positive gain, best gain: -inf\n",
      "[LightGBM] [Warning] No further splits with positive gain, best gain: -inf\n",
      "[LightGBM] [Warning] No further splits with positive gain, best gain: -inf\n",
      "[LightGBM] [Warning] No further splits with positive gain, best gain: -inf\n",
      "[LightGBM] [Warning] No further splits with positive gain, best gain: -inf\n",
      "[LightGBM] [Warning] No further splits with positive gain, best gain: -inf\n",
      "[LightGBM] [Warning] No further splits with positive gain, best gain: -inf\n",
      "[LightGBM] [Warning] No further splits with positive gain, best gain: -inf\n",
      "[LightGBM] [Warning] No further splits with positive gain, best gain: -inf\n",
      "[LightGBM] [Warning] No further splits with positive gain, best gain: -inf\n",
      "[LightGBM] [Warning] No further splits with positive gain, best gain: -inf\n",
      "[LightGBM] [Warning] No further splits with positive gain, best gain: -inf\n",
      "[LightGBM] [Warning] No further splits with positive gain, best gain: -inf\n",
      "[LightGBM] [Warning] No further splits with positive gain, best gain: -inf\n",
      "[LightGBM] [Warning] No further splits with positive gain, best gain: -inf\n",
      "[LightGBM] [Warning] No further splits with positive gain, best gain: -inf\n",
      "[LightGBM] [Warning] No further splits with positive gain, best gain: -inf\n",
      "[LightGBM] [Warning] No further splits with positive gain, best gain: -inf\n",
      "[LightGBM] [Warning] No further splits with positive gain, best gain: -inf\n",
      "[LightGBM] [Warning] No further splits with positive gain, best gain: -inf\n",
      "[LightGBM] [Warning] No further splits with positive gain, best gain: -inf\n",
      "[LightGBM] [Warning] No further splits with positive gain, best gain: -inf\n",
      "[LightGBM] [Warning] No further splits with positive gain, best gain: -inf\n",
      "[LightGBM] [Warning] No further splits with positive gain, best gain: -inf\n",
      "[LightGBM] [Warning] No further splits with positive gain, best gain: -inf\n",
      "[LightGBM] [Warning] No further splits with positive gain, best gain: -inf\n",
      "[LightGBM] [Warning] No further splits with positive gain, best gain: -inf\n",
      "[LightGBM] [Warning] No further splits with positive gain, best gain: -inf\n",
      "[LightGBM] [Warning] No further splits with positive gain, best gain: -inf\n",
      "[LightGBM] [Warning] No further splits with positive gain, best gain: -inf\n",
      "[LightGBM] [Warning] No further splits with positive gain, best gain: -inf\n",
      "[LightGBM] [Warning] No further splits with positive gain, best gain: -inf\n",
      "[LightGBM] [Warning] No further splits with positive gain, best gain: -inf\n",
      "[LightGBM] [Warning] No further splits with positive gain, best gain: -inf\n",
      "[LightGBM] [Warning] No further splits with positive gain, best gain: -inf\n",
      "[LightGBM] [Warning] No further splits with positive gain, best gain: -inf\n",
      "[LightGBM] [Warning] No further splits with positive gain, best gain: -inf\n",
      "[LightGBM] [Warning] No further splits with positive gain, best gain: -inf\n",
      "[LightGBM] [Warning] No further splits with positive gain, best gain: -inf\n",
      "[LightGBM] [Warning] No further splits with positive gain, best gain: -inf\n",
      "[LightGBM] [Warning] No further splits with positive gain, best gain: -inf\n",
      "[LightGBM] [Warning] No further splits with positive gain, best gain: -inf\n",
      "[LightGBM] [Warning] No further splits with positive gain, best gain: -inf\n",
      "[LightGBM] [Warning] No further splits with positive gain, best gain: -inf\n",
      "[LightGBM] [Warning] No further splits with positive gain, best gain: -inf\n",
      "[LightGBM] [Warning] No further splits with positive gain, best gain: -inf\n",
      "[LightGBM] [Warning] No further splits with positive gain, best gain: -inf\n",
      "[LightGBM] [Warning] No further splits with positive gain, best gain: -inf\n",
      "[LightGBM] [Warning] No further splits with positive gain, best gain: -inf\n",
      "[LightGBM] [Warning] No further splits with positive gain, best gain: -inf\n",
      "[LightGBM] [Warning] No further splits with positive gain, best gain: -inf\n",
      "[LightGBM] [Warning] No further splits with positive gain, best gain: -inf\n",
      "[LightGBM] [Warning] No further splits with positive gain, best gain: -inf\n",
      "[LightGBM] [Warning] No further splits with positive gain, best gain: -inf\n",
      "[LightGBM] [Warning] No further splits with positive gain, best gain: -inf\n",
      "[LightGBM] [Warning] No further splits with positive gain, best gain: -inf\n",
      "[LightGBM] [Warning] No further splits with positive gain, best gain: -inf\n",
      "[LightGBM] [Warning] No further splits with positive gain, best gain: -inf\n",
      "[LightGBM] [Warning] No further splits with positive gain, best gain: -inf\n",
      "[LightGBM] [Warning] No further splits with positive gain, best gain: -inf\n",
      "[LightGBM] [Warning] No further splits with positive gain, best gain: -inf\n",
      "[LightGBM] [Warning] No further splits with positive gain, best gain: -inf\n",
      "[LightGBM] [Warning] No further splits with positive gain, best gain: -inf\n",
      "[LightGBM] [Warning] No further splits with positive gain, best gain: -inf\n",
      "[LightGBM] [Warning] No further splits with positive gain, best gain: -inf\n",
      "[LightGBM] [Warning] No further splits with positive gain, best gain: -inf\n",
      "[LightGBM] [Warning] No further splits with positive gain, best gain: -inf\n",
      "[LightGBM] [Warning] No further splits with positive gain, best gain: -inf\n",
      "[LightGBM] [Warning] No further splits with positive gain, best gain: -inf\n",
      "[LightGBM] [Warning] No further splits with positive gain, best gain: -inf\n",
      "[LightGBM] [Warning] No further splits with positive gain, best gain: -inf\n",
      "[LightGBM] [Warning] No further splits with positive gain, best gain: -inf\n",
      "[LightGBM] [Warning] No further splits with positive gain, best gain: -inf\n",
      "[LightGBM] [Warning] No further splits with positive gain, best gain: -inf\n",
      "[LightGBM] [Warning] No further splits with positive gain, best gain: -inf\n",
      "[LightGBM] [Warning] No further splits with positive gain, best gain: -inf\n",
      "[LightGBM] [Warning] No further splits with positive gain, best gain: -inf\n",
      "[LightGBM] [Warning] No further splits with positive gain, best gain: -inf\n",
      "[LightGBM] [Warning] No further splits with positive gain, best gain: -inf\n",
      "[LightGBM] [Warning] No further splits with positive gain, best gain: -inf\n",
      "[LightGBM] [Warning] No further splits with positive gain, best gain: -inf\n",
      "[LightGBM] [Warning] No further splits with positive gain, best gain: -inf\n",
      "[LightGBM] [Warning] No further splits with positive gain, best gain: -inf\n",
      "[LightGBM] [Warning] No further splits with positive gain, best gain: -inf\n",
      "[LightGBM] [Warning] No further splits with positive gain, best gain: -inf\n",
      "[LightGBM] [Warning] No further splits with positive gain, best gain: -inf\n",
      "[LightGBM] [Warning] No further splits with positive gain, best gain: -inf\n",
      "[LightGBM] [Warning] No further splits with positive gain, best gain: -inf\n",
      "[LightGBM] [Warning] No further splits with positive gain, best gain: -inf\n",
      "[LightGBM] [Warning] No further splits with positive gain, best gain: -inf\n",
      "[LightGBM] [Warning] No further splits with positive gain, best gain: -inf\n"
     ]
    },
    {
     "name": "stdout",
     "output_type": "stream",
     "text": [
      "[LightGBM] [Warning] No further splits with positive gain, best gain: -inf\n",
      "[LightGBM] [Warning] No further splits with positive gain, best gain: -inf\n",
      "[LightGBM] [Warning] No further splits with positive gain, best gain: -inf\n",
      "[LightGBM] [Warning] No further splits with positive gain, best gain: -inf\n",
      "[LightGBM] [Warning] No further splits with positive gain, best gain: -inf\n",
      "[LightGBM] [Warning] No further splits with positive gain, best gain: -inf\n",
      "[LightGBM] [Warning] No further splits with positive gain, best gain: -inf\n",
      "[LightGBM] [Warning] No further splits with positive gain, best gain: -inf\n",
      "[LightGBM] [Warning] No further splits with positive gain, best gain: -inf\n",
      "[LightGBM] [Warning] No further splits with positive gain, best gain: -inf\n",
      "[LightGBM] [Warning] No further splits with positive gain, best gain: -inf\n",
      "[LightGBM] [Warning] No further splits with positive gain, best gain: -inf\n",
      "[LightGBM] [Warning] No further splits with positive gain, best gain: -inf\n",
      "[LightGBM] [Warning] No further splits with positive gain, best gain: -inf\n",
      "[LightGBM] [Warning] No further splits with positive gain, best gain: -inf\n",
      "[LightGBM] [Warning] No further splits with positive gain, best gain: -inf\n",
      "[LightGBM] [Warning] No further splits with positive gain, best gain: -inf\n",
      "[LightGBM] [Warning] No further splits with positive gain, best gain: -inf\n",
      "[LightGBM] [Warning] No further splits with positive gain, best gain: -inf\n",
      "[LightGBM] [Warning] No further splits with positive gain, best gain: -inf\n",
      "[LightGBM] [Warning] No further splits with positive gain, best gain: -inf\n",
      "[LightGBM] [Warning] No further splits with positive gain, best gain: -inf\n",
      "[LightGBM] [Warning] No further splits with positive gain, best gain: -inf\n",
      "[LightGBM] [Warning] No further splits with positive gain, best gain: -inf\n",
      "[LightGBM] [Warning] No further splits with positive gain, best gain: -inf\n",
      "[LightGBM] [Warning] No further splits with positive gain, best gain: -inf\n",
      "[LightGBM] [Warning] No further splits with positive gain, best gain: -inf\n",
      "[LightGBM] [Warning] No further splits with positive gain, best gain: -inf\n",
      "[LightGBM] [Warning] No further splits with positive gain, best gain: -inf\n",
      "[LightGBM] [Warning] No further splits with positive gain, best gain: -inf\n",
      "[LightGBM] [Warning] No further splits with positive gain, best gain: -inf\n",
      "[LightGBM] [Warning] No further splits with positive gain, best gain: -inf\n",
      "[LightGBM] [Warning] No further splits with positive gain, best gain: -inf\n",
      "[LightGBM] [Warning] No further splits with positive gain, best gain: -inf\n",
      "[LightGBM] [Warning] No further splits with positive gain, best gain: -inf\n",
      "[LightGBM] [Warning] No further splits with positive gain, best gain: -inf\n",
      "[LightGBM] [Warning] No further splits with positive gain, best gain: -inf\n",
      "[LightGBM] [Warning] No further splits with positive gain, best gain: -inf\n",
      "[LightGBM] [Warning] No further splits with positive gain, best gain: -inf\n",
      "[LightGBM] [Warning] No further splits with positive gain, best gain: -inf\n",
      "[LightGBM] [Warning] No further splits with positive gain, best gain: -inf\n",
      "[LightGBM] [Warning] No further splits with positive gain, best gain: -inf\n",
      "[LightGBM] [Warning] No further splits with positive gain, best gain: -inf\n",
      "[LightGBM] [Warning] No further splits with positive gain, best gain: -inf\n",
      "[LightGBM] [Warning] No further splits with positive gain, best gain: -inf\n",
      "[LightGBM] [Warning] No further splits with positive gain, best gain: -inf\n",
      "[LightGBM] [Warning] No further splits with positive gain, best gain: -inf\n",
      "[LightGBM] [Warning] No further splits with positive gain, best gain: -inf\n",
      "[LightGBM] [Warning] No further splits with positive gain, best gain: -inf\n",
      "[LightGBM] [Warning] No further splits with positive gain, best gain: -inf\n",
      "[LightGBM] [Warning] No further splits with positive gain, best gain: -inf\n",
      "[LightGBM] [Warning] No further splits with positive gain, best gain: -inf\n",
      "[LightGBM] [Warning] No further splits with positive gain, best gain: -inf\n",
      "[LightGBM] [Warning] No further splits with positive gain, best gain: -inf\n",
      "[LightGBM] [Warning] No further splits with positive gain, best gain: -inf\n",
      "[LightGBM] [Warning] No further splits with positive gain, best gain: -inf\n",
      "[LightGBM] [Warning] No further splits with positive gain, best gain: -inf\n",
      "[LightGBM] [Warning] No further splits with positive gain, best gain: -inf\n",
      "[LightGBM] [Warning] No further splits with positive gain, best gain: -inf\n",
      "[LightGBM] [Warning] No further splits with positive gain, best gain: -inf\n",
      "[LightGBM] [Warning] No further splits with positive gain, best gain: -inf\n",
      "[LightGBM] [Warning] No further splits with positive gain, best gain: -inf\n",
      "[LightGBM] [Warning] No further splits with positive gain, best gain: -inf\n",
      "[LightGBM] [Warning] No further splits with positive gain, best gain: -inf\n",
      "[LightGBM] [Warning] No further splits with positive gain, best gain: -inf\n",
      "[LightGBM] [Warning] No further splits with positive gain, best gain: -inf\n",
      "[LightGBM] [Warning] No further splits with positive gain, best gain: -inf\n",
      "[LightGBM] [Warning] No further splits with positive gain, best gain: -inf\n",
      "[LightGBM] [Warning] No further splits with positive gain, best gain: -inf\n",
      "[LightGBM] [Warning] No further splits with positive gain, best gain: -inf\n",
      "[LightGBM] [Warning] No further splits with positive gain, best gain: -inf\n",
      "[LightGBM] [Warning] No further splits with positive gain, best gain: -inf\n",
      "[LightGBM] [Warning] No further splits with positive gain, best gain: -inf\n",
      "[LightGBM] [Warning] No further splits with positive gain, best gain: -inf\n",
      "[LightGBM] [Warning] No further splits with positive gain, best gain: -inf\n",
      "[LightGBM] [Warning] No further splits with positive gain, best gain: -inf\n",
      "[LightGBM] [Warning] No further splits with positive gain, best gain: -inf\n",
      "[LightGBM] [Warning] No further splits with positive gain, best gain: -inf\n",
      "[LightGBM] [Warning] No further splits with positive gain, best gain: -inf\n",
      "[LightGBM] [Warning] No further splits with positive gain, best gain: -inf\n",
      "[LightGBM] [Warning] No further splits with positive gain, best gain: -inf\n",
      "[LightGBM] [Warning] No further splits with positive gain, best gain: -inf\n",
      "[LightGBM] [Warning] No further splits with positive gain, best gain: -inf\n",
      "[LightGBM] [Warning] No further splits with positive gain, best gain: -inf\n",
      "[LightGBM] [Warning] No further splits with positive gain, best gain: -inf\n",
      "[LightGBM] [Warning] No further splits with positive gain, best gain: -inf\n",
      "[LightGBM] [Warning] No further splits with positive gain, best gain: -inf\n",
      "[LightGBM] [Warning] No further splits with positive gain, best gain: -inf\n",
      "[LightGBM] [Warning] No further splits with positive gain, best gain: -inf\n",
      "[LightGBM] [Warning] No further splits with positive gain, best gain: -inf\n",
      "[LightGBM] [Warning] No further splits with positive gain, best gain: -inf\n",
      "[LightGBM] [Warning] No further splits with positive gain, best gain: -inf\n",
      "[LightGBM] [Warning] No further splits with positive gain, best gain: -inf\n",
      "[LightGBM] [Warning] No further splits with positive gain, best gain: -inf\n",
      "[LightGBM] [Warning] No further splits with positive gain, best gain: -inf\n",
      "[LightGBM] [Warning] No further splits with positive gain, best gain: -inf\n",
      "[LightGBM] [Warning] No further splits with positive gain, best gain: -inf\n",
      "[LightGBM] [Warning] No further splits with positive gain, best gain: -inf\n",
      "[LightGBM] [Warning] No further splits with positive gain, best gain: -inf\n",
      "[LightGBM] [Warning] No further splits with positive gain, best gain: -inf\n",
      "[LightGBM] [Warning] No further splits with positive gain, best gain: -inf\n",
      "[LightGBM] [Warning] No further splits with positive gain, best gain: -inf\n",
      "[LightGBM] [Warning] No further splits with positive gain, best gain: -inf\n",
      "[LightGBM] [Warning] No further splits with positive gain, best gain: -inf\n",
      "[LightGBM] [Warning] No further splits with positive gain, best gain: -inf\n",
      "[LightGBM] [Warning] No further splits with positive gain, best gain: -inf\n",
      "[LightGBM] [Warning] No further splits with positive gain, best gain: -inf\n",
      "[LightGBM] [Warning] No further splits with positive gain, best gain: -inf\n",
      "[LightGBM] [Warning] No further splits with positive gain, best gain: -inf\n",
      "[LightGBM] [Warning] No further splits with positive gain, best gain: -inf\n",
      "[200]\tvalid_0's multi_logloss: 0.90187\n",
      "[LightGBM] [Warning] No further splits with positive gain, best gain: -inf\n",
      "[LightGBM] [Warning] No further splits with positive gain, best gain: -inf\n",
      "[LightGBM] [Warning] No further splits with positive gain, best gain: -inf\n",
      "[LightGBM] [Warning] No further splits with positive gain, best gain: -inf\n",
      "[LightGBM] [Warning] No further splits with positive gain, best gain: -inf\n",
      "[LightGBM] [Warning] No further splits with positive gain, best gain: -inf\n",
      "[LightGBM] [Warning] No further splits with positive gain, best gain: -inf\n",
      "[LightGBM] [Warning] No further splits with positive gain, best gain: -inf\n",
      "[LightGBM] [Warning] No further splits with positive gain, best gain: -inf\n",
      "[LightGBM] [Warning] No further splits with positive gain, best gain: -inf\n",
      "[LightGBM] [Warning] No further splits with positive gain, best gain: -inf\n",
      "[LightGBM] [Warning] No further splits with positive gain, best gain: -inf\n",
      "[LightGBM] [Warning] No further splits with positive gain, best gain: -inf\n",
      "[LightGBM] [Warning] No further splits with positive gain, best gain: -inf\n",
      "[LightGBM] [Warning] No further splits with positive gain, best gain: -inf\n",
      "[LightGBM] [Warning] No further splits with positive gain, best gain: -inf\n",
      "[LightGBM] [Warning] No further splits with positive gain, best gain: -inf\n",
      "[LightGBM] [Warning] No further splits with positive gain, best gain: -inf\n",
      "[LightGBM] [Warning] No further splits with positive gain, best gain: -inf\n",
      "[LightGBM] [Warning] No further splits with positive gain, best gain: -inf\n",
      "[LightGBM] [Warning] No further splits with positive gain, best gain: -inf\n",
      "[LightGBM] [Warning] No further splits with positive gain, best gain: -inf\n",
      "[LightGBM] [Warning] No further splits with positive gain, best gain: -inf\n",
      "[LightGBM] [Warning] No further splits with positive gain, best gain: -inf\n",
      "[LightGBM] [Warning] No further splits with positive gain, best gain: -inf\n",
      "[LightGBM] [Warning] No further splits with positive gain, best gain: -inf\n",
      "[LightGBM] [Warning] No further splits with positive gain, best gain: -inf\n",
      "[LightGBM] [Warning] No further splits with positive gain, best gain: -inf\n",
      "[LightGBM] [Warning] No further splits with positive gain, best gain: -inf\n",
      "[LightGBM] [Warning] No further splits with positive gain, best gain: -inf\n",
      "[LightGBM] [Warning] No further splits with positive gain, best gain: -inf\n",
      "[LightGBM] [Warning] No further splits with positive gain, best gain: -inf\n",
      "[LightGBM] [Warning] No further splits with positive gain, best gain: -inf\n",
      "[LightGBM] [Warning] No further splits with positive gain, best gain: -inf\n",
      "[LightGBM] [Warning] No further splits with positive gain, best gain: -inf\n",
      "[LightGBM] [Warning] No further splits with positive gain, best gain: -inf\n",
      "[LightGBM] [Warning] No further splits with positive gain, best gain: -inf\n",
      "[LightGBM] [Warning] No further splits with positive gain, best gain: -inf\n",
      "[LightGBM] [Warning] No further splits with positive gain, best gain: -inf\n",
      "[LightGBM] [Warning] No further splits with positive gain, best gain: -inf\n",
      "[LightGBM] [Warning] No further splits with positive gain, best gain: -inf\n",
      "[LightGBM] [Warning] No further splits with positive gain, best gain: -inf\n",
      "[LightGBM] [Warning] No further splits with positive gain, best gain: -inf\n",
      "[LightGBM] [Warning] No further splits with positive gain, best gain: -inf\n",
      "[LightGBM] [Warning] No further splits with positive gain, best gain: -inf\n",
      "[LightGBM] [Warning] No further splits with positive gain, best gain: -inf\n",
      "[LightGBM] [Warning] No further splits with positive gain, best gain: -inf\n",
      "[LightGBM] [Warning] No further splits with positive gain, best gain: -inf\n",
      "[LightGBM] [Warning] No further splits with positive gain, best gain: -inf\n",
      "[LightGBM] [Warning] No further splits with positive gain, best gain: -inf\n",
      "[LightGBM] [Warning] No further splits with positive gain, best gain: -inf\n",
      "[LightGBM] [Warning] No further splits with positive gain, best gain: -inf\n",
      "[LightGBM] [Warning] No further splits with positive gain, best gain: -inf\n",
      "[LightGBM] [Warning] No further splits with positive gain, best gain: -inf\n",
      "[LightGBM] [Warning] No further splits with positive gain, best gain: -inf\n",
      "[LightGBM] [Warning] No further splits with positive gain, best gain: -inf\n",
      "[LightGBM] [Warning] No further splits with positive gain, best gain: -inf\n",
      "[LightGBM] [Warning] No further splits with positive gain, best gain: -inf\n",
      "[LightGBM] [Warning] No further splits with positive gain, best gain: -inf\n",
      "[LightGBM] [Warning] No further splits with positive gain, best gain: -inf\n",
      "[LightGBM] [Warning] No further splits with positive gain, best gain: -inf\n",
      "[LightGBM] [Warning] No further splits with positive gain, best gain: -inf\n",
      "[LightGBM] [Warning] No further splits with positive gain, best gain: -inf\n",
      "[LightGBM] [Warning] No further splits with positive gain, best gain: -inf\n",
      "[LightGBM] [Warning] No further splits with positive gain, best gain: -inf\n",
      "[LightGBM] [Warning] No further splits with positive gain, best gain: -inf\n",
      "[LightGBM] [Warning] No further splits with positive gain, best gain: -inf\n",
      "[LightGBM] [Warning] No further splits with positive gain, best gain: -inf\n",
      "[LightGBM] [Warning] No further splits with positive gain, best gain: -inf\n",
      "[LightGBM] [Warning] No further splits with positive gain, best gain: -inf\n",
      "[LightGBM] [Warning] No further splits with positive gain, best gain: -inf\n",
      "[LightGBM] [Warning] No further splits with positive gain, best gain: -inf\n",
      "[LightGBM] [Warning] No further splits with positive gain, best gain: -inf\n",
      "[LightGBM] [Warning] No further splits with positive gain, best gain: -inf\n",
      "[LightGBM] [Warning] No further splits with positive gain, best gain: -inf\n",
      "[LightGBM] [Warning] No further splits with positive gain, best gain: -inf\n",
      "[LightGBM] [Warning] No further splits with positive gain, best gain: -inf\n",
      "[LightGBM] [Warning] No further splits with positive gain, best gain: -inf\n",
      "[LightGBM] [Warning] No further splits with positive gain, best gain: -inf\n",
      "[LightGBM] [Warning] No further splits with positive gain, best gain: -inf\n",
      "[LightGBM] [Warning] No further splits with positive gain, best gain: -inf\n",
      "[LightGBM] [Warning] No further splits with positive gain, best gain: -inf\n",
      "[LightGBM] [Warning] No further splits with positive gain, best gain: -inf\n",
      "[LightGBM] [Warning] No further splits with positive gain, best gain: -inf\n",
      "[LightGBM] [Warning] No further splits with positive gain, best gain: -inf\n",
      "[LightGBM] [Warning] No further splits with positive gain, best gain: -inf\n",
      "[LightGBM] [Warning] No further splits with positive gain, best gain: -inf\n",
      "[LightGBM] [Warning] No further splits with positive gain, best gain: -inf\n",
      "[LightGBM] [Warning] No further splits with positive gain, best gain: -inf\n",
      "[LightGBM] [Warning] No further splits with positive gain, best gain: -inf\n",
      "[LightGBM] [Warning] No further splits with positive gain, best gain: -inf\n",
      "[LightGBM] [Warning] No further splits with positive gain, best gain: -inf\n",
      "[LightGBM] [Warning] No further splits with positive gain, best gain: -inf\n",
      "[LightGBM] [Warning] No further splits with positive gain, best gain: -inf\n",
      "[LightGBM] [Warning] No further splits with positive gain, best gain: -inf\n",
      "[LightGBM] [Warning] No further splits with positive gain, best gain: -inf\n",
      "[LightGBM] [Warning] No further splits with positive gain, best gain: -inf\n",
      "[LightGBM] [Warning] No further splits with positive gain, best gain: -inf\n",
      "[LightGBM] [Warning] No further splits with positive gain, best gain: -inf\n",
      "[LightGBM] [Warning] No further splits with positive gain, best gain: -inf\n",
      "[LightGBM] [Warning] No further splits with positive gain, best gain: -inf\n",
      "[LightGBM] [Warning] No further splits with positive gain, best gain: -inf\n",
      "[LightGBM] [Warning] No further splits with positive gain, best gain: -inf\n",
      "[LightGBM] [Warning] No further splits with positive gain, best gain: -inf\n",
      "[LightGBM] [Warning] No further splits with positive gain, best gain: -inf\n",
      "[LightGBM] [Warning] No further splits with positive gain, best gain: -inf\n",
      "[LightGBM] [Warning] No further splits with positive gain, best gain: -inf\n",
      "[LightGBM] [Warning] No further splits with positive gain, best gain: -inf\n"
     ]
    },
    {
     "name": "stdout",
     "output_type": "stream",
     "text": [
      "[LightGBM] [Warning] No further splits with positive gain, best gain: -inf\n",
      "[LightGBM] [Warning] No further splits with positive gain, best gain: -inf\n",
      "[LightGBM] [Warning] No further splits with positive gain, best gain: -inf\n",
      "[LightGBM] [Warning] No further splits with positive gain, best gain: -inf\n",
      "[LightGBM] [Warning] No further splits with positive gain, best gain: -inf\n",
      "[LightGBM] [Warning] No further splits with positive gain, best gain: -inf\n",
      "[LightGBM] [Warning] No further splits with positive gain, best gain: -inf\n",
      "[LightGBM] [Warning] No further splits with positive gain, best gain: -inf\n",
      "[LightGBM] [Warning] No further splits with positive gain, best gain: -inf\n",
      "[LightGBM] [Warning] No further splits with positive gain, best gain: -inf\n",
      "[LightGBM] [Warning] No further splits with positive gain, best gain: -inf\n",
      "[LightGBM] [Warning] No further splits with positive gain, best gain: -inf\n",
      "[LightGBM] [Warning] No further splits with positive gain, best gain: -inf\n",
      "[LightGBM] [Warning] No further splits with positive gain, best gain: -inf\n",
      "[LightGBM] [Warning] No further splits with positive gain, best gain: -inf\n",
      "[LightGBM] [Warning] No further splits with positive gain, best gain: -inf\n",
      "[LightGBM] [Warning] No further splits with positive gain, best gain: -inf\n",
      "[LightGBM] [Warning] No further splits with positive gain, best gain: -inf\n",
      "[LightGBM] [Warning] No further splits with positive gain, best gain: -inf\n",
      "[LightGBM] [Warning] No further splits with positive gain, best gain: -inf\n",
      "[LightGBM] [Warning] No further splits with positive gain, best gain: -inf\n",
      "[LightGBM] [Warning] No further splits with positive gain, best gain: -inf\n",
      "[LightGBM] [Warning] No further splits with positive gain, best gain: -inf\n",
      "[LightGBM] [Warning] No further splits with positive gain, best gain: -inf\n",
      "[LightGBM] [Warning] No further splits with positive gain, best gain: -inf\n",
      "[LightGBM] [Warning] No further splits with positive gain, best gain: -inf\n",
      "[LightGBM] [Warning] No further splits with positive gain, best gain: -inf\n",
      "[LightGBM] [Warning] No further splits with positive gain, best gain: -inf\n",
      "[LightGBM] [Warning] No further splits with positive gain, best gain: -inf\n",
      "[LightGBM] [Warning] No further splits with positive gain, best gain: -inf\n",
      "[LightGBM] [Warning] No further splits with positive gain, best gain: -inf\n",
      "[LightGBM] [Warning] No further splits with positive gain, best gain: -inf\n",
      "[LightGBM] [Warning] No further splits with positive gain, best gain: -inf\n",
      "[LightGBM] [Warning] No further splits with positive gain, best gain: -inf\n",
      "[LightGBM] [Warning] No further splits with positive gain, best gain: -inf\n",
      "[LightGBM] [Warning] No further splits with positive gain, best gain: -inf\n",
      "[LightGBM] [Warning] No further splits with positive gain, best gain: -inf\n",
      "[LightGBM] [Warning] No further splits with positive gain, best gain: -inf\n",
      "[LightGBM] [Warning] No further splits with positive gain, best gain: -inf\n",
      "[LightGBM] [Warning] No further splits with positive gain, best gain: -inf\n",
      "[LightGBM] [Warning] No further splits with positive gain, best gain: -inf\n",
      "[LightGBM] [Warning] No further splits with positive gain, best gain: -inf\n",
      "[LightGBM] [Warning] No further splits with positive gain, best gain: -inf\n",
      "[LightGBM] [Warning] No further splits with positive gain, best gain: -inf\n",
      "[LightGBM] [Warning] No further splits with positive gain, best gain: -inf\n",
      "[LightGBM] [Warning] No further splits with positive gain, best gain: -inf\n",
      "[LightGBM] [Warning] No further splits with positive gain, best gain: -inf\n",
      "[LightGBM] [Warning] No further splits with positive gain, best gain: -inf\n",
      "[LightGBM] [Warning] No further splits with positive gain, best gain: -inf\n",
      "[LightGBM] [Warning] No further splits with positive gain, best gain: -inf\n",
      "[LightGBM] [Warning] No further splits with positive gain, best gain: -inf\n",
      "[LightGBM] [Warning] No further splits with positive gain, best gain: -inf\n",
      "[LightGBM] [Warning] No further splits with positive gain, best gain: -inf\n",
      "[LightGBM] [Warning] No further splits with positive gain, best gain: -inf\n",
      "[LightGBM] [Warning] No further splits with positive gain, best gain: -inf\n",
      "[LightGBM] [Warning] No further splits with positive gain, best gain: -inf\n",
      "[LightGBM] [Warning] No further splits with positive gain, best gain: -inf\n",
      "[LightGBM] [Warning] No further splits with positive gain, best gain: -inf\n",
      "[LightGBM] [Warning] No further splits with positive gain, best gain: -inf\n",
      "[LightGBM] [Warning] No further splits with positive gain, best gain: -inf\n",
      "[LightGBM] [Warning] No further splits with positive gain, best gain: -inf\n",
      "[LightGBM] [Warning] No further splits with positive gain, best gain: -inf\n",
      "[LightGBM] [Warning] No further splits with positive gain, best gain: -inf\n",
      "[LightGBM] [Warning] No further splits with positive gain, best gain: -inf\n",
      "[LightGBM] [Warning] No further splits with positive gain, best gain: -inf\n",
      "[LightGBM] [Warning] No further splits with positive gain, best gain: -inf\n",
      "[LightGBM] [Warning] No further splits with positive gain, best gain: -inf\n",
      "[LightGBM] [Warning] No further splits with positive gain, best gain: -inf\n",
      "[LightGBM] [Warning] No further splits with positive gain, best gain: -inf\n",
      "[LightGBM] [Warning] No further splits with positive gain, best gain: -inf\n",
      "[LightGBM] [Warning] No further splits with positive gain, best gain: -inf\n",
      "[LightGBM] [Warning] No further splits with positive gain, best gain: -inf\n",
      "[LightGBM] [Warning] No further splits with positive gain, best gain: -inf\n",
      "[LightGBM] [Warning] No further splits with positive gain, best gain: -inf\n",
      "[LightGBM] [Warning] No further splits with positive gain, best gain: -inf\n",
      "[LightGBM] [Warning] No further splits with positive gain, best gain: -inf\n",
      "[LightGBM] [Warning] No further splits with positive gain, best gain: -inf\n",
      "[LightGBM] [Warning] No further splits with positive gain, best gain: -inf\n",
      "[LightGBM] [Warning] No further splits with positive gain, best gain: -inf\n",
      "[LightGBM] [Warning] No further splits with positive gain, best gain: -inf\n",
      "[LightGBM] [Warning] No further splits with positive gain, best gain: -inf\n",
      "[LightGBM] [Warning] No further splits with positive gain, best gain: -inf\n",
      "[LightGBM] [Warning] No further splits with positive gain, best gain: -inf\n",
      "[LightGBM] [Warning] No further splits with positive gain, best gain: -inf\n",
      "[LightGBM] [Warning] No further splits with positive gain, best gain: -inf\n",
      "[LightGBM] [Warning] No further splits with positive gain, best gain: -inf\n",
      "[LightGBM] [Warning] No further splits with positive gain, best gain: -inf\n",
      "[LightGBM] [Warning] No further splits with positive gain, best gain: -inf\n",
      "[LightGBM] [Warning] No further splits with positive gain, best gain: -inf\n",
      "[LightGBM] [Warning] No further splits with positive gain, best gain: -inf\n",
      "[LightGBM] [Warning] No further splits with positive gain, best gain: -inf\n",
      "[LightGBM] [Warning] No further splits with positive gain, best gain: -inf\n",
      "[LightGBM] [Warning] No further splits with positive gain, best gain: -inf\n",
      "[LightGBM] [Warning] No further splits with positive gain, best gain: -inf\n",
      "[LightGBM] [Warning] No further splits with positive gain, best gain: -inf\n",
      "[LightGBM] [Warning] No further splits with positive gain, best gain: -inf\n",
      "[LightGBM] [Warning] No further splits with positive gain, best gain: -inf\n",
      "[LightGBM] [Warning] No further splits with positive gain, best gain: -inf\n",
      "[LightGBM] [Warning] No further splits with positive gain, best gain: -inf\n",
      "[LightGBM] [Warning] No further splits with positive gain, best gain: -inf\n",
      "[LightGBM] [Warning] No further splits with positive gain, best gain: -inf\n",
      "[LightGBM] [Warning] No further splits with positive gain, best gain: -inf\n",
      "[LightGBM] [Warning] No further splits with positive gain, best gain: -inf\n",
      "[LightGBM] [Warning] No further splits with positive gain, best gain: -inf\n",
      "[LightGBM] [Warning] No further splits with positive gain, best gain: -inf\n",
      "[LightGBM] [Warning] No further splits with positive gain, best gain: -inf\n",
      "[LightGBM] [Warning] No further splits with positive gain, best gain: -inf\n",
      "[LightGBM] [Warning] No further splits with positive gain, best gain: -inf\n",
      "[LightGBM] [Warning] No further splits with positive gain, best gain: -inf\n",
      "[LightGBM] [Warning] No further splits with positive gain, best gain: -inf\n"
     ]
    },
    {
     "name": "stdout",
     "output_type": "stream",
     "text": [
      "[LightGBM] [Warning] No further splits with positive gain, best gain: -inf\n",
      "[LightGBM] [Warning] No further splits with positive gain, best gain: -inf\n",
      "[LightGBM] [Warning] No further splits with positive gain, best gain: -inf\n",
      "[LightGBM] [Warning] No further splits with positive gain, best gain: -inf\n",
      "[LightGBM] [Warning] No further splits with positive gain, best gain: -inf\n",
      "[LightGBM] [Warning] No further splits with positive gain, best gain: -inf\n",
      "[LightGBM] [Warning] No further splits with positive gain, best gain: -inf\n",
      "[LightGBM] [Warning] No further splits with positive gain, best gain: -inf\n",
      "[LightGBM] [Warning] No further splits with positive gain, best gain: -inf\n",
      "[LightGBM] [Warning] No further splits with positive gain, best gain: -inf\n",
      "[LightGBM] [Warning] No further splits with positive gain, best gain: -inf\n",
      "[LightGBM] [Warning] No further splits with positive gain, best gain: -inf\n",
      "[LightGBM] [Warning] No further splits with positive gain, best gain: -inf\n",
      "[LightGBM] [Warning] No further splits with positive gain, best gain: -inf\n",
      "[LightGBM] [Warning] No further splits with positive gain, best gain: -inf\n",
      "[LightGBM] [Warning] No further splits with positive gain, best gain: -inf\n",
      "[LightGBM] [Warning] No further splits with positive gain, best gain: -inf\n",
      "[LightGBM] [Warning] No further splits with positive gain, best gain: -inf\n",
      "[LightGBM] [Warning] No further splits with positive gain, best gain: -inf\n",
      "[LightGBM] [Warning] No further splits with positive gain, best gain: -inf\n",
      "[LightGBM] [Warning] No further splits with positive gain, best gain: -inf\n",
      "[LightGBM] [Warning] No further splits with positive gain, best gain: -inf\n",
      "[LightGBM] [Warning] No further splits with positive gain, best gain: -inf\n",
      "[LightGBM] [Warning] No further splits with positive gain, best gain: -inf\n",
      "[LightGBM] [Warning] No further splits with positive gain, best gain: -inf\n",
      "[LightGBM] [Warning] No further splits with positive gain, best gain: -inf\n",
      "[LightGBM] [Warning] No further splits with positive gain, best gain: -inf\n",
      "[LightGBM] [Warning] No further splits with positive gain, best gain: -inf\n",
      "[LightGBM] [Warning] No further splits with positive gain, best gain: -inf\n",
      "[LightGBM] [Warning] No further splits with positive gain, best gain: -inf\n",
      "[LightGBM] [Warning] No further splits with positive gain, best gain: -inf\n",
      "[LightGBM] [Warning] No further splits with positive gain, best gain: -inf\n",
      "[LightGBM] [Warning] No further splits with positive gain, best gain: -inf\n",
      "[LightGBM] [Warning] No further splits with positive gain, best gain: -inf\n",
      "[LightGBM] [Warning] No further splits with positive gain, best gain: -inf\n",
      "[LightGBM] [Warning] No further splits with positive gain, best gain: -inf\n",
      "[LightGBM] [Warning] No further splits with positive gain, best gain: -inf\n",
      "[LightGBM] [Warning] No further splits with positive gain, best gain: -inf\n",
      "[LightGBM] [Warning] No further splits with positive gain, best gain: -inf\n",
      "[LightGBM] [Warning] No further splits with positive gain, best gain: -inf\n",
      "[LightGBM] [Warning] No further splits with positive gain, best gain: -inf\n",
      "[LightGBM] [Warning] No further splits with positive gain, best gain: -inf\n",
      "[LightGBM] [Warning] No further splits with positive gain, best gain: -inf\n",
      "[LightGBM] [Warning] No further splits with positive gain, best gain: -inf\n",
      "[LightGBM] [Warning] No further splits with positive gain, best gain: -inf\n",
      "[LightGBM] [Warning] No further splits with positive gain, best gain: -inf\n",
      "[LightGBM] [Warning] No further splits with positive gain, best gain: -inf\n",
      "[LightGBM] [Warning] No further splits with positive gain, best gain: -inf\n",
      "[LightGBM] [Warning] No further splits with positive gain, best gain: -inf\n",
      "[LightGBM] [Warning] No further splits with positive gain, best gain: -inf\n",
      "[LightGBM] [Warning] No further splits with positive gain, best gain: -inf\n",
      "[LightGBM] [Warning] No further splits with positive gain, best gain: -inf\n",
      "[LightGBM] [Warning] No further splits with positive gain, best gain: -inf\n",
      "[LightGBM] [Warning] No further splits with positive gain, best gain: -inf\n",
      "[LightGBM] [Warning] No further splits with positive gain, best gain: -inf\n",
      "[LightGBM] [Warning] No further splits with positive gain, best gain: -inf\n",
      "[LightGBM] [Warning] No further splits with positive gain, best gain: -inf\n",
      "[LightGBM] [Warning] No further splits with positive gain, best gain: -inf\n",
      "[LightGBM] [Warning] No further splits with positive gain, best gain: -inf\n",
      "[LightGBM] [Warning] No further splits with positive gain, best gain: -inf\n",
      "[LightGBM] [Warning] No further splits with positive gain, best gain: -inf\n",
      "[LightGBM] [Warning] No further splits with positive gain, best gain: -inf\n",
      "[LightGBM] [Warning] No further splits with positive gain, best gain: -inf\n",
      "[LightGBM] [Warning] No further splits with positive gain, best gain: -inf\n",
      "[LightGBM] [Warning] No further splits with positive gain, best gain: -inf\n",
      "[LightGBM] [Warning] No further splits with positive gain, best gain: -inf\n",
      "[LightGBM] [Warning] No further splits with positive gain, best gain: -inf\n",
      "[LightGBM] [Warning] No further splits with positive gain, best gain: -inf\n",
      "[LightGBM] [Warning] No further splits with positive gain, best gain: -inf\n",
      "[LightGBM] [Warning] No further splits with positive gain, best gain: -inf\n",
      "[LightGBM] [Warning] No further splits with positive gain, best gain: -inf\n",
      "[LightGBM] [Warning] No further splits with positive gain, best gain: -inf\n",
      "[LightGBM] [Warning] No further splits with positive gain, best gain: -inf\n",
      "[LightGBM] [Warning] No further splits with positive gain, best gain: -inf\n",
      "[LightGBM] [Warning] No further splits with positive gain, best gain: -inf\n",
      "[LightGBM] [Warning] No further splits with positive gain, best gain: -inf\n",
      "[LightGBM] [Warning] No further splits with positive gain, best gain: -inf\n",
      "[LightGBM] [Warning] No further splits with positive gain, best gain: -inf\n",
      "[LightGBM] [Warning] No further splits with positive gain, best gain: -inf\n",
      "[LightGBM] [Warning] No further splits with positive gain, best gain: -inf\n",
      "[LightGBM] [Warning] No further splits with positive gain, best gain: -inf\n",
      "[LightGBM] [Warning] No further splits with positive gain, best gain: -inf\n",
      "[LightGBM] [Warning] No further splits with positive gain, best gain: -inf\n",
      "[LightGBM] [Warning] No further splits with positive gain, best gain: -inf\n",
      "[LightGBM] [Warning] No further splits with positive gain, best gain: -inf\n",
      "[LightGBM] [Warning] No further splits with positive gain, best gain: -inf\n",
      "[LightGBM] [Warning] No further splits with positive gain, best gain: -inf\n",
      "[LightGBM] [Warning] No further splits with positive gain, best gain: -inf\n",
      "[LightGBM] [Warning] No further splits with positive gain, best gain: -inf\n",
      "[LightGBM] [Warning] No further splits with positive gain, best gain: -inf\n",
      "[LightGBM] [Warning] No further splits with positive gain, best gain: -inf\n",
      "[LightGBM] [Warning] No further splits with positive gain, best gain: -inf\n",
      "[LightGBM] [Warning] No further splits with positive gain, best gain: -inf\n",
      "[LightGBM] [Warning] No further splits with positive gain, best gain: -inf\n",
      "[LightGBM] [Warning] No further splits with positive gain, best gain: -inf\n",
      "[LightGBM] [Warning] No further splits with positive gain, best gain: -inf\n",
      "[LightGBM] [Warning] No further splits with positive gain, best gain: -inf\n",
      "[LightGBM] [Warning] No further splits with positive gain, best gain: -inf\n",
      "[LightGBM] [Warning] No further splits with positive gain, best gain: -inf\n",
      "[LightGBM] [Warning] No further splits with positive gain, best gain: -inf\n",
      "[LightGBM] [Warning] No further splits with positive gain, best gain: -inf\n",
      "[LightGBM] [Warning] No further splits with positive gain, best gain: -inf\n",
      "[LightGBM] [Warning] No further splits with positive gain, best gain: -inf\n",
      "[LightGBM] [Warning] No further splits with positive gain, best gain: -inf\n",
      "[LightGBM] [Warning] No further splits with positive gain, best gain: -inf\n",
      "[LightGBM] [Warning] No further splits with positive gain, best gain: -inf\n",
      "[LightGBM] [Warning] No further splits with positive gain, best gain: -inf\n",
      "[LightGBM] [Warning] No further splits with positive gain, best gain: -inf\n",
      "[LightGBM] [Warning] No further splits with positive gain, best gain: -inf\n",
      "[LightGBM] [Warning] No further splits with positive gain, best gain: -inf\n"
     ]
    },
    {
     "name": "stdout",
     "output_type": "stream",
     "text": [
      "[LightGBM] [Warning] No further splits with positive gain, best gain: -inf\n",
      "[LightGBM] [Warning] No further splits with positive gain, best gain: -inf\n",
      "[LightGBM] [Warning] No further splits with positive gain, best gain: -inf\n",
      "[LightGBM] [Warning] No further splits with positive gain, best gain: -inf\n",
      "[LightGBM] [Warning] No further splits with positive gain, best gain: -inf\n",
      "[LightGBM] [Warning] No further splits with positive gain, best gain: -inf\n",
      "[LightGBM] [Warning] No further splits with positive gain, best gain: -inf\n",
      "[LightGBM] [Warning] No further splits with positive gain, best gain: -inf\n",
      "[LightGBM] [Warning] No further splits with positive gain, best gain: -inf\n",
      "[LightGBM] [Warning] No further splits with positive gain, best gain: -inf\n",
      "[LightGBM] [Warning] No further splits with positive gain, best gain: -inf\n",
      "[LightGBM] [Warning] No further splits with positive gain, best gain: -inf\n",
      "[LightGBM] [Warning] No further splits with positive gain, best gain: -inf\n",
      "[LightGBM] [Warning] No further splits with positive gain, best gain: -inf\n",
      "[LightGBM] [Warning] No further splits with positive gain, best gain: -inf\n",
      "[LightGBM] [Warning] No further splits with positive gain, best gain: -inf\n",
      "[LightGBM] [Warning] No further splits with positive gain, best gain: -inf\n",
      "[LightGBM] [Warning] No further splits with positive gain, best gain: -inf\n",
      "[LightGBM] [Warning] No further splits with positive gain, best gain: -inf\n",
      "[LightGBM] [Warning] No further splits with positive gain, best gain: -inf\n",
      "[LightGBM] [Warning] No further splits with positive gain, best gain: -inf\n",
      "[LightGBM] [Warning] No further splits with positive gain, best gain: -inf\n",
      "[LightGBM] [Warning] No further splits with positive gain, best gain: -inf\n",
      "[LightGBM] [Warning] No further splits with positive gain, best gain: -inf\n",
      "[LightGBM] [Warning] No further splits with positive gain, best gain: -inf\n",
      "[LightGBM] [Warning] No further splits with positive gain, best gain: -inf\n",
      "[LightGBM] [Warning] No further splits with positive gain, best gain: -inf\n",
      "[LightGBM] [Warning] No further splits with positive gain, best gain: -inf\n",
      "[LightGBM] [Warning] No further splits with positive gain, best gain: -inf\n",
      "[LightGBM] [Warning] No further splits with positive gain, best gain: -inf\n",
      "[LightGBM] [Warning] No further splits with positive gain, best gain: -inf\n",
      "[LightGBM] [Warning] No further splits with positive gain, best gain: -inf\n",
      "[LightGBM] [Warning] No further splits with positive gain, best gain: -inf\n",
      "[LightGBM] [Warning] No further splits with positive gain, best gain: -inf\n",
      "[LightGBM] [Warning] No further splits with positive gain, best gain: -inf\n",
      "[LightGBM] [Warning] No further splits with positive gain, best gain: -inf\n",
      "[LightGBM] [Warning] No further splits with positive gain, best gain: -inf\n",
      "[LightGBM] [Warning] No further splits with positive gain, best gain: -inf\n",
      "[LightGBM] [Warning] No further splits with positive gain, best gain: -inf\n",
      "[LightGBM] [Warning] No further splits with positive gain, best gain: -inf\n",
      "[LightGBM] [Warning] No further splits with positive gain, best gain: -inf\n",
      "[LightGBM] [Warning] No further splits with positive gain, best gain: -inf\n",
      "[LightGBM] [Warning] No further splits with positive gain, best gain: -inf\n",
      "[LightGBM] [Warning] No further splits with positive gain, best gain: -inf\n",
      "[LightGBM] [Warning] No further splits with positive gain, best gain: -inf\n",
      "[LightGBM] [Warning] No further splits with positive gain, best gain: -inf\n",
      "[LightGBM] [Warning] No further splits with positive gain, best gain: -inf\n",
      "[LightGBM] [Warning] No further splits with positive gain, best gain: -inf\n",
      "[LightGBM] [Warning] No further splits with positive gain, best gain: -inf\n",
      "[LightGBM] [Warning] No further splits with positive gain, best gain: -inf\n",
      "[LightGBM] [Warning] No further splits with positive gain, best gain: -inf\n",
      "[LightGBM] [Warning] No further splits with positive gain, best gain: -inf\n",
      "[LightGBM] [Warning] No further splits with positive gain, best gain: -inf\n",
      "[LightGBM] [Warning] No further splits with positive gain, best gain: -inf\n",
      "[LightGBM] [Warning] No further splits with positive gain, best gain: -inf\n",
      "[LightGBM] [Warning] No further splits with positive gain, best gain: -inf\n",
      "[LightGBM] [Warning] No further splits with positive gain, best gain: -inf\n",
      "[LightGBM] [Warning] No further splits with positive gain, best gain: -inf\n",
      "[LightGBM] [Warning] No further splits with positive gain, best gain: -inf\n",
      "[LightGBM] [Warning] No further splits with positive gain, best gain: -inf\n",
      "[LightGBM] [Warning] No further splits with positive gain, best gain: -inf\n",
      "[LightGBM] [Warning] No further splits with positive gain, best gain: -inf\n",
      "[LightGBM] [Warning] No further splits with positive gain, best gain: -inf\n",
      "[LightGBM] [Warning] No further splits with positive gain, best gain: -inf\n",
      "[LightGBM] [Warning] No further splits with positive gain, best gain: -inf\n",
      "Early stopping, best iteration is:\n",
      "[196]\tvalid_0's multi_logloss: 0.901758\n"
     ]
    }
   ],
   "source": [
    "train_ds = lgb.Dataset(X_train, label = y_train_lgb)\n",
    "test_ds = lgb.Dataset(X_val, label = y_val_lgb)\n",
    "params = {'learning_rate':0.03,\n",
    "         'max_depth':16,\n",
    "         'boosting':'gbdt',\n",
    "         'metric':'multi_logloss',\n",
    "         'is_training_metric':True,\n",
    "         'num_leaves':144,\n",
    "         'feature_fraction':0.9,\n",
    "         'bagging_fraction':0.7,\n",
    "         'bagging_freq':5,\n",
    "         'seed':2020,\n",
    "         'objective':'multiclass',\n",
    "         'num_class':5,\n",
    "         'is_unbalance':True}\n",
    "lgb_model = lgb.train(params, train_ds, 1000, test_ds, verbose_eval=100, early_stopping_rounds=100)"
   ]
  },
  {
   "cell_type": "code",
   "execution_count": 334,
   "metadata": {},
   "outputs": [],
   "source": [
    "predict_train = lgb_model.predict(X_train)\n",
    "predict_test = lgb_model.predict(X_val)"
   ]
  },
  {
   "cell_type": "code",
   "execution_count": 335,
   "metadata": {},
   "outputs": [
    {
     "name": "stdout",
     "output_type": "stream",
     "text": [
      "[[4.07935319e-02 3.80522051e-02 4.08878670e-01 5.10564570e-01\n",
      "  1.71102343e-03]\n",
      " [1.79547317e-03 9.93002123e-01 2.84910137e-03 2.23127465e-03\n",
      "  1.22027556e-04]\n",
      " [6.78613838e-02 1.35400338e-02 7.50631989e-01 1.66167329e-01\n",
      "  1.79926467e-03]\n",
      " ...\n",
      " [6.11311961e-02 7.34373669e-02 4.87103405e-01 3.75640445e-01\n",
      "  2.68758699e-03]\n",
      " [2.89101106e-01 8.10165699e-02 3.15739570e-01 3.11791445e-01\n",
      "  2.35130917e-03]\n",
      " [4.65256429e-02 2.22205295e-02 2.26456310e-01 7.00197064e-01\n",
      "  4.60045418e-03]]\n"
     ]
    }
   ],
   "source": [
    "print(predict_train)"
   ]
  },
  {
   "cell_type": "code",
   "execution_count": 341,
   "metadata": {},
   "outputs": [
    {
     "ename": "TypeError",
     "evalue": "len() of unsized object",
     "output_type": "error",
     "traceback": [
      "\u001b[1;31m---------------------------------------------------------------------------\u001b[0m",
      "\u001b[1;31mTypeError\u001b[0m                                 Traceback (most recent call last)",
      "\u001b[1;32m<ipython-input-341-56093d9c4641>\u001b[0m in \u001b[0;36m<module>\u001b[1;34m\u001b[0m\n\u001b[0;32m      2\u001b[0m \u001b[1;31m#predictions2 = np.argmax(predictions, axis=1)\u001b[0m\u001b[1;33m\u001b[0m\u001b[1;33m\u001b[0m\u001b[1;33m\u001b[0m\u001b[0m\n\u001b[0;32m      3\u001b[0m \u001b[1;31m#predictedLabels = (predictions2>0.35).astype(int)\u001b[0m\u001b[1;33m\u001b[0m\u001b[1;33m\u001b[0m\u001b[1;33m\u001b[0m\u001b[0m\n\u001b[1;32m----> 4\u001b[1;33m \u001b[0mprint\u001b[0m\u001b[1;33m(\u001b[0m\u001b[1;34m'trainingset accuracy :'\u001b[0m\u001b[1;33m,\u001b[0m \u001b[0maccuracy_score\u001b[0m\u001b[1;33m(\u001b[0m\u001b[0mX_train\u001b[0m\u001b[1;33m,\u001b[0m \u001b[0my_train_lgb\u001b[0m\u001b[1;33m)\u001b[0m \u001b[1;33m*\u001b[0m \u001b[1;36m100\u001b[0m\u001b[1;33m)\u001b[0m\u001b[1;33m\u001b[0m\u001b[1;33m\u001b[0m\u001b[0m\n\u001b[0m\u001b[0;32m      5\u001b[0m \u001b[0mprint\u001b[0m\u001b[1;33m(\u001b[0m\u001b[1;34m\"testset accuracy :\"\u001b[0m\u001b[1;33m,\u001b[0m\u001b[0maccuracy_score\u001b[0m\u001b[1;33m(\u001b[0m\u001b[0my_val_lgb\u001b[0m\u001b[1;33m,\u001b[0m\u001b[0my_pred_lgb\u001b[0m\u001b[1;33m)\u001b[0m \u001b[1;33m*\u001b[0m \u001b[1;36m100\u001b[0m\u001b[1;33m)\u001b[0m\u001b[1;33m\u001b[0m\u001b[1;33m\u001b[0m\u001b[0m\n\u001b[0;32m      6\u001b[0m \u001b[0mprint\u001b[0m\u001b[1;33m(\u001b[0m\u001b[1;34m\"classification report :\\n\"\u001b[0m\u001b[1;33m,\u001b[0m\u001b[1;33m(\u001b[0m\u001b[0mclassification_report\u001b[0m\u001b[1;33m(\u001b[0m\u001b[0my_val_lgb\u001b[0m\u001b[1;33m,\u001b[0m\u001b[0my_pred_lgb\u001b[0m\u001b[1;33m)\u001b[0m\u001b[1;33m)\u001b[0m\u001b[1;33m)\u001b[0m\u001b[1;33m\u001b[0m\u001b[1;33m\u001b[0m\u001b[0m\n",
      "\u001b[1;32m~\\anaconda3\\envs\\tensorflow\\lib\\site-packages\\sklearn\\utils\\validation.py\u001b[0m in \u001b[0;36minner_f\u001b[1;34m(*args, **kwargs)\u001b[0m\n\u001b[0;32m     70\u001b[0m                           FutureWarning)\n\u001b[0;32m     71\u001b[0m         \u001b[0mkwargs\u001b[0m\u001b[1;33m.\u001b[0m\u001b[0mupdate\u001b[0m\u001b[1;33m(\u001b[0m\u001b[1;33m{\u001b[0m\u001b[0mk\u001b[0m\u001b[1;33m:\u001b[0m \u001b[0marg\u001b[0m \u001b[1;32mfor\u001b[0m \u001b[0mk\u001b[0m\u001b[1;33m,\u001b[0m \u001b[0marg\u001b[0m \u001b[1;32min\u001b[0m \u001b[0mzip\u001b[0m\u001b[1;33m(\u001b[0m\u001b[0msig\u001b[0m\u001b[1;33m.\u001b[0m\u001b[0mparameters\u001b[0m\u001b[1;33m,\u001b[0m \u001b[0margs\u001b[0m\u001b[1;33m)\u001b[0m\u001b[1;33m}\u001b[0m\u001b[1;33m)\u001b[0m\u001b[1;33m\u001b[0m\u001b[1;33m\u001b[0m\u001b[0m\n\u001b[1;32m---> 72\u001b[1;33m         \u001b[1;32mreturn\u001b[0m \u001b[0mf\u001b[0m\u001b[1;33m(\u001b[0m\u001b[1;33m**\u001b[0m\u001b[0mkwargs\u001b[0m\u001b[1;33m)\u001b[0m\u001b[1;33m\u001b[0m\u001b[1;33m\u001b[0m\u001b[0m\n\u001b[0m\u001b[0;32m     73\u001b[0m     \u001b[1;32mreturn\u001b[0m \u001b[0minner_f\u001b[0m\u001b[1;33m\u001b[0m\u001b[1;33m\u001b[0m\u001b[0m\n\u001b[0;32m     74\u001b[0m \u001b[1;33m\u001b[0m\u001b[0m\n",
      "\u001b[1;32m~\\anaconda3\\envs\\tensorflow\\lib\\site-packages\\sklearn\\metrics\\_classification.py\u001b[0m in \u001b[0;36maccuracy_score\u001b[1;34m(y_true, y_pred, normalize, sample_weight)\u001b[0m\n\u001b[0;32m    185\u001b[0m \u001b[1;33m\u001b[0m\u001b[0m\n\u001b[0;32m    186\u001b[0m     \u001b[1;31m# Compute accuracy for each possible representation\u001b[0m\u001b[1;33m\u001b[0m\u001b[1;33m\u001b[0m\u001b[1;33m\u001b[0m\u001b[0m\n\u001b[1;32m--> 187\u001b[1;33m     \u001b[0my_type\u001b[0m\u001b[1;33m,\u001b[0m \u001b[0my_true\u001b[0m\u001b[1;33m,\u001b[0m \u001b[0my_pred\u001b[0m \u001b[1;33m=\u001b[0m \u001b[0m_check_targets\u001b[0m\u001b[1;33m(\u001b[0m\u001b[0my_true\u001b[0m\u001b[1;33m,\u001b[0m \u001b[0my_pred\u001b[0m\u001b[1;33m)\u001b[0m\u001b[1;33m\u001b[0m\u001b[1;33m\u001b[0m\u001b[0m\n\u001b[0m\u001b[0;32m    188\u001b[0m     \u001b[0mcheck_consistent_length\u001b[0m\u001b[1;33m(\u001b[0m\u001b[0my_true\u001b[0m\u001b[1;33m,\u001b[0m \u001b[0my_pred\u001b[0m\u001b[1;33m,\u001b[0m \u001b[0msample_weight\u001b[0m\u001b[1;33m)\u001b[0m\u001b[1;33m\u001b[0m\u001b[1;33m\u001b[0m\u001b[0m\n\u001b[0;32m    189\u001b[0m     \u001b[1;32mif\u001b[0m \u001b[0my_type\u001b[0m\u001b[1;33m.\u001b[0m\u001b[0mstartswith\u001b[0m\u001b[1;33m(\u001b[0m\u001b[1;34m'multilabel'\u001b[0m\u001b[1;33m)\u001b[0m\u001b[1;33m:\u001b[0m\u001b[1;33m\u001b[0m\u001b[1;33m\u001b[0m\u001b[0m\n",
      "\u001b[1;32m~\\anaconda3\\envs\\tensorflow\\lib\\site-packages\\sklearn\\metrics\\_classification.py\u001b[0m in \u001b[0;36m_check_targets\u001b[1;34m(y_true, y_pred)\u001b[0m\n\u001b[0;32m     80\u001b[0m     \"\"\"\n\u001b[0;32m     81\u001b[0m     \u001b[0mcheck_consistent_length\u001b[0m\u001b[1;33m(\u001b[0m\u001b[0my_true\u001b[0m\u001b[1;33m,\u001b[0m \u001b[0my_pred\u001b[0m\u001b[1;33m)\u001b[0m\u001b[1;33m\u001b[0m\u001b[1;33m\u001b[0m\u001b[0m\n\u001b[1;32m---> 82\u001b[1;33m     \u001b[0mtype_true\u001b[0m \u001b[1;33m=\u001b[0m \u001b[0mtype_of_target\u001b[0m\u001b[1;33m(\u001b[0m\u001b[0my_true\u001b[0m\u001b[1;33m)\u001b[0m\u001b[1;33m\u001b[0m\u001b[1;33m\u001b[0m\u001b[0m\n\u001b[0m\u001b[0;32m     83\u001b[0m     \u001b[0mtype_pred\u001b[0m \u001b[1;33m=\u001b[0m \u001b[0mtype_of_target\u001b[0m\u001b[1;33m(\u001b[0m\u001b[0my_pred\u001b[0m\u001b[1;33m)\u001b[0m\u001b[1;33m\u001b[0m\u001b[1;33m\u001b[0m\u001b[0m\n\u001b[0;32m     84\u001b[0m \u001b[1;33m\u001b[0m\u001b[0m\n",
      "\u001b[1;32m~\\anaconda3\\envs\\tensorflow\\lib\\site-packages\\sklearn\\utils\\multiclass.py\u001b[0m in \u001b[0;36mtype_of_target\u001b[1;34m(y)\u001b[0m\n\u001b[0;32m    270\u001b[0m \u001b[1;33m\u001b[0m\u001b[0m\n\u001b[0;32m    271\u001b[0m     \u001b[1;31m# Invalid inputs\u001b[0m\u001b[1;33m\u001b[0m\u001b[1;33m\u001b[0m\u001b[1;33m\u001b[0m\u001b[0m\n\u001b[1;32m--> 272\u001b[1;33m     if y.ndim > 2 or (y.dtype == object and len(y) and\n\u001b[0m\u001b[0;32m    273\u001b[0m                       not isinstance(y.flat[0], str)):\n\u001b[0;32m    274\u001b[0m         \u001b[1;32mreturn\u001b[0m \u001b[1;34m'unknown'\u001b[0m  \u001b[1;31m# [[[1, 2]]] or [obj_1] and not [\"label_1\"]\u001b[0m\u001b[1;33m\u001b[0m\u001b[1;33m\u001b[0m\u001b[0m\n",
      "\u001b[1;31mTypeError\u001b[0m: len() of unsized object"
     ]
    }
   ],
   "source": [
    "y_pred_lgb = lgb_model.predict(X_val)\n",
    "#predictions2 = np.argmax(predictions, axis=1)\n",
    "#predictedLabels = (predictions2>0.35).astype(int)\n",
    "print('trainingset accuracy :', accuracy_score(X_train, y_train_lgb) * 100)\n",
    "print(\"testset accuracy :\",accuracy_score(y_val_lgb,y_pred_lgb) * 100)\n",
    "print(\"classification report :\\n\",(classification_report(y_val_lgb,y_pred_lgb)))"
   ]
  },
  {
   "cell_type": "code",
   "execution_count": 345,
   "metadata": {},
   "outputs": [
    {
     "name": "stdout",
     "output_type": "stream",
     "text": [
      "(57689, 5000)\n",
      "57689\n"
     ]
    }
   ],
   "source": [
    "print(X_train.shape)\n",
    "print(len(y_train_lgb))"
   ]
  },
  {
   "cell_type": "code",
   "execution_count": null,
   "metadata": {},
   "outputs": [],
   "source": []
  },
  {
   "cell_type": "markdown",
   "metadata": {},
   "source": [
    "# Decision Tree"
   ]
  },
  {
   "cell_type": "markdown",
   "metadata": {},
   "source": [
    "## 1) Hannanum, Tf-idf"
   ]
  },
  {
   "cell_type": "code",
   "execution_count": 232,
   "metadata": {},
   "outputs": [
    {
     "data": {
      "text/plain": [
       "DecisionTreeClassifier(criterion='entropy', max_depth=8, random_state=0)"
      ]
     },
     "execution_count": 232,
     "metadata": {},
     "output_type": "execute_result"
    }
   ],
   "source": [
    "tree_model = tree.DecisionTreeClassifier(criterion='entropy', max_depth = 8, random_state=0)\n",
    "tree_model.fit(X_train, y_train)"
   ]
  },
  {
   "cell_type": "code",
   "execution_count": 212,
   "metadata": {},
   "outputs": [
    {
     "name": "stdout",
     "output_type": "stream",
     "text": [
      "trainingset accuracy: 0.544\n",
      "Accuracy: 0.526\n"
     ]
    }
   ],
   "source": [
    "# criterion='entropy', max_depth = 10, random_state=0\n",
    "y_pred_tr = tree_model.predict(X_val)\n",
    "print(\"trainingset accuracy: : %.3f\" % tree_model.score(X_train, y_train))\n",
    "print('Accuracy: %.3f' % accuracy_score(y_val, y_pred_tr))"
   ]
  },
  {
   "cell_type": "code",
   "execution_count": 214,
   "metadata": {},
   "outputs": [
    {
     "name": "stdout",
     "output_type": "stream",
     "text": [
      "trainingset accuracy: 0.645\n",
      "Accuracy: 0.526\n"
     ]
    }
   ],
   "source": [
    "# criterion='entropy', max_depth = 20, random_state=0\n",
    "y_pred_tr = tree_model.predict(X_val)\n",
    "print(\"trainingset accuracy: : %.3f\" % tree_model.score(X_train, y_train))\n",
    "print('Accuracy: %.3f' % accuracy_score(y_val, y_pred_tr))"
   ]
  },
  {
   "cell_type": "code",
   "execution_count": 216,
   "metadata": {},
   "outputs": [
    {
     "name": "stdout",
     "output_type": "stream",
     "text": [
      "trainingset accuracy: 0.737\n",
      "Accuracy: 0.505\n"
     ]
    }
   ],
   "source": [
    "# criterion='entropy', max_depth = 30, random_state=0\n",
    "y_pred_tr = tree_model.predict(X_val)\n",
    "print(\"trainingset accuracy: : %.3f\" % tree_model.score(X_train, y_train))\n",
    "print('Accuracy: %.3f' % accuracy_score(y_val, y_pred_tr))"
   ]
  },
  {
   "cell_type": "code",
   "execution_count": 218,
   "metadata": {
    "scrolled": true
   },
   "outputs": [
    {
     "name": "stdout",
     "output_type": "stream",
     "text": [
      "trainingset accuracy: 0.816\n",
      "Accuracy: 0.485\n"
     ]
    }
   ],
   "source": [
    "# criterion='entropy', max_depth = 50, random_state=0\n",
    "y_pred_tr = tree_model.predict(X_val)\n",
    "print(\"trainingset accuracy: : %.3f\" % tree_model.score(X_train, y_train))\n",
    "print('Accuracy: %.3f' % accuracy_score(y_val, y_pred_tr))"
   ]
  },
  {
   "cell_type": "code",
   "execution_count": null,
   "metadata": {},
   "outputs": [],
   "source": []
  },
  {
   "cell_type": "markdown",
   "metadata": {},
   "source": [
    "## 2) Okt, Tf-idf"
   ]
  },
  {
   "cell_type": "code",
   "execution_count": 238,
   "metadata": {},
   "outputs": [
    {
     "data": {
      "text/plain": [
       "DecisionTreeClassifier(criterion='entropy', max_depth=20, random_state=0)"
      ]
     },
     "execution_count": 238,
     "metadata": {},
     "output_type": "execute_result"
    }
   ],
   "source": [
    "tree_model = tree.DecisionTreeClassifier(criterion='entropy', max_depth = 20, random_state=0)\n",
    "tree_model.fit(X_train2, y_train2)"
   ]
  },
  {
   "cell_type": "code",
   "execution_count": 237,
   "metadata": {},
   "outputs": [
    {
     "name": "stdout",
     "output_type": "stream",
     "text": [
      "trainingset accuracy: 0.527\n",
      "Accuracy: 0.499\n"
     ]
    }
   ],
   "source": [
    "# criterion='entropy', max_depth = 10, random_state=0\n",
    "y_pred_tr = tree_model.predict(X_val2)\n",
    "print(\"trainingset accuracy: : %.3f\" % tree_model.score(X_train2, y_train2))\n",
    "print('Accuracy: %.3f' % accuracy_score(y_val2, y_pred_tr))"
   ]
  },
  {
   "cell_type": "code",
   "execution_count": 239,
   "metadata": {},
   "outputs": [
    {
     "name": "stdout",
     "output_type": "stream",
     "text": [
      "trainingset accuracy: 0.651\n",
      "Accuracy: 0.482\n"
     ]
    }
   ],
   "source": [
    "# criterion='entropy', max_depth = 20, random_state=0\n",
    "y_pred_tr = tree_model.predict(X_val2)\n",
    "print(\"trainingset accuracy: : %.3f\" % tree_model.score(X_train2, y_train2))\n",
    "print('Accuracy: %.3f' % accuracy_score(y_val2, y_pred_tr))"
   ]
  },
  {
   "cell_type": "code",
   "execution_count": null,
   "metadata": {},
   "outputs": [],
   "source": []
  },
  {
   "cell_type": "code",
   "execution_count": null,
   "metadata": {},
   "outputs": [],
   "source": []
  },
  {
   "cell_type": "markdown",
   "metadata": {},
   "source": [
    "## 3) Hannanum2, Tf-idf"
   ]
  },
  {
   "cell_type": "code",
   "execution_count": 242,
   "metadata": {},
   "outputs": [
    {
     "data": {
      "text/plain": [
       "DecisionTreeClassifier(criterion='entropy', max_depth=10, random_state=0)"
      ]
     },
     "execution_count": 242,
     "metadata": {},
     "output_type": "execute_result"
    }
   ],
   "source": [
    "tree_model = tree.DecisionTreeClassifier(criterion='entropy', max_depth = 10, random_state=0)\n",
    "tree_model.fit(X_train3, y_train3)"
   ]
  },
  {
   "cell_type": "code",
   "execution_count": 243,
   "metadata": {},
   "outputs": [
    {
     "name": "stdout",
     "output_type": "stream",
     "text": [
      "trainingset accuracy: 0.520\n",
      "Accuracy: 0.497\n"
     ]
    }
   ],
   "source": [
    "# criterion='entropy', max_depth = 10, random_state=0\n",
    "y_pred_tr = tree_model.predict(X_val3)\n",
    "print(\"trainingset accuracy: : %.3f\" % tree_model.score(X_train3, y_train3))\n",
    "print('Accuracy: %.3f' % accuracy_score(y_val3, y_pred_tr))"
   ]
  },
  {
   "cell_type": "code",
   "execution_count": 241,
   "metadata": {},
   "outputs": [
    {
     "name": "stdout",
     "output_type": "stream",
     "text": [
      "trainingset accuracy: 0.599\n",
      "Accuracy: 0.491\n"
     ]
    }
   ],
   "source": [
    "# criterion='entropy', max_depth = 20, random_state=0\n",
    "y_pred_tr = tree_model.predict(X_val3)\n",
    "print(\"trainingset accuracy: : %.3f\" % tree_model.score(X_train3, y_train3))\n",
    "print('Accuracy: %.3f' % accuracy_score(y_val3, y_pred_tr))"
   ]
  },
  {
   "cell_type": "code",
   "execution_count": null,
   "metadata": {},
   "outputs": [],
   "source": []
  },
  {
   "cell_type": "markdown",
   "metadata": {},
   "source": [
    "# Decision Tree: class == 무기징역/징역, 무죄/벌금/집행유예\n",
    "\n",
    "# 1) Hannanum, Tf-idf"
   ]
  },
  {
   "cell_type": "code",
   "execution_count": 323,
   "metadata": {},
   "outputs": [
    {
     "data": {
      "text/plain": [
       "DecisionTreeClassifier(criterion='entropy', max_depth=10, random_state=0)"
      ]
     },
     "execution_count": 323,
     "metadata": {},
     "output_type": "execute_result"
    }
   ],
   "source": [
    "tree_model = tree.DecisionTreeClassifier(criterion='entropy', max_depth = 10, random_state=0)\n",
    "tree_model.fit(X_train5, y_train5)"
   ]
  },
  {
   "cell_type": "code",
   "execution_count": 324,
   "metadata": {},
   "outputs": [
    {
     "name": "stdout",
     "output_type": "stream",
     "text": [
      "trainingset accuracy: : 70.046\n",
      "Accuracy: 68.522\n"
     ]
    }
   ],
   "source": [
    "# criterion='entropy', max_depth = 10, random_state=0\n",
    "y_pred_tr = tree_model.predict(X_val5)\n",
    "print(\"trainingset accuracy: : %.3f\" % (tree_model.score(X_train5, y_train5) * 100))\n",
    "print('Accuracy: %.3f' % (accuracy_score(y_val5, y_pred_tr) * 100))"
   ]
  },
  {
   "cell_type": "code",
   "execution_count": 325,
   "metadata": {},
   "outputs": [
    {
     "data": {
      "text/plain": [
       "DecisionTreeClassifier(criterion='entropy', max_depth=20, random_state=0)"
      ]
     },
     "execution_count": 325,
     "metadata": {},
     "output_type": "execute_result"
    }
   ],
   "source": [
    "tree_model = tree.DecisionTreeClassifier(criterion='entropy', max_depth = 20, random_state=0)\n",
    "tree_model.fit(X_train5, y_train5)"
   ]
  },
  {
   "cell_type": "code",
   "execution_count": 326,
   "metadata": {},
   "outputs": [
    {
     "name": "stdout",
     "output_type": "stream",
     "text": [
      "trainingset accuracy: : 75.654\n",
      "Accuracy: 68.516\n"
     ]
    }
   ],
   "source": [
    "# criterion='entropy', max_depth = 20, random_state=0\n",
    "y_pred_tr = tree_model.predict(X_val5)\n",
    "print(\"trainingset accuracy: : %.3f\" % (tree_model.score(X_train5, y_train5) * 100))\n",
    "print('Accuracy: %.3f' % (accuracy_score(y_val5, y_pred_tr) * 100))"
   ]
  },
  {
   "cell_type": "code",
   "execution_count": null,
   "metadata": {},
   "outputs": [],
   "source": []
  },
  {
   "cell_type": "code",
   "execution_count": null,
   "metadata": {},
   "outputs": [],
   "source": []
  },
  {
   "cell_type": "code",
   "execution_count": 351,
   "metadata": {},
   "outputs": [
    {
     "data": {
      "text/plain": [
       "DecisionTreeClassifier(criterion='entropy', max_depth=10, random_state=0)"
      ]
     },
     "execution_count": 351,
     "metadata": {},
     "output_type": "execute_result"
    }
   ],
   "source": [
    "# Tf-idf max_features = 10000\n",
    "tree_model = tree.DecisionTreeClassifier(criterion='entropy', max_depth = 10, random_state=0)\n",
    "tree_model.fit(X_train8, y_train8)"
   ]
  },
  {
   "cell_type": "code",
   "execution_count": 352,
   "metadata": {},
   "outputs": [
    {
     "name": "stdout",
     "output_type": "stream",
     "text": [
      "trainingset accuracy: : 69.941\n",
      "Accuracy: 68.571\n"
     ]
    }
   ],
   "source": [
    "# Tf-idf max_features = 10000\n",
    "# criterion='entropy', max_depth = 10, random_state=0\n",
    "y_pred_tr = tree_model.predict(X_val8)\n",
    "print(\"trainingset accuracy: : %.3f\" % (tree_model.score(X_train8, y_train8) * 100))\n",
    "print('Accuracy: %.3f' % (accuracy_score(y_val8, y_pred_tr) * 100))"
   ]
  },
  {
   "cell_type": "code",
   "execution_count": null,
   "metadata": {},
   "outputs": [],
   "source": []
  },
  {
   "cell_type": "code",
   "execution_count": null,
   "metadata": {},
   "outputs": [],
   "source": []
  },
  {
   "cell_type": "code",
   "execution_count": 358,
   "metadata": {},
   "outputs": [
    {
     "data": {
      "text/plain": [
       "DecisionTreeClassifier(criterion='entropy', max_depth=10, random_state=0)"
      ]
     },
     "execution_count": 358,
     "metadata": {},
     "output_type": "execute_result"
    }
   ],
   "source": [
    "# Tf-idf max_features = 7000\n",
    "tree_model = tree.DecisionTreeClassifier(criterion='entropy', max_depth = 10, random_state=0)\n",
    "tree_model.fit(X_train9, y_train9)"
   ]
  },
  {
   "cell_type": "code",
   "execution_count": 359,
   "metadata": {},
   "outputs": [
    {
     "name": "stdout",
     "output_type": "stream",
     "text": [
      "trainingset accuracy: : 70.150\n",
      "Accuracy: 68.689\n"
     ]
    }
   ],
   "source": [
    "# Tf-idf max_features = 7000\n",
    "# criterion='entropy', max_depth = 10, random_state=0\n",
    "y_pred_tr = tree_model.predict(X_val9)\n",
    "print(\"trainingset accuracy: : %.3f\" % (tree_model.score(X_train9, y_train9) * 100))\n",
    "print('Accuracy: %.3f' % (accuracy_score(y_val9, y_pred_tr) * 100))"
   ]
  },
  {
   "cell_type": "code",
   "execution_count": null,
   "metadata": {},
   "outputs": [],
   "source": []
  },
  {
   "cell_type": "code",
   "execution_count": null,
   "metadata": {},
   "outputs": [],
   "source": []
  },
  {
   "cell_type": "markdown",
   "metadata": {},
   "source": [
    "# 2) Kkma, Tf-idf"
   ]
  },
  {
   "cell_type": "code",
   "execution_count": 391,
   "metadata": {},
   "outputs": [
    {
     "data": {
      "text/plain": [
       "DecisionTreeClassifier(criterion='entropy', max_depth=10, random_state=0)"
      ]
     },
     "execution_count": 391,
     "metadata": {},
     "output_type": "execute_result"
    }
   ],
   "source": [
    "# Tf-idf max_features = 5000\n",
    "tree_model = tree.DecisionTreeClassifier(criterion='entropy', max_depth = 10, random_state=0)\n",
    "tree_model.fit(X_train_1, y_train_1)"
   ]
  },
  {
   "cell_type": "code",
   "execution_count": 392,
   "metadata": {},
   "outputs": [
    {
     "name": "stdout",
     "output_type": "stream",
     "text": [
      "trainingset accuracy: : 70.734\n",
      "Accuracy: 68.453\n"
     ]
    }
   ],
   "source": [
    "# Tf-idf max_features = 5000\n",
    "# criterion='entropy', max_depth = 10, random_state=0\n",
    "y_pred_tr = tree_model.predict(X_val_1)\n",
    "print(\"trainingset accuracy: : %.3f\" % (tree_model.score(X_train_1, y_train_1) * 100))\n",
    "print('Accuracy: %.3f' % (accuracy_score(y_val_1, y_pred_tr) * 100))"
   ]
  },
  {
   "cell_type": "code",
   "execution_count": null,
   "metadata": {},
   "outputs": [],
   "source": []
  },
  {
   "cell_type": "code",
   "execution_count": null,
   "metadata": {},
   "outputs": [],
   "source": []
  },
  {
   "cell_type": "code",
   "execution_count": null,
   "metadata": {},
   "outputs": [],
   "source": []
  },
  {
   "attachments": {
    "image-2.png": {
     "image/png": "[encoded data removed]"
    },
    "image.png": {
     "image/png": "[encoded data removed]"
    }
   },
   "cell_type": "markdown",
   "metadata": {},
   "source": [
    "# SVM\n",
    "\n",
    "C, gamma 클수록 overfitting<br>\n",
    "sigma^2 클수록 부드러운 곡선 즉, underfitting<br>\n",
    "https://bkshin.tistory.com/entry/%EB%A8%B8%EC%8B%A0%EB%9F%AC%EB%8B%9D-2%EC%84%9C%ED%8F%AC%ED%8A%B8-%EB%B2%A1%ED%84%B0-%EB%A8%B8%EC%8B%A0-SVM\n",
    "![image.png](attachment:image.png)\n",
    "https://m.blog.naver.com/PostView.nhn?blogId=lk3436&logNo=221143463991&proxyReferer=https:%2F%2Fwww.google.com%2F\n",
    "![image-2.png](attachment:image-2.png)\n",
    "https://tensorflow.blog/%ED%8C%8C%EC%9D%B4%EC%8D%AC-%EB%A8%B8%EC%8B%A0%EB%9F%AC%EB%8B%9D/2-3-7-%EC%BB%A4%EB%84%90-%EC%84%9C%ED%8F%AC%ED%8A%B8-%EB%B2%A1%ED%84%B0-%EB%A8%B8%EC%8B%A0/\n",
    "\n",
    "\n",
    "https://bskyvision.com/163"
   ]
  },
  {
   "cell_type": "markdown",
   "metadata": {},
   "source": [
    "# 1) Hannanum, Tf-idf"
   ]
  },
  {
   "cell_type": "code",
   "execution_count": 273,
   "metadata": {},
   "outputs": [],
   "source": [
    "svm_model = SVC(kernel ='linear', C = 1)\n",
    "\n",
    "# Training \n",
    "svm_model.fit(X_train, y_train)\n",
    "\n",
    "# Evaluation\n",
    "y_pred = svm_model.predict(X_val)\n",
    "y_prob = svm_model.decision_function(X_val)"
   ]
  },
  {
   "cell_type": "code",
   "execution_count": 317,
   "metadata": {},
   "outputs": [
    {
     "name": "stdout",
     "output_type": "stream",
     "text": [
      "trainingset accuracy : 0.693\n",
      "testset accuracy : 62.213\n",
      "\n"
     ]
    }
   ],
   "source": [
    "acc = accuracy_score(y_val, y_pred)\n",
    "# Result\n",
    "print(\"trainingset accuracy : %.3f\" % (svm_model.score(X_train, y_train) * 100))\n",
    "print(\"testset accuracy : {:.3f}\".format(acc*100),end='\\n\\n')"
   ]
  },
  {
   "cell_type": "code",
   "execution_count": null,
   "metadata": {},
   "outputs": [],
   "source": []
  },
  {
   "cell_type": "code",
   "execution_count": null,
   "metadata": {},
   "outputs": [],
   "source": []
  },
  {
   "cell_type": "code",
   "execution_count": null,
   "metadata": {},
   "outputs": [],
   "source": []
  },
  {
   "cell_type": "markdown",
   "metadata": {},
   "source": [
    "# SVM: class == 무기징역/징역, 무죄/벌금/집행유예\n",
    "\n",
    "# 1) Hannanum, Tf-idf"
   ]
  },
  {
   "cell_type": "code",
   "execution_count": 319,
   "metadata": {},
   "outputs": [
    {
     "name": "stdout",
     "output_type": "stream",
     "text": [
      "trainingset accuracy : 0.764\n",
      "testset accuracy : 71.823\n",
      "\n"
     ]
    }
   ],
   "source": [
    "svm_model = SVC(kernel ='linear', C = 1)\n",
    "\n",
    "# Training \n",
    "svm_model.fit(X_train5, y_train5)\n",
    "\n",
    "# Evaluation\n",
    "y_pred = svm_model.predict(X_val5)\n",
    "# y_prob = svm_model.decision_function(X_val5)\n",
    "\n",
    "acc = accuracy_score(y_val5, y_pred)\n",
    "# Result\n",
    "print(\"trainingset accuracy : %.3f\" % (svm_model.score(X_train5, y_train5) * 100))\n",
    "print(\"testset accuracy : {:.3f}\".format(acc*100),end='\\n\\n')"
   ]
  },
  {
   "cell_type": "code",
   "execution_count": null,
   "metadata": {},
   "outputs": [],
   "source": []
  },
  {
   "cell_type": "code",
   "execution_count": null,
   "metadata": {},
   "outputs": [],
   "source": []
  },
  {
   "cell_type": "code",
   "execution_count": 353,
   "metadata": {},
   "outputs": [
    {
     "name": "stdout",
     "output_type": "stream",
     "text": [
      "trainingset accuracy : 78.216\n",
      "testset accuracy : 71.788\n",
      "\n"
     ]
    }
   ],
   "source": [
    "# Tf-idf max_features = 10000\n",
    "svm_model = SVC(kernel ='linear', C = 1)\n",
    "\n",
    "# Training \n",
    "svm_model.fit(X_train8, y_train8)\n",
    "\n",
    "# Evaluation\n",
    "y_pred = svm_model.predict(X_val8)\n",
    "# y_prob = svm_model.decision_function(X_val8)\n",
    "\n",
    "acc = accuracy_score(y_val8, y_pred)\n",
    "# Result\n",
    "print(\"trainingset accuracy : %.3f\" % (svm_model.score(X_train8, y_train8) * 100))\n",
    "print(\"testset accuracy : {:.3f}\".format(acc*100),end='\\n\\n')"
   ]
  },
  {
   "cell_type": "code",
   "execution_count": null,
   "metadata": {},
   "outputs": [],
   "source": []
  },
  {
   "cell_type": "code",
   "execution_count": null,
   "metadata": {},
   "outputs": [],
   "source": []
  },
  {
   "cell_type": "code",
   "execution_count": 12,
   "metadata": {},
   "outputs": [
    {
     "name": "stdout",
     "output_type": "stream",
     "text": [
      "trainingset accuracy : 77.211\n",
      "testset accuracy : 71.656\n",
      "\n"
     ]
    }
   ],
   "source": [
    "# Tf-idf max_features = 7000\n",
    "svm_model = SVC(kernel ='linear', C = 1)\n",
    "\n",
    "# Training \n",
    "svm_model.fit(X_train9, y_train9)\n",
    "\n",
    "# Evaluation\n",
    "y_pred = svm_model.predict(X_val9)\n",
    "# y_prob = svm_model.decision_function(X_val9)\n",
    "\n",
    "acc = accuracy_score(y_val9, y_pred)\n",
    "# Result\n",
    "print(\"trainingset accuracy : %.3f\" % (svm_model.score(X_train9, y_train9) * 100))\n",
    "print(\"testset accuracy : {:.3f}\".format(acc*100),end='\\n\\n')"
   ]
  },
  {
   "cell_type": "code",
   "execution_count": null,
   "metadata": {},
   "outputs": [],
   "source": []
  },
  {
   "cell_type": "code",
   "execution_count": null,
   "metadata": {},
   "outputs": [],
   "source": []
  },
  {
   "cell_type": "code",
   "execution_count": 16,
   "metadata": {},
   "outputs": [
    {
     "name": "stdout",
     "output_type": "stream",
     "text": [
      "trainingset accuracy : 85.255\n",
      "testset accuracy : 71.469\n",
      "\n"
     ]
    }
   ],
   "source": [
    "# Tf-idf max_features = 5000\n",
    "svm_model = SVC(kernel ='rbf', C = 1, gamma = 1)\n",
    "\n",
    "# Training \n",
    "svm_model.fit(X_train5, y_train5)\n",
    "\n",
    "# Evaluation\n",
    "y_pred = svm_model.predict(X_val5)\n",
    "# y_prob = svm_model.decision_function(X_val5)\n",
    "\n",
    "acc = accuracy_score(y_val5, y_pred)\n",
    "# Result\n",
    "print(\"trainingset accuracy : %.3f\" % (svm_model.score(X_train5, y_train5) * 100))\n",
    "print(\"testset accuracy : {:.3f}\".format(acc*100),end='\\n\\n')"
   ]
  },
  {
   "cell_type": "code",
   "execution_count": 17,
   "metadata": {},
   "outputs": [
    {
     "ename": "KeyboardInterrupt",
     "evalue": "",
     "output_type": "error",
     "traceback": [
      "\u001b[1;31m---------------------------------------------------------------------------\u001b[0m",
      "\u001b[1;31mKeyboardInterrupt\u001b[0m                         Traceback (most recent call last)",
      "\u001b[1;32m<ipython-input-17-60783793ad86>\u001b[0m in \u001b[0;36m<module>\u001b[1;34m\u001b[0m\n\u001b[0;32m      3\u001b[0m \u001b[1;33m\u001b[0m\u001b[0m\n\u001b[0;32m      4\u001b[0m \u001b[1;31m# Training\u001b[0m\u001b[1;33m\u001b[0m\u001b[1;33m\u001b[0m\u001b[1;33m\u001b[0m\u001b[0m\n\u001b[1;32m----> 5\u001b[1;33m \u001b[0msvm_model\u001b[0m\u001b[1;33m.\u001b[0m\u001b[0mfit\u001b[0m\u001b[1;33m(\u001b[0m\u001b[0mX_train5\u001b[0m\u001b[1;33m,\u001b[0m \u001b[0my_train5\u001b[0m\u001b[1;33m)\u001b[0m\u001b[1;33m\u001b[0m\u001b[1;33m\u001b[0m\u001b[0m\n\u001b[0m\u001b[0;32m      6\u001b[0m \u001b[1;33m\u001b[0m\u001b[0m\n\u001b[0;32m      7\u001b[0m \u001b[1;31m# Evaluation\u001b[0m\u001b[1;33m\u001b[0m\u001b[1;33m\u001b[0m\u001b[1;33m\u001b[0m\u001b[0m\n",
      "\u001b[1;32m~\\anaconda3\\envs\\tensorflow\\lib\\site-packages\\sklearn\\svm\\_base.py\u001b[0m in \u001b[0;36mfit\u001b[1;34m(self, X, y, sample_weight)\u001b[0m\n\u001b[0;32m    215\u001b[0m \u001b[1;33m\u001b[0m\u001b[0m\n\u001b[0;32m    216\u001b[0m         \u001b[0mseed\u001b[0m \u001b[1;33m=\u001b[0m \u001b[0mrnd\u001b[0m\u001b[1;33m.\u001b[0m\u001b[0mrandint\u001b[0m\u001b[1;33m(\u001b[0m\u001b[0mnp\u001b[0m\u001b[1;33m.\u001b[0m\u001b[0miinfo\u001b[0m\u001b[1;33m(\u001b[0m\u001b[1;34m'i'\u001b[0m\u001b[1;33m)\u001b[0m\u001b[1;33m.\u001b[0m\u001b[0mmax\u001b[0m\u001b[1;33m)\u001b[0m\u001b[1;33m\u001b[0m\u001b[1;33m\u001b[0m\u001b[0m\n\u001b[1;32m--> 217\u001b[1;33m         \u001b[0mfit\u001b[0m\u001b[1;33m(\u001b[0m\u001b[0mX\u001b[0m\u001b[1;33m,\u001b[0m \u001b[0my\u001b[0m\u001b[1;33m,\u001b[0m \u001b[0msample_weight\u001b[0m\u001b[1;33m,\u001b[0m \u001b[0msolver_type\u001b[0m\u001b[1;33m,\u001b[0m \u001b[0mkernel\u001b[0m\u001b[1;33m,\u001b[0m \u001b[0mrandom_seed\u001b[0m\u001b[1;33m=\u001b[0m\u001b[0mseed\u001b[0m\u001b[1;33m)\u001b[0m\u001b[1;33m\u001b[0m\u001b[1;33m\u001b[0m\u001b[0m\n\u001b[0m\u001b[0;32m    218\u001b[0m         \u001b[1;31m# see comment on the other call to np.iinfo in this file\u001b[0m\u001b[1;33m\u001b[0m\u001b[1;33m\u001b[0m\u001b[1;33m\u001b[0m\u001b[0m\n\u001b[0;32m    219\u001b[0m \u001b[1;33m\u001b[0m\u001b[0m\n",
      "\u001b[1;32m~\\anaconda3\\envs\\tensorflow\\lib\\site-packages\\sklearn\\svm\\_base.py\u001b[0m in \u001b[0;36m_sparse_fit\u001b[1;34m(self, X, y, sample_weight, solver_type, kernel, random_seed)\u001b[0m\n\u001b[0;32m    296\u001b[0m                 \u001b[0msample_weight\u001b[0m\u001b[1;33m,\u001b[0m \u001b[0mself\u001b[0m\u001b[1;33m.\u001b[0m\u001b[0mnu\u001b[0m\u001b[1;33m,\u001b[0m \u001b[0mself\u001b[0m\u001b[1;33m.\u001b[0m\u001b[0mcache_size\u001b[0m\u001b[1;33m,\u001b[0m \u001b[0mself\u001b[0m\u001b[1;33m.\u001b[0m\u001b[0mepsilon\u001b[0m\u001b[1;33m,\u001b[0m\u001b[1;33m\u001b[0m\u001b[1;33m\u001b[0m\u001b[0m\n\u001b[0;32m    297\u001b[0m                 \u001b[0mint\u001b[0m\u001b[1;33m(\u001b[0m\u001b[0mself\u001b[0m\u001b[1;33m.\u001b[0m\u001b[0mshrinking\u001b[0m\u001b[1;33m)\u001b[0m\u001b[1;33m,\u001b[0m \u001b[0mint\u001b[0m\u001b[1;33m(\u001b[0m\u001b[0mself\u001b[0m\u001b[1;33m.\u001b[0m\u001b[0mprobability\u001b[0m\u001b[1;33m)\u001b[0m\u001b[1;33m,\u001b[0m \u001b[0mself\u001b[0m\u001b[1;33m.\u001b[0m\u001b[0mmax_iter\u001b[0m\u001b[1;33m,\u001b[0m\u001b[1;33m\u001b[0m\u001b[1;33m\u001b[0m\u001b[0m\n\u001b[1;32m--> 298\u001b[1;33m                 random_seed)\n\u001b[0m\u001b[0;32m    299\u001b[0m \u001b[1;33m\u001b[0m\u001b[0m\n\u001b[0;32m    300\u001b[0m         \u001b[0mself\u001b[0m\u001b[1;33m.\u001b[0m\u001b[0m_warn_from_fit_status\u001b[0m\u001b[1;33m(\u001b[0m\u001b[1;33m)\u001b[0m\u001b[1;33m\u001b[0m\u001b[1;33m\u001b[0m\u001b[0m\n",
      "\u001b[1;32msklearn\\svm\\_libsvm_sparse.pyx\u001b[0m in \u001b[0;36msklearn.svm._libsvm_sparse.libsvm_sparse_train\u001b[1;34m()\u001b[0m\n",
      "\u001b[1;32m~\\AppData\\Roaming\\Python\\Python37\\site-packages\\scipy\\sparse\\compressed.py\u001b[0m in \u001b[0;36m__init__\u001b[1;34m(self, arg1, shape, dtype, copy)\u001b[0m\n\u001b[0;32m     28\u001b[0m     \u001b[1;34m\"\"\"base matrix class for compressed row and column oriented matrices\"\"\"\u001b[0m\u001b[1;33m\u001b[0m\u001b[1;33m\u001b[0m\u001b[0m\n\u001b[0;32m     29\u001b[0m \u001b[1;33m\u001b[0m\u001b[0m\n\u001b[1;32m---> 30\u001b[1;33m     \u001b[1;32mdef\u001b[0m \u001b[0m__init__\u001b[0m\u001b[1;33m(\u001b[0m\u001b[0mself\u001b[0m\u001b[1;33m,\u001b[0m \u001b[0marg1\u001b[0m\u001b[1;33m,\u001b[0m \u001b[0mshape\u001b[0m\u001b[1;33m=\u001b[0m\u001b[1;32mNone\u001b[0m\u001b[1;33m,\u001b[0m \u001b[0mdtype\u001b[0m\u001b[1;33m=\u001b[0m\u001b[1;32mNone\u001b[0m\u001b[1;33m,\u001b[0m \u001b[0mcopy\u001b[0m\u001b[1;33m=\u001b[0m\u001b[1;32mFalse\u001b[0m\u001b[1;33m)\u001b[0m\u001b[1;33m:\u001b[0m\u001b[1;33m\u001b[0m\u001b[1;33m\u001b[0m\u001b[0m\n\u001b[0m\u001b[0;32m     31\u001b[0m         \u001b[0m_data_matrix\u001b[0m\u001b[1;33m.\u001b[0m\u001b[0m__init__\u001b[0m\u001b[1;33m(\u001b[0m\u001b[0mself\u001b[0m\u001b[1;33m)\u001b[0m\u001b[1;33m\u001b[0m\u001b[1;33m\u001b[0m\u001b[0m\n\u001b[0;32m     32\u001b[0m \u001b[1;33m\u001b[0m\u001b[0m\n",
      "\u001b[1;31mKeyboardInterrupt\u001b[0m: "
     ]
    }
   ],
   "source": [
    "# Tf-idf max_features = 5000\n",
    "svm_model = SVC(kernel ='rbf', C = 1, gamma = 0.1)\n",
    "\n",
    "# Training \n",
    "svm_model.fit(X_train5, y_train5)\n",
    "\n",
    "# Evaluation\n",
    "y_pred = svm_model.predict(X_val5)\n",
    "# y_prob = svm_model.decision_function(X_val5)\n",
    "\n",
    "acc = accuracy_score(y_val5, y_pred)\n",
    "# Result\n",
    "print(\"trainingset accuracy : %.3f\" % (svm_model.score(X_train5, y_train5) * 100))\n",
    "print(\"testset accuracy : {:.3f}\".format(acc*100),end='\\n\\n')"
   ]
  },
  {
   "cell_type": "code",
   "execution_count": null,
   "metadata": {},
   "outputs": [],
   "source": []
  },
  {
   "cell_type": "code",
   "execution_count": null,
   "metadata": {},
   "outputs": [],
   "source": []
  },
  {
   "cell_type": "code",
   "execution_count": null,
   "metadata": {},
   "outputs": [],
   "source": []
  },
  {
   "cell_type": "markdown",
   "metadata": {},
   "source": [
    "# 2) Kkma, Tf-idf"
   ]
  },
  {
   "cell_type": "code",
   "execution_count": 13,
   "metadata": {},
   "outputs": [
    {
     "name": "stdout",
     "output_type": "stream",
     "text": [
      "trainingset accuracy : 75.817\n",
      "testset accuracy : 71.580\n",
      "\n"
     ]
    }
   ],
   "source": [
    "# Tf-idf max_features = 5000\n",
    "svm_model = SVC(kernel ='linear', C = 1)\n",
    "\n",
    "# Training \n",
    "svm_model.fit(X_train_1, y_train_1)\n",
    "\n",
    "# Evaluation\n",
    "y_pred = svm_model.predict(X_val_1)\n",
    "# y_prob = svm_model.decision_function(X_val_1)\n",
    "\n",
    "acc = accuracy_score(y_val_1, y_pred)\n",
    "# Result\n",
    "print(\"trainingset accuracy : %.3f\" % (svm_model.score(X_train_1, y_train_1) * 100))\n",
    "print(\"testset accuracy : {:.3f}\".format(acc*100),end='\\n\\n')"
   ]
  },
  {
   "cell_type": "code",
   "execution_count": null,
   "metadata": {},
   "outputs": [],
   "source": []
  },
  {
   "cell_type": "code",
   "execution_count": null,
   "metadata": {},
   "outputs": [],
   "source": []
  },
  {
   "cell_type": "markdown",
   "metadata": {},
   "source": [
    "# SVM: class == 유죄, 무죄"
   ]
  },
  {
   "cell_type": "code",
   "execution_count": 32,
   "metadata": {},
   "outputs": [
    {
     "name": "stdout",
     "output_type": "stream",
     "text": [
      "trainingset accuracy : 90.685\n",
      "testset accuracy : 88.907\n",
      "\n"
     ]
    }
   ],
   "source": [
    "# Tf-idf max_features = 5000\n",
    "svm_model = SVC(kernel ='linear', C = 1)\n",
    "\n",
    "# Training \n",
    "svm_model.fit(X_train_2, y_train_2)\n",
    "\n",
    "# Evaluation\n",
    "y_pred = svm_model.predict(X_val_2)\n",
    "# y_prob = svm_model.decision_function(X_val_1)\n",
    "\n",
    "acc = accuracy_score(y_val_2, y_pred)\n",
    "# Result\n",
    "print(\"trainingset accuracy : %.3f\" % (svm_model.score(X_train_2, y_train_2) * 100))\n",
    "print(\"testset accuracy : {:.3f}\".format(acc*100),end='\\n\\n')"
   ]
  },
  {
   "cell_type": "code",
   "execution_count": 36,
   "metadata": {},
   "outputs": [
    {
     "name": "stdout",
     "output_type": "stream",
     "text": [
      "trainingset accuracy : 91.797\n",
      "testset accuracy : 88.172\n",
      "\n"
     ]
    }
   ],
   "source": [
    "# Tf-idf max_features = 5000\n",
    "svm_model = SVC(kernel ='linear', C = 10)\n",
    "\n",
    "# Training \n",
    "svm_model.fit(X_train_2, y_train_2)\n",
    "\n",
    "# Evaluation\n",
    "\n",
    "y_pred = svm_model.predict(X_val_2)\n",
    "# y_prob = svm_model.decision_function(X_val_1)\n",
    "\n",
    "acc = accuracy_score(y_val_2, y_pred)\n",
    "# Result\n",
    "print(\"trainingset accuracy : %.3f\" % (svm_model.score(X_train_2, y_train_2) * 100))\n",
    "print(\"testset accuracy : {:.3f}\".format(acc*100),end='\\n\\n')"
   ]
  },
  {
   "cell_type": "code",
   "execution_count": null,
   "metadata": {},
   "outputs": [],
   "source": []
  },
  {
   "cell_type": "code",
   "execution_count": 33,
   "metadata": {},
   "outputs": [
    {
     "name": "stdout",
     "output_type": "stream",
     "text": [
      "trainingset accuracy : 88.045\n",
      "testset accuracy : 87.610\n",
      "\n"
     ]
    }
   ],
   "source": [
    "# Tf-idf max_features = 5000\n",
    "svm_model = SVC(kernel ='rbf', C = 1, gamma = 0.1)\n",
    "\n",
    "# Training \n",
    "svm_model.fit(X_train_2, y_train_2)\n",
    "\n",
    "# Evaluation\n",
    "y_pred = svm_model.predict(X_val_2)\n",
    "# y_prob = svm_model.decision_function(X_val5)\n",
    "\n",
    "acc = accuracy_score(y_val_2, y_pred)\n",
    "# Result\n",
    "print(\"trainingset accuracy : %.3f\" % (svm_model.score(X_train_2, y_train_2) * 100))\n",
    "print(\"testset accuracy : {:.3f}\".format(acc*100),end='\\n\\n')"
   ]
  },
  {
   "cell_type": "code",
   "execution_count": null,
   "metadata": {},
   "outputs": [],
   "source": []
  },
  {
   "cell_type": "markdown",
   "metadata": {},
   "source": [
    "# best"
   ]
  },
  {
   "cell_type": "code",
   "execution_count": 34,
   "metadata": {},
   "outputs": [
    {
     "name": "stdout",
     "output_type": "stream",
     "text": [
      "trainingset accuracy : 92.349\n",
      "testset accuracy : 89.232\n",
      "\n"
     ]
    }
   ],
   "source": [
    "# Tf-idf max_features = 5000\n",
    "svm_model = SVC(kernel ='rbf', C = 10, gamma = 0.1)\n",
    "\n",
    "# Training \n",
    "svm_model.fit(X_train_2, y_train_2)\n",
    "\n",
    "# Evaluation\n",
    "y_pred = svm_model.predict(X_val_2)\n",
    "# y_prob = svm_model.decision_function(X_val5)\n",
    "\n",
    "acc = accuracy_score(y_val_2, y_pred)\n",
    "# Result\n",
    "print(\"trainingset accuracy : %.3f\" % (svm_model.score(X_train_2, y_train_2) * 100))\n",
    "print(\"testset accuracy : {:.3f}\".format(acc*100),end='\\n\\n')"
   ]
  },
  {
   "cell_type": "code",
   "execution_count": null,
   "metadata": {},
   "outputs": [],
   "source": []
  },
  {
   "cell_type": "code",
   "execution_count": 27,
   "metadata": {},
   "outputs": [
    {
     "name": "stdout",
     "output_type": "stream",
     "text": [
      "trainingset accuracy : 92.610\n",
      "testset accuracy : 89.267\n",
      "\n"
     ]
    }
   ],
   "source": [
    "# Tf-idf max_features = 6000\n",
    "svm_model = SVC(kernel ='rbf', C = 10, gamma = 0.1)\n",
    "\n",
    "# Training \n",
    "svm_model.fit(X_train_3, y_train_3)\n",
    "\n",
    "# Evaluation\n",
    "y_pred = svm_model.predict(X_val_3)\n",
    "# y_prob = svm_model.decision_function(X_val5)\n",
    "\n",
    "acc = accuracy_score(y_val_3, y_pred)\n",
    "# Result\n",
    "print(\"trainingset accuracy : %.3f\" % (svm_model.score(X_train_3, y_train_3) * 100))\n",
    "print(\"testset accuracy : {:.3f}\".format(acc*100),end='\\n\\n')"
   ]
  },
  {
   "cell_type": "code",
   "execution_count": null,
   "metadata": {},
   "outputs": [],
   "source": []
  },
  {
   "cell_type": "code",
   "execution_count": 30,
   "metadata": {},
   "outputs": [
    {
     "name": "stdout",
     "output_type": "stream",
     "text": [
      "trainingset accuracy : 92.774\n",
      "testset accuracy : 88.906\n",
      "\n"
     ]
    }
   ],
   "source": [
    "# Tf-idf max_features = 6000\n",
    "svm_model = SVC(kernel ='rbf', C = 10, gamma = 0.1)\n",
    "\n",
    "# Training \n",
    "svm_model.fit(X_train_4, y_train_4)\n",
    "\n",
    "# Evaluation\n",
    "y_pred = svm_model.predict(X_val_4)\n",
    "# y_prob = svm_model.decision_function(X_val5)\n",
    "\n",
    "acc = accuracy_score(y_val_4, y_pred)\n",
    "# Result\n",
    "print(\"trainingset accuracy : %.3f\" % (svm_model.score(X_train_4, y_train_4) * 100))\n",
    "print(\"testset accuracy : {:.3f}\".format(acc*100),end='\\n\\n')"
   ]
  },
  {
   "cell_type": "code",
   "execution_count": null,
   "metadata": {},
   "outputs": [],
   "source": []
  },
  {
   "cell_type": "code",
   "execution_count": 24,
   "metadata": {
    "scrolled": true
   },
   "outputs": [
    {
     "name": "stdout",
     "output_type": "stream",
     "text": [
      "trainingset accuracy : 88.320\n",
      "testset accuracy : 87.811\n",
      "\n"
     ]
    }
   ],
   "source": [
    "# Tf-idf max_features = 5000\n",
    "svm_model = SVC(kernel ='rbf', C = 10, gamma = 0.01)\n",
    "\n",
    "# Training \n",
    "svm_model.fit(X_train_2, y_train_2)\n",
    "\n",
    "# Evaluation\n",
    "y_pred = svm_model.predict(X_val_2)\n",
    "# y_prob = svm_model.decision_function(X_val5)\n",
    "\n",
    "acc = accuracy_score(y_val_2, y_pred)\n",
    "# Result\n",
    "print(\"trainingset accuracy : %.3f\" % (svm_model.score(X_train_2, y_train_2) * 100))\n",
    "\n",
    "print(\"testset accuracy : {:.3f}\".format(acc*100),end='\\n\\n')"
   ]
  },
  {
   "cell_type": "code",
   "execution_count": null,
   "metadata": {},
   "outputs": [],
   "source": []
  },
  {
   "cell_type": "code",
   "execution_count": 25,
   "metadata": {},
   "outputs": [
    {
     "name": "stdout",
     "output_type": "stream",
     "text": [
      "trainingset accuracy : 94.638\n",
      "testset accuracy : 89.122\n",
      "\n"
     ]
    }
   ],
   "source": [
    "# Tf-idf max_features = 5000\n",
    "svm_model = SVC(kernel ='rbf', C = 1, gamma = 1)\n",
    "\n",
    "# Training \n",
    "svm_model.fit(X_train_2, y_train_2)\n",
    "\n",
    "# Evaluation\n",
    "y_pred = svm_model.predict(X_val_2)\n",
    "# y_prob = svm_model.decision_function(X_val5)\n",
    "\n",
    "acc = accuracy_score(y_val_2, y_pred)\n",
    "# Result\n",
    "print(\"trainingset accuracy : %.3f\" % (svm_model.score(X_train_2, y_train_2) * 100))\n",
    "\n",
    "print(\"testset accuracy : {:.3f}\".format(acc*100),end='\\n\\n')"
   ]
  },
  {
   "cell_type": "code",
   "execution_count": null,
   "metadata": {},
   "outputs": [],
   "source": []
  },
  {
   "cell_type": "code",
   "execution_count": 26,
   "metadata": {},
   "outputs": [
    {
     "name": "stdout",
     "output_type": "stream",
     "text": [
      "trainingset accuracy : 96.155\n",
      "testset accuracy : 88.290\n",
      "\n"
     ]
    }
   ],
   "source": [
    "# Tf-idf max_features = 5000\n",
    "svm_model = SVC(kernel ='rbf', C = 100, gamma = 0.1)\n",
    "\n",
    "# Training \n",
    "svm_model.fit(X_train_2, y_train_2)\n",
    "\n",
    "# Evaluation\n",
    "y_pred = svm_model.predict(X_val_2)\n",
    "# y_prob = svm_model.decision_function(X_val5)\n",
    "\n",
    "acc = accuracy_score(y_val_2, y_pred)\n",
    "# Result\n",
    "print(\"trainingset accuracy : %.3f\" % (svm_model.score(X_train_2, y_train_2) * 100))\n",
    "\n",
    "print(\"testset accuracy : {:.3f}\".format(acc*100),end='\\n\\n')"
   ]
  },
  {
   "cell_type": "code",
   "execution_count": 31,
   "metadata": {},
   "outputs": [
    {
     "name": "stdout",
     "output_type": "stream",
     "text": [
      "trainingset accuracy : 91.305\n",
      "testset accuracy : 88.900\n",
      "\n"
     ]
    }
   ],
   "source": [
    "# Tf-idf max_features = 5000\n",
    "svm_model = SVC(kernel ='rbf', C = 100, gamma = 0.01)\n",
    "\n",
    "# Training \n",
    "svm_model.fit(X_train_2, y_train_2)\n",
    "\n",
    "# Evaluation\n",
    "y_pred = svm_model.predict(X_val_2)\n",
    "# y_prob = svm_model.decision_function(X_val5)\n",
    "\n",
    "acc = accuracy_score(y_val_2, y_pred)\n",
    "# Result\n",
    "print(\"trainingset accuracy : %.3f\" % (svm_model.score(X_train_2, y_train_2) * 100))\n",
    "\n",
    "print(\"testset accuracy : {:.3f}\".format(acc*100),end='\\n\\n')"
   ]
  },
  {
   "cell_type": "code",
   "execution_count": null,
   "metadata": {},
   "outputs": [],
   "source": []
  },
  {
   "cell_type": "code",
   "execution_count": 32,
   "metadata": {},
   "outputs": [
    {
     "name": "stdout",
     "output_type": "stream",
     "text": [
      "trainingset accuracy : 92.907\n",
      "testset accuracy : 88.192\n",
      "\n"
     ]
    }
   ],
   "source": [
    "# Tf-idf max_features = 5000\n",
    "svm_model = SVC(kernel ='rbf', C = 1000, gamma = 0.01)\n",
    "\n",
    "# Training \n",
    "svm_model.fit(X_train_2, y_train_2)\n",
    "\n",
    "# Evaluation\n",
    "y_pred = svm_model.predict(X_val_2)\n",
    "# y_prob = svm_model.decision_function(X_val5)\n",
    "\n",
    "acc = accuracy_score(y_val_2, y_pred)\n",
    "# Result\n",
    "print(\"trainingset accuracy : %.3f\" % (svm_model.score(X_train_2, y_train_2) * 100))\n",
    "\n",
    "print(\"testset accuracy : {:.3f}\".format(acc*100),end='\\n\\n')"
   ]
  },
  {
   "cell_type": "code",
   "execution_count": null,
   "metadata": {},
   "outputs": [],
   "source": []
  },
  {
   "cell_type": "code",
   "execution_count": 33,
   "metadata": {},
   "outputs": [
    {
     "name": "stdout",
     "output_type": "stream",
     "text": [
      "trainingset accuracy : 91.165\n",
      "testset accuracy : 88.920\n",
      "\n"
     ]
    }
   ],
   "source": [
    "# Tf-idf max_features = 5000\n",
    "svm_model = SVC(kernel ='rbf', C = 1000, gamma = 0.001)\n",
    "\n",
    "# Training \n",
    "svm_model.fit(X_train_2, y_train_2)\n",
    "\n",
    "# Evaluation\n",
    "y_pred = svm_model.predict(X_val_2)\n",
    "# y_prob = svm_model.decision_function(X_val5)\n",
    "\n",
    "acc = accuracy_score(y_val_2, y_pred)\n",
    "# Result\n",
    "print(\"trainingset accuracy : %.3f\" % (svm_model.score(X_train_2, y_train_2) * 100))\n",
    "\n",
    "print(\"testset accuracy : {:.3f}\".format(acc*100),end='\\n\\n')"
   ]
  },
  {
   "cell_type": "code",
   "execution_count": null,
   "metadata": {},
   "outputs": [],
   "source": []
  },
  {
   "cell_type": "code",
   "execution_count": null,
   "metadata": {},
   "outputs": [],
   "source": []
  },
  {
   "cell_type": "code",
   "execution_count": null,
   "metadata": {},
   "outputs": [],
   "source": [
    "parameters = [{'C':[1, 10, 100, 1000], 'kernel':['linear']},\n",
    "              {'C':[1, 10, 100, 1000], 'kernel':['rbf'], 'gamma':[0.5, 0,1, 0.01, 0.001]}]\n",
    "\n",
    "svc_model = SVC(random_state = 0)\n",
    "\n",
    "grid_cv = GridSearchCV(estimator = svc_model,\n",
    "                           param_grid = parameters,h\n",
    "                           scoring = 'accuracy',\n",
    "                           cv = 10 )\n",
    "\n",
    "grid_cv.fit(X_train_2, y_train_2)\n",
    "print('최적 하이퍼 파라미터: ', grid_cv.best_paramis_)\n",
    "print('최고 예측 정확도: {:.3f}'.format(grid_cv.best_score_ * 100))"
   ]
  },
  {
   "cell_type": "code",
   "execution_count": null,
   "metadata": {},
   "outputs": [],
   "source": []
  },
  {
   "cell_type": "code",
   "execution_count": null,
   "metadata": {},
   "outputs": [],
   "source": []
  },
  {
   "cell_type": "code",
   "execution_count": null,
   "metadata": {},
   "outputs": [],
   "source": []
  },
  {
   "cell_type": "code",
   "execution_count": null,
   "metadata": {},
   "outputs": [],
   "source": []
  },
  {
   "cell_type": "code",
   "execution_count": null,
   "metadata": {},
   "outputs": [],
   "source": []
  },
  {
   "cell_type": "markdown",
   "metadata": {},
   "source": [
    "# Random Forest\n",
    "\n",
    "n_estimators<br>\n",
    "- 결정트리의 갯수를 지정\n",
    "- Default = 10\n",
    "- 무작정 트리 갯수를 늘리면 성능 좋아지는 것 대비 시간이 걸릴 수 있음\n",
    "\n",
    "\n",
    "min_samples_split<br>\n",
    "- 노드를 분할하기 위한 최소한의 샘플 데이터수 → 과적합을 제어하는데 사용\n",
    "- Default = 2 → 작게 설정할 수록 분할 노드가 많아져 과적합 가능성 증가\n",
    "\n",
    "\n",
    "min_samples_leaf<br>\n",
    "- 리프노드가 되기 위해 필요한 최소한의 샘플 데이터수\n",
    "- min_samples_split과 함께 과적합 제어 용도\n",
    "- 불균형 데이터의 경우 특정 클래스의 데이터가 극도로 작을 수 있으므로 작게 설정 필요\n",
    "\n",
    "\n",
    "max_features<br>\n",
    "- 최적의 분할을 위해 고려할 최대 feature 개수\n",
    "- Default = 'auto' (결정트리에서는 default가 none이었음)\n",
    "- int형으로 지정 →피처 갯수 / float형으로 지정 →비중\n",
    "- sqrt 또는 auto : 전체 피처 중 sqrt(피처개수) 만큼 선정\n",
    "- log : 전체 피처 중 log2(전체 피처 개수) 만큼 선정\n",
    "\n",
    "\n",
    "max_depth<br>\n",
    "- 트리의 최대 깊이\n",
    "- default = None → 완벽하게 클래스 값이 결정될 때 까지 분할 또는 데이터 개수가 min_samples_split보다 작아질 때까지 분할\n",
    "- 깊이가 깊어지면 과적합될 수 있으므로 적절히 제어 필요\n",
    "\n",
    "\n",
    "max_leaf_nodes<br>\n",
    "- 리프노드의 최대 개수\n",
    "\n",
    "\n",
    "<br><br>\n",
    "**defalut**\n",
    "```Python\n",
    "RandomForestClassifier(bootstrap=True, class_weight=None, criterion='gini',\n",
    "            max_depth=None, max_features='auto', max_leaf_nodes=None,\n",
    "            min_impurity_decrease=0.0, min_impurity_split=None,\n",
    "            min_samples_leaf=1, min_samples_split=2,\n",
    "            min_weight_fraction_leaf=0.0, n_estimators='warn', n_jobs=None,\n",
    "            oob_score=False, random_state=None, verbose=0,\n",
    "            warm_start=False)\n",
    "```\n",
    "\n",
    "\n"
   ]
  },
  {
   "cell_type": "code",
   "execution_count": 382,
   "metadata": {},
   "outputs": [
    {
     "name": "stdout",
     "output_type": "stream",
     "text": [
      "최적 하이퍼 파라미터:  {'max_depth': 70, 'min_samples_leaf': 6, 'min_samples_split': 30, 'n_estimators': 100}\n",
      "최고 예측 정확도: 70.604\n"
     ]
    }
   ],
   "source": [
    "params = { 'n_estimators' : [10, 100],\n",
    "           'max_depth' : [10, 30, 50, 70],\n",
    "           'min_samples_leaf' : [2, 4, 6],\n",
    "           'min_samples_split' : [20, 25, 30]\n",
    "            }\n",
    "\n",
    "# RandomForestClassifier 객체 생성 후 GridSearchCV 수행\n",
    "rf_model = RandomForestClassifier(random_state = 0, n_jobs = -1)\n",
    "grid_cv = GridSearchCV(rf_model, param_grid = params, cv = 3, n_jobs = -1)\n",
    "grid_cv.fit(X_train5, y_train5)\n",
    "\n",
    "print('최적 하이퍼 파라미터: ', grid_cv.best_params_)\n",
    "print('최고 예측 정확도: {:.3f}'.format(grid_cv.best_score_ * 100))"
   ]
  },
  {
   "cell_type": "code",
   "execution_count": 369,
   "metadata": {},
   "outputs": [
    {
     "name": "stdout",
     "output_type": "stream",
     "text": [
      "trainingset accuracy: 81.308\n",
      "testset accuracy: 70.055\n"
     ]
    }
   ],
   "source": [
    "# class: 징역/무기징역, 무죄, 벌금, 집행유예\n",
    "# Tf-idf max_features = 5000\n",
    "rf_model = RandomForestClassifier(random_state = 0, \n",
    "                                  n_estimators = 100, \n",
    "                                  max_depth = 50, \n",
    "                                  min_samples_leaf = 4,\n",
    "                                  min_samples_split = 25)\n",
    "rf_model.fit(X_train5, y_train5)\n",
    "y_pred = rf_model.predict(X_val5)\n",
    "acc = accuracy_score(y_val5 , y_pred)\n",
    "print('trainingset accuracy: {0:.3f}'.format(rf_model.score(X_train5, y_train5) * 100))\n",
    "print('testset accuracy: {0:.3f}'.format(acc * 100))"
   ]
  },
  {
   "cell_type": "code",
   "execution_count": null,
   "metadata": {},
   "outputs": [],
   "source": []
  },
  {
   "cell_type": "code",
   "execution_count": 381,
   "metadata": {},
   "outputs": [
    {
     "name": "stdout",
     "output_type": "stream",
     "text": [
      "최적 하이퍼 파라미터:  {'max_depth': 70, 'min_samples_leaf': 6, 'min_samples_split': 25, 'n_estimators': 100}\n",
      "최고 예측 정확도: 70.509\n"
     ]
    }
   ],
   "source": [
    "params = { 'n_estimators' : [50, 100],\n",
    "           'max_depth' : [10, 30, 50, 70],\n",
    "           'min_samples_leaf' : [2, 4, 6],\n",
    "           'min_samples_split' : [20, 25, 30]\n",
    "            }\n",
    "\n",
    "# RandomForestClassifier 객체 생성 후 GridSearchCV 수행\n",
    "rf_model = RandomForestClassifier(random_state = 0, n_jobs = -1)\n",
    "grid_cv = GridSearchCV(rf_model, param_grid = params, cv = 3, n_jobs = -1)\n",
    "grid_cv.fit(X_train9, y_train9)\n",
    "\n",
    "print('최적 하이퍼 파라미터: ', grid_cv.best_params_)\n",
    "print('최고 예측 정확도: {:.3f}'.format(grid_cv.best_score_ * 100))"
   ]
  },
  {
   "cell_type": "code",
   "execution_count": 383,
   "metadata": {},
   "outputs": [
    {
     "name": "stdout",
     "output_type": "stream",
     "text": [
      "trainingset accuracy: 81.061\n",
      "testset accuracy: 70.547\n"
     ]
    }
   ],
   "source": [
    "# class: 징역/무기징역, 무죄/벌금/집행유예\n",
    "# Tf-idf max_features = 7000\n",
    "rf_model = RandomForestClassifier(random_state = 0, \n",
    "                                  n_estimators = 100, \n",
    "                                  max_depth = 70, \n",
    "                                  min_samples_leaf = 6,\n",
    "                                  min_samples_split = 25)\n",
    "rf_model.fit(X_train9, y_train9)\n",
    "y_pred = rf_model.predict(X_val9)\n",
    "acc = accuracy_score(y_val9, y_pred)\n",
    "print('trainingset accuracy: {0:.3f}'.format(rf_model.score(X_train9, y_train9) * 100))\n",
    "print('testset accuracy: {0:.3f}'.format(acc * 100))"
   ]
  },
  {
   "cell_type": "code",
   "execution_count": null,
   "metadata": {},
   "outputs": [],
   "source": []
  },
  {
   "cell_type": "code",
   "execution_count": null,
   "metadata": {},
   "outputs": [],
   "source": []
  },
  {
   "cell_type": "code",
   "execution_count": null,
   "metadata": {},
   "outputs": [],
   "source": []
  },
  {
   "cell_type": "markdown",
   "metadata": {},
   "source": [
    "# 유죄/무죄"
   ]
  },
  {
   "cell_type": "code",
   "execution_count": 18,
   "metadata": {},
   "outputs": [
    {
     "name": "stdout",
     "output_type": "stream",
     "text": [
      "최적 하이퍼 파라미터:  {'max_depth': 70, 'min_samples_leaf': 4, 'min_samples_split': 20, 'n_estimators': 10}\n",
      "최고 예측 정확도: 85.619\n"
     ]
    }
   ],
   "source": [
    "params = { 'n_estimators' : [10, 100],\n",
    "           'max_depth' : [10, 30, 50, 70],\n",
    "           'min_samples_leaf' : [2, 4, 6],\n",
    "           'min_samples_split' : [20, 25, 30]\n",
    "            }\n",
    "\n",
    "# RandomForestClassifier 객체 생성 후 GridSearchCV 수행\n",
    "rf_model = RandomForestClassifier(random_state = 0, n_jobs = -1)\n",
    "grid_cv = GridSearchCV(rf_model, param_grid = params, cv = 3, n_jobs = -1)\n",
    "grid_cv.fit(X_train_2, y_train_2)\n",
    "\n",
    "print('최적 하이퍼 파라미터: ', grid_cv.best_params_)\n",
    "print('최고 예측 정확도: {:.3f}'.format(grid_cv.best_score_ * 100))"
   ]
  },
  {
   "cell_type": "code",
   "execution_count": 22,
   "metadata": {},
   "outputs": [
    {
     "name": "stdout",
     "output_type": "stream",
     "text": [
      "최적 하이퍼 파라미터:  {'max_depth': 70, 'min_samples_leaf': 4, 'min_samples_split': 40, 'n_estimators': 10}\n",
      "최고 예측 정확도: 85.699\n"
     ]
    }
   ],
   "source": [
    "params = { 'n_estimators' : [10, 20],\n",
    "           'max_depth' : [60, 70, 80],\n",
    "           'min_samples_leaf' : [2, 4, 6],\n",
    "           'min_samples_split' : [40, 50, 60]\n",
    "            }\n",
    "\n",
    "# RandomForestClassifier 객체 생성 후 GridSearchCV 수행\n",
    "rf_model = RandomForestClassifier(random_state = 0, n_jobs = -1)\n",
    "grid_cv = GridSearchCV(rf_model, param_grid = params, cv = 3, n_jobs = -1)\n",
    "grid_cv.fit(X_train_2, y_train_2)\n",
    "\n",
    "print('최적 하이퍼 파라미터: ', grid_cv.best_params_)\n",
    "print('최고 예측 정확도: {:.3f}'.format(grid_cv.best_score_ * 100))"
   ]
  },
  {
   "cell_type": "code",
   "execution_count": 23,
   "metadata": {},
   "outputs": [
    {
     "name": "stdout",
     "output_type": "stream",
     "text": [
      "trainingset accuracy: 89.745\n",
      "testset accuracy: 85.696\n"
     ]
    }
   ],
   "source": [
    "rf_model = RandomForestClassifier(random_state = 0, \n",
    "                                  n_estimators = 10, \n",
    "                                  max_depth = 70, \n",
    "                                  min_samples_leaf = 4,\n",
    "                                  min_samples_split = 40)\n",
    "rf_model.fit(X_train_2, y_train_2)\n",
    "y_pred = rf_model.predict(X_val_2)\n",
    "acc = accuracy_score(y_val_2, y_pred)\n",
    "print('trainingset accuracy: {0:.3f}'.format(rf_model.score(X_train_2, y_train_2) * 100))\n",
    "print('testset accuracy: {0:.3f}'.format(acc * 100))"
   ]
  },
  {
   "cell_type": "code",
   "execution_count": null,
   "metadata": {},
   "outputs": [],
   "source": []
  },
  {
   "cell_type": "code",
   "execution_count": null,
   "metadata": {},
   "outputs": [],
   "source": []
  },
  {
   "cell_type": "code",
   "execution_count": null,
   "metadata": {},
   "outputs": [],
   "source": []
  },
  {
   "cell_type": "code",
   "execution_count": null,
   "metadata": {},
   "outputs": [],
   "source": []
  },
  {
   "cell_type": "code",
   "execution_count": null,
   "metadata": {},
   "outputs": [],
   "source": []
  },
  {
   "cell_type": "code",
   "execution_count": null,
   "metadata": {},
   "outputs": [],
   "source": []
  },
  {
   "cell_type": "code",
   "execution_count": null,
   "metadata": {},
   "outputs": [],
   "source": []
  },
  {
   "cell_type": "code",
   "execution_count": null,
   "metadata": {},
   "outputs": [],
   "source": []
  },
  {
   "cell_type": "code",
   "execution_count": null,
   "metadata": {},
   "outputs": [],
   "source": []
  },
  {
   "cell_type": "code",
   "execution_count": null,
   "metadata": {},
   "outputs": [],
   "source": []
  },
  {
   "cell_type": "markdown",
   "metadata": {},
   "source": [
    "# class 데이터 불균형 문제 해결 방법\n",
    "\n",
    "# resampling\n",
    "https://joonable.tistory.com/27\n",
    "\n",
    "# "
   ]
  },
  {
   "cell_type": "code",
   "execution_count": 7,
   "metadata": {},
   "outputs": [],
   "source": [
    "scaler = MaxAbsScaler()\n",
    "scaler.fit_transform(X_train5)\n",
    "X_train_tmp = scaler.fit_transform(X_train5)"
   ]
  },
  {
   "cell_type": "code",
   "execution_count": 9,
   "metadata": {},
   "outputs": [
    {
     "name": "stdout",
     "output_type": "stream",
     "text": [
      "After OverSampling, the shape of train_X: (63492, 5000)\n",
      "After OverSampling, the shape of train_y: (63492, 5000) \n",
      "\n",
      "After OverSampling, counts of label '1': 31746\n",
      "After OverSampling, counts of label '0': 31746\n"
     ]
    }
   ],
   "source": [
    "# 모델설정\n",
    "sm = SMOTE()\n",
    "\n",
    "# train데이터를 넣어 복제함\n",
    "X_resampled, y_resampled = sm.fit_sample(X_train_tmp,list(y_train5))\n",
    "\n",
    "print('After OverSampling, the shape of train_X: {}'.format(X_resampled.shape))\n",
    "print('After OverSampling, the shape of train_y: {} \\n'.format(X_resampled.shape))\n",
    "\n",
    "print(\"After OverSampling, counts of label '1': {}\".format(y_resampled.count('무죄/벌금/집행유예')))\n",
    "print(\"After OverSampling, counts of label '0': {}\".format(y_resampled.count('징역/무기징역')))"
   ]
  },
  {
   "cell_type": "code",
   "execution_count": null,
   "metadata": {},
   "outputs": [],
   "source": []
  },
  {
   "cell_type": "code",
   "execution_count": null,
   "metadata": {},
   "outputs": [],
   "source": []
  },
  {
   "cell_type": "markdown",
   "metadata": {},
   "source": [
    "# MLP"
   ]
  },
  {
   "cell_type": "code",
   "execution_count": 17,
   "metadata": {},
   "outputs": [],
   "source": [
    "from keras.models import Sequential\n",
    "from keras.layers import Activation, Dense\n",
    "from keras import optimizers"
   ]
  },
  {
   "cell_type": "code",
   "execution_count": 18,
   "metadata": {},
   "outputs": [],
   "source": [
    "model = Sequential()\n",
    "model.add(Dense(10, input_shape=(30,), activation='sigmoid'))\n",
    "model.add(Dense(10, activation='sigmoid'))\n",
    "model.add(Dense(10, activation='sigmoid'))\n",
    "model.add(Dense(1, activation='sigmoid'))\n",
    "\n",
    "sgd=optimizers.SGD(lr=0.01)\n",
    "model.compile(optimizer=sgd, loss='binary_crossentropy', metrics=['acc'])"
   ]
  },
  {
   "cell_type": "code",
   "execution_count": 19,
   "metadata": {},
   "outputs": [
    {
     "name": "stdout",
     "output_type": "stream",
     "text": [
      "Model: \"sequential_1\"\n",
      "_________________________________________________________________\n",
      "Layer (type)                 Output Shape              Param #   \n",
      "=================================================================\n",
      "dense_4 (Dense)              (None, 10)                310       \n",
      "_________________________________________________________________\n",
      "dense_5 (Dense)              (None, 10)                110       \n",
      "_________________________________________________________________\n",
      "dense_6 (Dense)              (None, 10)                110       \n",
      "_________________________________________________________________\n",
      "dense_7 (Dense)              (None, 1)                 11        \n",
      "=================================================================\n",
      "Total params: 541\n",
      "Trainable params: 541\n",
      "Non-trainable params: 0\n",
      "_________________________________________________________________\n"
     ]
    }
   ],
   "source": [
    "model.summary()"
   ]
  },
  {
   "cell_type": "code",
   "execution_count": 24,
   "metadata": {},
   "outputs": [
    {
     "ename": "InvalidArgumentError",
     "evalue": "indices[2] = [0,2900] is out of order. Many sparse ops require sorted indices.\n    Use `tf.sparse.reorder` to create a correctly ordered copy.\n\n [Op:SerializeManySparse]",
     "output_type": "error",
     "traceback": [
      "\u001b[1;31m---------------------------------------------------------------------------\u001b[0m",
      "\u001b[1;31mInvalidArgumentError\u001b[0m                      Traceback (most recent call last)",
      "\u001b[1;32m<ipython-input-24-e72f4ee232c6>\u001b[0m in \u001b[0;36m<module>\u001b[1;34m\u001b[0m\n\u001b[1;32m----> 1\u001b[1;33m \u001b[0mmodel\u001b[0m\u001b[1;33m.\u001b[0m\u001b[0mfit\u001b[0m\u001b[1;33m(\u001b[0m\u001b[0mX_train_2\u001b[0m\u001b[1;33m,\u001b[0m \u001b[0my_train_2\u001b[0m\u001b[1;33m,\u001b[0m \u001b[0mbatch_size\u001b[0m\u001b[1;33m=\u001b[0m\u001b[1;36m90\u001b[0m\u001b[1;33m,\u001b[0m \u001b[0mepochs\u001b[0m\u001b[1;33m=\u001b[0m\u001b[1;36m1000\u001b[0m\u001b[1;33m,\u001b[0m \u001b[0mverbose\u001b[0m\u001b[1;33m=\u001b[0m\u001b[1;36m1\u001b[0m\u001b[1;33m)\u001b[0m\u001b[1;33m\u001b[0m\u001b[1;33m\u001b[0m\u001b[0m\n\u001b[0m",
      "\u001b[1;32m~\\AppData\\Roaming\\Python\\Python37\\site-packages\\tensorflow\\python\\keras\\engine\\training.py\u001b[0m in \u001b[0;36m_method_wrapper\u001b[1;34m(self, *args, **kwargs)\u001b[0m\n\u001b[0;32m    106\u001b[0m   \u001b[1;32mdef\u001b[0m \u001b[0m_method_wrapper\u001b[0m\u001b[1;33m(\u001b[0m\u001b[0mself\u001b[0m\u001b[1;33m,\u001b[0m \u001b[1;33m*\u001b[0m\u001b[0margs\u001b[0m\u001b[1;33m,\u001b[0m \u001b[1;33m**\u001b[0m\u001b[0mkwargs\u001b[0m\u001b[1;33m)\u001b[0m\u001b[1;33m:\u001b[0m\u001b[1;33m\u001b[0m\u001b[1;33m\u001b[0m\u001b[0m\n\u001b[0;32m    107\u001b[0m     \u001b[1;32mif\u001b[0m \u001b[1;32mnot\u001b[0m \u001b[0mself\u001b[0m\u001b[1;33m.\u001b[0m\u001b[0m_in_multi_worker_mode\u001b[0m\u001b[1;33m(\u001b[0m\u001b[1;33m)\u001b[0m\u001b[1;33m:\u001b[0m  \u001b[1;31m# pylint: disable=protected-access\u001b[0m\u001b[1;33m\u001b[0m\u001b[1;33m\u001b[0m\u001b[0m\n\u001b[1;32m--> 108\u001b[1;33m       \u001b[1;32mreturn\u001b[0m \u001b[0mmethod\u001b[0m\u001b[1;33m(\u001b[0m\u001b[0mself\u001b[0m\u001b[1;33m,\u001b[0m \u001b[1;33m*\u001b[0m\u001b[0margs\u001b[0m\u001b[1;33m,\u001b[0m \u001b[1;33m**\u001b[0m\u001b[0mkwargs\u001b[0m\u001b[1;33m)\u001b[0m\u001b[1;33m\u001b[0m\u001b[1;33m\u001b[0m\u001b[0m\n\u001b[0m\u001b[0;32m    109\u001b[0m \u001b[1;33m\u001b[0m\u001b[0m\n\u001b[0;32m    110\u001b[0m     \u001b[1;31m# Running inside `run_distribute_coordinator` already.\u001b[0m\u001b[1;33m\u001b[0m\u001b[1;33m\u001b[0m\u001b[1;33m\u001b[0m\u001b[0m\n",
      "\u001b[1;32m~\\AppData\\Roaming\\Python\\Python37\\site-packages\\tensorflow\\python\\keras\\engine\\training.py\u001b[0m in \u001b[0;36mfit\u001b[1;34m(self, x, y, batch_size, epochs, verbose, callbacks, validation_split, validation_data, shuffle, class_weight, sample_weight, initial_epoch, steps_per_epoch, validation_steps, validation_batch_size, validation_freq, max_queue_size, workers, use_multiprocessing)\u001b[0m\n\u001b[0;32m   1061\u001b[0m           \u001b[0muse_multiprocessing\u001b[0m\u001b[1;33m=\u001b[0m\u001b[0muse_multiprocessing\u001b[0m\u001b[1;33m,\u001b[0m\u001b[1;33m\u001b[0m\u001b[1;33m\u001b[0m\u001b[0m\n\u001b[0;32m   1062\u001b[0m           \u001b[0mmodel\u001b[0m\u001b[1;33m=\u001b[0m\u001b[0mself\u001b[0m\u001b[1;33m,\u001b[0m\u001b[1;33m\u001b[0m\u001b[1;33m\u001b[0m\u001b[0m\n\u001b[1;32m-> 1063\u001b[1;33m           steps_per_execution=self._steps_per_execution)\n\u001b[0m\u001b[0;32m   1064\u001b[0m \u001b[1;33m\u001b[0m\u001b[0m\n\u001b[0;32m   1065\u001b[0m       \u001b[1;31m# Container that configures and calls `tf.keras.Callback`s.\u001b[0m\u001b[1;33m\u001b[0m\u001b[1;33m\u001b[0m\u001b[1;33m\u001b[0m\u001b[0m\n",
      "\u001b[1;32m~\\AppData\\Roaming\\Python\\Python37\\site-packages\\tensorflow\\python\\keras\\engine\\data_adapter.py\u001b[0m in \u001b[0;36m__init__\u001b[1;34m(self, x, y, sample_weight, batch_size, steps_per_epoch, initial_epoch, epochs, shuffle, class_weight, max_queue_size, workers, use_multiprocessing, model, steps_per_execution)\u001b[0m\n\u001b[0;32m   1115\u001b[0m         \u001b[0muse_multiprocessing\u001b[0m\u001b[1;33m=\u001b[0m\u001b[0muse_multiprocessing\u001b[0m\u001b[1;33m,\u001b[0m\u001b[1;33m\u001b[0m\u001b[1;33m\u001b[0m\u001b[0m\n\u001b[0;32m   1116\u001b[0m         \u001b[0mdistribution_strategy\u001b[0m\u001b[1;33m=\u001b[0m\u001b[0mds_context\u001b[0m\u001b[1;33m.\u001b[0m\u001b[0mget_strategy\u001b[0m\u001b[1;33m(\u001b[0m\u001b[1;33m)\u001b[0m\u001b[1;33m,\u001b[0m\u001b[1;33m\u001b[0m\u001b[1;33m\u001b[0m\u001b[0m\n\u001b[1;32m-> 1117\u001b[1;33m         model=model)\n\u001b[0m\u001b[0;32m   1118\u001b[0m \u001b[1;33m\u001b[0m\u001b[0m\n\u001b[0;32m   1119\u001b[0m     \u001b[0mstrategy\u001b[0m \u001b[1;33m=\u001b[0m \u001b[0mds_context\u001b[0m\u001b[1;33m.\u001b[0m\u001b[0mget_strategy\u001b[0m\u001b[1;33m(\u001b[0m\u001b[1;33m)\u001b[0m\u001b[1;33m\u001b[0m\u001b[1;33m\u001b[0m\u001b[0m\n",
      "\u001b[1;32m~\\AppData\\Roaming\\Python\\Python37\\site-packages\\tensorflow\\python\\keras\\engine\\data_adapter.py\u001b[0m in \u001b[0;36m__init__\u001b[1;34m(self, x, y, sample_weights, sample_weight_modes, batch_size, steps, shuffle, **kwargs)\u001b[0m\n\u001b[0;32m    571\u001b[0m     \u001b[0minputs\u001b[0m \u001b[1;33m=\u001b[0m \u001b[0mpack_x_y_sample_weight\u001b[0m\u001b[1;33m(\u001b[0m\u001b[0mx\u001b[0m\u001b[1;33m,\u001b[0m \u001b[0my\u001b[0m\u001b[1;33m,\u001b[0m \u001b[0msample_weights\u001b[0m\u001b[1;33m)\u001b[0m\u001b[1;33m\u001b[0m\u001b[1;33m\u001b[0m\u001b[0m\n\u001b[0;32m    572\u001b[0m \u001b[1;33m\u001b[0m\u001b[0m\n\u001b[1;32m--> 573\u001b[1;33m     \u001b[0mdataset\u001b[0m \u001b[1;33m=\u001b[0m \u001b[0mdataset_ops\u001b[0m\u001b[1;33m.\u001b[0m\u001b[0mDatasetV2\u001b[0m\u001b[1;33m.\u001b[0m\u001b[0mfrom_tensor_slices\u001b[0m\u001b[1;33m(\u001b[0m\u001b[0minputs\u001b[0m\u001b[1;33m)\u001b[0m\u001b[1;33m\u001b[0m\u001b[1;33m\u001b[0m\u001b[0m\n\u001b[0m\u001b[0;32m    574\u001b[0m     \u001b[0mnum_samples\u001b[0m \u001b[1;33m=\u001b[0m \u001b[0mint\u001b[0m\u001b[1;33m(\u001b[0m\u001b[0mnest\u001b[0m\u001b[1;33m.\u001b[0m\u001b[0mflatten\u001b[0m\u001b[1;33m(\u001b[0m\u001b[0mx\u001b[0m\u001b[1;33m)\u001b[0m\u001b[1;33m[\u001b[0m\u001b[1;36m0\u001b[0m\u001b[1;33m]\u001b[0m\u001b[1;33m.\u001b[0m\u001b[0mshape\u001b[0m\u001b[1;33m[\u001b[0m\u001b[1;36m0\u001b[0m\u001b[1;33m]\u001b[0m\u001b[1;33m)\u001b[0m\u001b[1;33m\u001b[0m\u001b[1;33m\u001b[0m\u001b[0m\n\u001b[0;32m    575\u001b[0m     \u001b[1;32mif\u001b[0m \u001b[0mshuffle\u001b[0m\u001b[1;33m:\u001b[0m\u001b[1;33m\u001b[0m\u001b[1;33m\u001b[0m\u001b[0m\n",
      "\u001b[1;32m~\\AppData\\Roaming\\Python\\Python37\\site-packages\\tensorflow\\python\\data\\ops\\dataset_ops.py\u001b[0m in \u001b[0;36mfrom_tensor_slices\u001b[1;34m(tensors)\u001b[0m\n\u001b[0;32m    680\u001b[0m       \u001b[0mDataset\u001b[0m\u001b[1;33m:\u001b[0m \u001b[0mA\u001b[0m\u001b[0;31m \u001b[0m\u001b[0;31m`\u001b[0m\u001b[0mDataset\u001b[0m\u001b[0;31m`\u001b[0m\u001b[1;33m.\u001b[0m\u001b[1;33m\u001b[0m\u001b[1;33m\u001b[0m\u001b[0m\n\u001b[0;32m    681\u001b[0m     \"\"\"\n\u001b[1;32m--> 682\u001b[1;33m     \u001b[1;32mreturn\u001b[0m \u001b[0mTensorSliceDataset\u001b[0m\u001b[1;33m(\u001b[0m\u001b[0mtensors\u001b[0m\u001b[1;33m)\u001b[0m\u001b[1;33m\u001b[0m\u001b[1;33m\u001b[0m\u001b[0m\n\u001b[0m\u001b[0;32m    683\u001b[0m \u001b[1;33m\u001b[0m\u001b[0m\n\u001b[0;32m    684\u001b[0m   \u001b[1;32mclass\u001b[0m \u001b[0m_GeneratorState\u001b[0m\u001b[1;33m(\u001b[0m\u001b[0mobject\u001b[0m\u001b[1;33m)\u001b[0m\u001b[1;33m:\u001b[0m\u001b[1;33m\u001b[0m\u001b[1;33m\u001b[0m\u001b[0m\n",
      "\u001b[1;32m~\\AppData\\Roaming\\Python\\Python37\\site-packages\\tensorflow\\python\\data\\ops\\dataset_ops.py\u001b[0m in \u001b[0;36m__init__\u001b[1;34m(self, element)\u001b[0m\n\u001b[0;32m   3001\u001b[0m     \u001b[0melement\u001b[0m \u001b[1;33m=\u001b[0m \u001b[0mstructure\u001b[0m\u001b[1;33m.\u001b[0m\u001b[0mnormalize_element\u001b[0m\u001b[1;33m(\u001b[0m\u001b[0melement\u001b[0m\u001b[1;33m)\u001b[0m\u001b[1;33m\u001b[0m\u001b[1;33m\u001b[0m\u001b[0m\n\u001b[0;32m   3002\u001b[0m     \u001b[0mbatched_spec\u001b[0m \u001b[1;33m=\u001b[0m \u001b[0mstructure\u001b[0m\u001b[1;33m.\u001b[0m\u001b[0mtype_spec_from_value\u001b[0m\u001b[1;33m(\u001b[0m\u001b[0melement\u001b[0m\u001b[1;33m)\u001b[0m\u001b[1;33m\u001b[0m\u001b[1;33m\u001b[0m\u001b[0m\n\u001b[1;32m-> 3003\u001b[1;33m     \u001b[0mself\u001b[0m\u001b[1;33m.\u001b[0m\u001b[0m_tensors\u001b[0m \u001b[1;33m=\u001b[0m \u001b[0mstructure\u001b[0m\u001b[1;33m.\u001b[0m\u001b[0mto_batched_tensor_list\u001b[0m\u001b[1;33m(\u001b[0m\u001b[0mbatched_spec\u001b[0m\u001b[1;33m,\u001b[0m \u001b[0melement\u001b[0m\u001b[1;33m)\u001b[0m\u001b[1;33m\u001b[0m\u001b[1;33m\u001b[0m\u001b[0m\n\u001b[0m\u001b[0;32m   3004\u001b[0m     self._structure = nest.map_structure(\n\u001b[0;32m   3005\u001b[0m         lambda component_spec: component_spec._unbatch(), batched_spec)  # pylint: disable=protected-access\n",
      "\u001b[1;32m~\\AppData\\Roaming\\Python\\Python37\\site-packages\\tensorflow\\python\\data\\util\\structure.py\u001b[0m in \u001b[0;36mto_batched_tensor_list\u001b[1;34m(element_spec, element)\u001b[0m\n\u001b[0;32m    350\u001b[0m   return _to_tensor_list_helper(\n\u001b[0;32m    351\u001b[0m       lambda state, spec, component: state + spec._to_batched_tensor_list(\n\u001b[1;32m--> 352\u001b[1;33m           component), element_spec, element)\n\u001b[0m\u001b[0;32m    353\u001b[0m \u001b[1;33m\u001b[0m\u001b[0m\n\u001b[0;32m    354\u001b[0m \u001b[1;33m\u001b[0m\u001b[0m\n",
      "\u001b[1;32m~\\AppData\\Roaming\\Python\\Python37\\site-packages\\tensorflow\\python\\data\\util\\structure.py\u001b[0m in \u001b[0;36m_to_tensor_list_helper\u001b[1;34m(encode_fn, element_spec, element)\u001b[0m\n\u001b[0;32m    324\u001b[0m \u001b[1;33m\u001b[0m\u001b[0m\n\u001b[0;32m    325\u001b[0m   return functools.reduce(\n\u001b[1;32m--> 326\u001b[1;33m       reduce_fn, zip(nest.flatten(element_spec), nest.flatten(element)), [])\n\u001b[0m\u001b[0;32m    327\u001b[0m \u001b[1;33m\u001b[0m\u001b[0m\n\u001b[0;32m    328\u001b[0m \u001b[1;33m\u001b[0m\u001b[0m\n",
      "\u001b[1;32m~\\AppData\\Roaming\\Python\\Python37\\site-packages\\tensorflow\\python\\data\\util\\structure.py\u001b[0m in \u001b[0;36mreduce_fn\u001b[1;34m(state, value)\u001b[0m\n\u001b[0;32m    321\u001b[0m   \u001b[1;32mdef\u001b[0m \u001b[0mreduce_fn\u001b[0m\u001b[1;33m(\u001b[0m\u001b[0mstate\u001b[0m\u001b[1;33m,\u001b[0m \u001b[0mvalue\u001b[0m\u001b[1;33m)\u001b[0m\u001b[1;33m:\u001b[0m\u001b[1;33m\u001b[0m\u001b[1;33m\u001b[0m\u001b[0m\n\u001b[0;32m    322\u001b[0m     \u001b[0mspec\u001b[0m\u001b[1;33m,\u001b[0m \u001b[0mcomponent\u001b[0m \u001b[1;33m=\u001b[0m \u001b[0mvalue\u001b[0m\u001b[1;33m\u001b[0m\u001b[1;33m\u001b[0m\u001b[0m\n\u001b[1;32m--> 323\u001b[1;33m     \u001b[1;32mreturn\u001b[0m \u001b[0mencode_fn\u001b[0m\u001b[1;33m(\u001b[0m\u001b[0mstate\u001b[0m\u001b[1;33m,\u001b[0m \u001b[0mspec\u001b[0m\u001b[1;33m,\u001b[0m \u001b[0mcomponent\u001b[0m\u001b[1;33m)\u001b[0m\u001b[1;33m\u001b[0m\u001b[1;33m\u001b[0m\u001b[0m\n\u001b[0m\u001b[0;32m    324\u001b[0m \u001b[1;33m\u001b[0m\u001b[0m\n\u001b[0;32m    325\u001b[0m   return functools.reduce(\n",
      "\u001b[1;32m~\\AppData\\Roaming\\Python\\Python37\\site-packages\\tensorflow\\python\\data\\util\\structure.py\u001b[0m in \u001b[0;36m<lambda>\u001b[1;34m(state, spec, component)\u001b[0m\n\u001b[0;32m    350\u001b[0m   return _to_tensor_list_helper(\n\u001b[0;32m    351\u001b[0m       lambda state, spec, component: state + spec._to_batched_tensor_list(\n\u001b[1;32m--> 352\u001b[1;33m           component), element_spec, element)\n\u001b[0m\u001b[0;32m    353\u001b[0m \u001b[1;33m\u001b[0m\u001b[0m\n\u001b[0;32m    354\u001b[0m \u001b[1;33m\u001b[0m\u001b[0m\n",
      "\u001b[1;32m~\\AppData\\Roaming\\Python\\Python37\\site-packages\\tensorflow\\python\\framework\\sparse_tensor.py\u001b[0m in \u001b[0;36m_to_batched_tensor_list\u001b[1;34m(self, value)\u001b[0m\n\u001b[0;32m    344\u001b[0m     return [gen_sparse_ops.serialize_many_sparse(\n\u001b[0;32m    345\u001b[0m         \u001b[0mvalue\u001b[0m\u001b[1;33m.\u001b[0m\u001b[0mindices\u001b[0m\u001b[1;33m,\u001b[0m \u001b[0mvalue\u001b[0m\u001b[1;33m.\u001b[0m\u001b[0mvalues\u001b[0m\u001b[1;33m,\u001b[0m \u001b[0mvalue\u001b[0m\u001b[1;33m.\u001b[0m\u001b[0mdense_shape\u001b[0m\u001b[1;33m,\u001b[0m\u001b[1;33m\u001b[0m\u001b[1;33m\u001b[0m\u001b[0m\n\u001b[1;32m--> 346\u001b[1;33m         out_type=dtypes.variant)]\n\u001b[0m\u001b[0;32m    347\u001b[0m \u001b[1;33m\u001b[0m\u001b[0m\n\u001b[0;32m    348\u001b[0m   \u001b[1;32mdef\u001b[0m \u001b[0m_from_compatible_tensor_list\u001b[0m\u001b[1;33m(\u001b[0m\u001b[0mself\u001b[0m\u001b[1;33m,\u001b[0m \u001b[0mtensor_list\u001b[0m\u001b[1;33m)\u001b[0m\u001b[1;33m:\u001b[0m\u001b[1;33m\u001b[0m\u001b[1;33m\u001b[0m\u001b[0m\n",
      "\u001b[1;32m~\\AppData\\Roaming\\Python\\Python37\\site-packages\\tensorflow\\python\\ops\\gen_sparse_ops.py\u001b[0m in \u001b[0;36mserialize_many_sparse\u001b[1;34m(sparse_indices, sparse_values, sparse_shape, out_type, name)\u001b[0m\n\u001b[0;32m    496\u001b[0m       \u001b[1;32mreturn\u001b[0m \u001b[0m_result\u001b[0m\u001b[1;33m\u001b[0m\u001b[1;33m\u001b[0m\u001b[0m\n\u001b[0;32m    497\u001b[0m     \u001b[1;32mexcept\u001b[0m \u001b[0m_core\u001b[0m\u001b[1;33m.\u001b[0m\u001b[0m_NotOkStatusException\u001b[0m \u001b[1;32mas\u001b[0m \u001b[0me\u001b[0m\u001b[1;33m:\u001b[0m\u001b[1;33m\u001b[0m\u001b[1;33m\u001b[0m\u001b[0m\n\u001b[1;32m--> 498\u001b[1;33m       \u001b[0m_ops\u001b[0m\u001b[1;33m.\u001b[0m\u001b[0mraise_from_not_ok_status\u001b[0m\u001b[1;33m(\u001b[0m\u001b[0me\u001b[0m\u001b[1;33m,\u001b[0m \u001b[0mname\u001b[0m\u001b[1;33m)\u001b[0m\u001b[1;33m\u001b[0m\u001b[1;33m\u001b[0m\u001b[0m\n\u001b[0m\u001b[0;32m    499\u001b[0m     \u001b[1;32mexcept\u001b[0m \u001b[0m_core\u001b[0m\u001b[1;33m.\u001b[0m\u001b[0m_FallbackException\u001b[0m\u001b[1;33m:\u001b[0m\u001b[1;33m\u001b[0m\u001b[1;33m\u001b[0m\u001b[0m\n\u001b[0;32m    500\u001b[0m       \u001b[1;32mpass\u001b[0m\u001b[1;33m\u001b[0m\u001b[1;33m\u001b[0m\u001b[0m\n",
      "\u001b[1;32m~\\AppData\\Roaming\\Python\\Python37\\site-packages\\tensorflow\\python\\framework\\ops.py\u001b[0m in \u001b[0;36mraise_from_not_ok_status\u001b[1;34m(e, name)\u001b[0m\n\u001b[0;32m   6841\u001b[0m   \u001b[0mmessage\u001b[0m \u001b[1;33m=\u001b[0m \u001b[0me\u001b[0m\u001b[1;33m.\u001b[0m\u001b[0mmessage\u001b[0m \u001b[1;33m+\u001b[0m \u001b[1;33m(\u001b[0m\u001b[1;34m\" name: \"\u001b[0m \u001b[1;33m+\u001b[0m \u001b[0mname\u001b[0m \u001b[1;32mif\u001b[0m \u001b[0mname\u001b[0m \u001b[1;32mis\u001b[0m \u001b[1;32mnot\u001b[0m \u001b[1;32mNone\u001b[0m \u001b[1;32melse\u001b[0m \u001b[1;34m\"\"\u001b[0m\u001b[1;33m)\u001b[0m\u001b[1;33m\u001b[0m\u001b[1;33m\u001b[0m\u001b[0m\n\u001b[0;32m   6842\u001b[0m   \u001b[1;31m# pylint: disable=protected-access\u001b[0m\u001b[1;33m\u001b[0m\u001b[1;33m\u001b[0m\u001b[1;33m\u001b[0m\u001b[0m\n\u001b[1;32m-> 6843\u001b[1;33m   \u001b[0msix\u001b[0m\u001b[1;33m.\u001b[0m\u001b[0mraise_from\u001b[0m\u001b[1;33m(\u001b[0m\u001b[0mcore\u001b[0m\u001b[1;33m.\u001b[0m\u001b[0m_status_to_exception\u001b[0m\u001b[1;33m(\u001b[0m\u001b[0me\u001b[0m\u001b[1;33m.\u001b[0m\u001b[0mcode\u001b[0m\u001b[1;33m,\u001b[0m \u001b[0mmessage\u001b[0m\u001b[1;33m)\u001b[0m\u001b[1;33m,\u001b[0m \u001b[1;32mNone\u001b[0m\u001b[1;33m)\u001b[0m\u001b[1;33m\u001b[0m\u001b[1;33m\u001b[0m\u001b[0m\n\u001b[0m\u001b[0;32m   6844\u001b[0m   \u001b[1;31m# pylint: enable=protected-access\u001b[0m\u001b[1;33m\u001b[0m\u001b[1;33m\u001b[0m\u001b[1;33m\u001b[0m\u001b[0m\n\u001b[0;32m   6845\u001b[0m \u001b[1;33m\u001b[0m\u001b[0m\n",
      "\u001b[1;32m~\\anaconda3\\envs\\tensorflow\\lib\\site-packages\\six.py\u001b[0m in \u001b[0;36mraise_from\u001b[1;34m(value, from_value)\u001b[0m\n",
      "\u001b[1;31mInvalidArgumentError\u001b[0m: indices[2] = [0,2900] is out of order. Many sparse ops require sorted indices.\n    Use `tf.sparse.reorder` to create a correctly ordered copy.\n\n [Op:SerializeManySparse]"
     ]
    }
   ],
   "source": [
    "model.fit(X_train_2, y_train_2, batch_size=90, epochs=1000, verbose=1)"
   ]
  },
  {
   "cell_type": "code",
   "execution_count": null,
   "metadata": {},
   "outputs": [],
   "source": []
  },
  {
   "cell_type": "code",
   "execution_count": 25,
   "metadata": {},
   "outputs": [],
   "source": [
    "from sklearn.neural_network import MLPClassifier \n",
    "from sklearn.metrics import classification_report, confusion_matrix "
   ]
  },
  {
   "cell_type": "code",
   "execution_count": 26,
   "metadata": {},
   "outputs": [
    {
     "data": {
      "text/plain": [
       "MLPClassifier(hidden_layer_sizes=(10, 10, 10), max_iter=1000)"
      ]
     },
     "execution_count": 26,
     "metadata": {},
     "output_type": "execute_result"
    }
   ],
   "source": [
    "mlp = MLPClassifier(hidden_layer_sizes=(10, 10, 10), max_iter=1000, random_state=0)  \n",
    "mlp.fit(X_train_2, y_train_2)"
   ]
  },
  {
   "cell_type": "code",
   "execution_count": 30,
   "metadata": {},
   "outputs": [
    {
     "name": "stdout",
     "output_type": "stream",
     "text": [
      "trainingset accuracy: 96.124\n",
      "testset accuracy: 86.085\n"
     ]
    }
   ],
   "source": [
    "prediction = mlp.predict(X_val_2)\n",
    "acc = accuracy_score(y_val_2, prediction)\n",
    "print('trainingset accuracy: {0:.3f}'.format(mlp.score(X_train_2, y_train_2) * 100))\n",
    "print('testset accuracy: {0:.3f}'.format(acc * 100))"
   ]
  },
  {
   "cell_type": "code",
   "execution_count": null,
   "metadata": {},
   "outputs": [],
   "source": []
  },
  {
   "cell_type": "code",
   "execution_count": 31,
   "metadata": {},
   "outputs": [
    {
     "data": {
      "text/plain": [
       "MLPClassifier(hidden_layer_sizes=(10, 10, 10), max_iter=10000, random_state=0)"
      ]
     },
     "execution_count": 31,
     "metadata": {},
     "output_type": "execute_result"
    }
   ],
   "source": [
    "mlp = MLPClassifier(hidden_layer_sizes=(10, 10, 10), max_iter=10000, random_state=0)  \n",
    "mlp.fit(X_train_2, y_train_2)"
   ]
  },
  {
   "cell_type": "code",
   "execution_count": 32,
   "metadata": {},
   "outputs": [
    {
     "name": "stdout",
     "output_type": "stream",
     "text": [
      "trainingset accuracy: 96.282\n",
      "testset accuracy: 87.069\n"
     ]
    }
   ],
   "source": [
    "prediction = mlp.predict(X_val_2)\n",
    "acc = accuracy_score(y_val_2, prediction)\n",
    "print('trainingset accuracy: {0:.3f}'.format(mlp.score(X_train_2, y_train_2) * 100))\n",
    "print('testset accuracy: {0:.3f}'.format(acc * 100))"
   ]
  },
  {
   "cell_type": "code",
   "execution_count": 37,
   "metadata": {},
   "outputs": [
    {
     "data": {
      "text/plain": [
       "MLPClassifier(max_iter=10000, random_state=0)"
      ]
     },
     "execution_count": 37,
     "metadata": {},
     "output_type": "execute_result"
    }
   ],
   "source": [
    "mlp = MLPClassifier(hidden_layer_sizes=(100, ), max_iter=10000, solver='adam', random_state=0)  \n",
    "mlp.fit(X_train_2, y_train_2)"
   ]
  },
  {
   "cell_type": "code",
   "execution_count": 38,
   "metadata": {},
   "outputs": [
    {
     "name": "stdout",
     "output_type": "stream",
     "text": [
      "trainingset accuracy: 96.249\n",
      "testset accuracy: 87.693\n"
     ]
    }
   ],
   "source": [
    "prediction = mlp.predict(X_val_2)\n",
    "acc = accuracy_score(y_val_2, prediction)\n",
    "print('trainingset accuracy: {0:.3f}'.format(mlp.score(X_train_2, y_train_2) * 100))\n",
    "print('testset accuracy: {0:.3f}'.format(acc * 100))"
   ]
  },
  {
   "cell_type": "code",
   "execution_count": null,
   "metadata": {},
   "outputs": [],
   "source": []
  },
  {
   "cell_type": "code",
   "execution_count": 39,
   "metadata": {},
   "outputs": [
    {
     "data": {
      "text/plain": [
       "MLPClassifier(hidden_layer_sizes=(10,), max_iter=10000, random_state=0)"
      ]
     },
     "execution_count": 39,
     "metadata": {},
     "output_type": "execute_result"
    }
   ],
   "source": [
    "mlp = MLPClassifier(hidden_layer_sizes=(10, ), max_iter=10000, random_state=0)  \n",
    "mlp.fit(X_train_2, y_train_2)"
   ]
  },
  {
   "cell_type": "code",
   "execution_count": 40,
   "metadata": {},
   "outputs": [
    {
     "name": "stdout",
     "output_type": "stream",
     "text": [
      "trainingset accuracy: 96.206\n",
      "testset accuracy: 86.438\n"
     ]
    }
   ],
   "source": [
    "prediction = mlp.predict(X_val_2)\n",
    "acc = accuracy_score(y_val_2, prediction)\n",
    "print('trainingset accuracy: {0:.3f}'.format(mlp.score(X_train_2, y_train_2) * 100))\n",
    "print('testset accuracy: {0:.3f}'.format(acc * 100))"
   ]
  },
  {
   "cell_type": "code",
   "execution_count": null,
   "metadata": {},
   "outputs": [],
   "source": [
    "mlp = MLPClassifier(hidden_layer_sizes=(100, ), max_iter=10000, random_state=0)  \n",
    "mlp.fit(X_train_2, y_train_2)"
   ]
  },
  {
   "cell_type": "code",
   "execution_count": null,
   "metadata": {},
   "outputs": [],
   "source": [
    "prediction = mlp.predict(X_val_2)\n",
    "acc = accuracy_score(y_val_2, prediction)\n",
    "print('trainingset accuracy: {0:.3f}'.format(mlp.score(X_train_2, y_train_2) * 100))\n",
    "print('testset accuracy: {0:.3f}'.format(acc * 100))"
   ]
  },
  {
   "cell_type": "code",
   "execution_count": null,
   "metadata": {},
   "outputs": [],
   "source": [
    "mlp = MLPClassifier()\n",
    "params = {\n",
    "    'hidden_layer_sizes': [(10,30,10), (100,)],\n",
    "    'activation': ['tanh', 'relu'],\n",
    "    'solver': ['sgd', 'adam'],\n",
    "    'alpha': [0.0001, 0.01],\n",
    "    'max_iter': [1000, 10000]\n",
    "}\n",
    "\n",
    "grid_cv = GridSearchCV(mlp, param_grid=params, n_jobs=-1, cv=5)\n",
    "grid_cv.fit(X_train_2, y_train_2) \n",
    "\n",
    "print('최적 하이퍼 파라미터: ', grid_cv.best_params_)\n",
    "print('최고 예측 정확도: {:.3f}'.format(grid_cv.best_score_ * 100))"
   ]
  },
  {
   "cell_type": "code",
   "execution_count": 43,
   "metadata": {},
   "outputs": [
    {
     "name": "stdout",
     "output_type": "stream",
     "text": [
      "최적 하이퍼 파라미터:  {'activation': 'tanh', 'alpha': 0.01, 'hidden_layer_sizes': (100,), 'max_iter': 1000, 'solver': 'sgd'}\n",
      "최고 예측 정확도: 88.455\n"
     ]
    }
   ],
   "source": [
    "mlp = MLPClassifier()\n",
    "params = {\n",
    "    'hidden_layer_sizes': [(100,)],\n",
    "    'activation': ['tanh'],\n",
    "    'solver': ['sgd'],\n",
    "    'alpha': [0.0001, 0.01],\n",
    "    'max_iter': [1000]\n",
    "}\n",
    "\n",
    "grid_cv = GridSearchCV(mlp, param_grid=params, n_jobs=-1, cv=5)\n",
    "grid_cv.fit(X_train_2, y_train_2) \n",
    "\n",
    "print('최적 하이퍼 파라미터: ', grid_cv.best_params_)\n",
    "print('최고 예측 정확도: {:.3f}'.format(grid_cv.best_score_ * 100))"
   ]
  },
  {
   "cell_type": "code",
   "execution_count": null,
   "metadata": {},
   "outputs": [],
   "source": []
  },
  {
   "cell_type": "code",
   "execution_count": 44,
   "metadata": {},
   "outputs": [
    {
     "name": "stdout",
     "output_type": "stream",
     "text": [
      "trainingset accuracy: 90.347\n",
      "testset accuracy: 88.844\n"
     ]
    }
   ],
   "source": [
    "mlp = MLPClassifier(hidden_layer_sizes=(100, ),\n",
    "                    activation='tanh',\n",
    "                    solver='sgd',\n",
    "                    alpha=0.01,\n",
    "                    max_iter=1000, \n",
    "                    random_state=0) \n",
    "# Training\n",
    "mlp.fit(X_train_2, y_train_2)\n",
    "\n",
    "#Evaluation\n",
    "prediction = mlp.predict(X_val_2)\n",
    "acc = accuracy_score(y_val_2, prediction)\n",
    "\n",
    "#Result\n",
    "print('trainingset accuracy: {0:.3f}'.format(mlp.score(X_train_2, y_train_2) * 100))\n",
    "print('testset accuracy: {0:.3f}'.format(acc * 100))"
   ]
  },
  {
   "cell_type": "code",
   "execution_count": null,
   "metadata": {},
   "outputs": [],
   "source": []
  },
  {
   "cell_type": "code",
   "execution_count": null,
   "metadata": {},
   "outputs": [],
   "source": []
  },
  {
   "cell_type": "code",
   "execution_count": null,
   "metadata": {},
   "outputs": [],
   "source": []
  },
  {
   "cell_type": "code",
   "execution_count": null,
   "metadata": {},
   "outputs": [],
   "source": []
  },
  {
   "cell_type": "code",
   "execution_count": null,
   "metadata": {},
   "outputs": [],
   "source": []
  },
  {
   "cell_type": "markdown",
   "metadata": {},
   "source": [
    "# word2vec"
   ]
  },
  {
   "cell_type": "code",
   "execution_count": 244,
   "metadata": {},
   "outputs": [],
   "source": [
    "data = pd.read_excel(\"tokenization.xlsx\", index_col = 0)\n",
    "text = data['Hannanum'].copy()"
   ]
  },
  {
   "cell_type": "code",
   "execution_count": 246,
   "metadata": {},
   "outputs": [],
   "source": [
    "texts = list(text)\n",
    "textWord2v = []\n",
    "for t in texts:\n",
    "    textWord2v.append(str(t).split())"
   ]
  },
  {
   "cell_type": "code",
   "execution_count": 251,
   "metadata": {},
   "outputs": [],
   "source": [
    "from gensim.models import word2vec\n",
    "import logging"
   ]
  },
  {
   "cell_type": "code",
   "execution_count": 261,
   "metadata": {},
   "outputs": [],
   "source": [
    "# 학습 진행 상황 확인\n",
    "logging.basicConfig(format = '%(asctime)s : %(levelname)s : %(message)s', level = logging.INFO)"
   ]
  },
  {
   "cell_type": "code",
   "execution_count": 262,
   "metadata": {},
   "outputs": [
    {
     "name": "stderr",
     "output_type": "stream",
     "text": [
      "2020-11-20 16:08:46,822 : WARNING : consider setting layer size to a multiple of 4 for greater performance\n",
      "2020-11-20 16:08:46,824 : INFO : collecting all words and their counts\n",
      "2020-11-20 16:08:46,826 : INFO : PROGRESS: at sentence #0, processed 0 words, keeping 0 word types\n"
     ]
    },
    {
     "name": "stdout",
     "output_type": "stream",
     "text": [
      "Training model\n"
     ]
    },
    {
     "name": "stderr",
     "output_type": "stream",
     "text": [
      "2020-11-20 16:08:47,187 : INFO : PROGRESS: at sentence #10000, processed 1576086 words, keeping 65443 word types\n",
      "2020-11-20 16:08:47,479 : INFO : PROGRESS: at sentence #20000, processed 2843452 words, keeping 98237 word types\n",
      "2020-11-20 16:08:47,962 : INFO : PROGRESS: at sentence #30000, processed 4654415 words, keeping 144571 word types\n",
      "2020-11-20 16:08:48,477 : INFO : PROGRESS: at sentence #40000, processed 6353145 words, keeping 178773 word types\n",
      "2020-11-20 16:08:48,879 : INFO : PROGRESS: at sentence #50000, processed 7750380 words, keeping 239577 word types\n",
      "2020-11-20 16:08:49,340 : INFO : PROGRESS: at sentence #60000, processed 9454305 words, keeping 248455 word types\n",
      "2020-11-20 16:08:49,841 : INFO : PROGRESS: at sentence #70000, processed 11332681 words, keeping 259861 word types\n",
      "2020-11-20 16:08:50,436 : INFO : PROGRESS: at sentence #80000, processed 13345317 words, keeping 301173 word types\n",
      "2020-11-20 16:08:50,918 : INFO : PROGRESS: at sentence #90000, processed 15179724 words, keeping 345169 word types\n",
      "2020-11-20 16:08:50,924 : INFO : collected 345274 word types from a corpus of 15196282 raw words and 90141 sentences\n",
      "2020-11-20 16:08:50,925 : INFO : Loading a fresh vocabulary\n",
      "2020-11-20 16:08:51,180 : INFO : effective_min_count=40 retains 22172 unique words (6% of original 345274, drops 323102)\n",
      "2020-11-20 16:08:51,181 : INFO : effective_min_count=40 leaves 13771382 word corpus (90% of original 15196282, drops 1424900)\n",
      "2020-11-20 16:08:51,338 : INFO : deleting the raw counts dictionary of 345274 items\n",
      "2020-11-20 16:08:51,351 : INFO : sample=0.001 downsamples 35 most-common words\n",
      "2020-11-20 16:08:51,352 : INFO : downsampling leaves estimated 12680750 word corpus (92.1% of prior 13771382)\n",
      "2020-11-20 16:08:51,472 : INFO : estimated required memory for 22172 words and 350 dimensions: 73167600 bytes\n",
      "2020-11-20 16:08:51,473 : INFO : resetting layer weights\n",
      "2020-11-20 16:08:58,422 : INFO : training model with 4 workers on 22172 vocabulary and 350 features, using sg=0 hs=0 sample=0.001 negative=5 window=10\n",
      "2020-11-20 16:08:59,431 : INFO : EPOCH 1 - PROGRESS: at 3.97% examples, 521610 words/s, in_qsize 8, out_qsize 0\n",
      "2020-11-20 16:09:00,432 : INFO : EPOCH 1 - PROGRESS: at 8.46% examples, 507793 words/s, in_qsize 8, out_qsize 0\n",
      "2020-11-20 16:09:01,445 : INFO : EPOCH 1 - PROGRESS: at 12.58% examples, 495605 words/s, in_qsize 7, out_qsize 0\n",
      "2020-11-20 16:09:02,446 : INFO : EPOCH 1 - PROGRESS: at 17.82% examples, 489235 words/s, in_qsize 6, out_qsize 1\n",
      "2020-11-20 16:09:03,456 : INFO : EPOCH 1 - PROGRESS: at 22.93% examples, 487110 words/s, in_qsize 7, out_qsize 0\n",
      "2020-11-20 16:09:04,476 : INFO : EPOCH 1 - PROGRESS: at 27.18% examples, 489045 words/s, in_qsize 6, out_qsize 1\n",
      "2020-11-20 16:09:05,483 : INFO : EPOCH 1 - PROGRESS: at 30.25% examples, 491061 words/s, in_qsize 7, out_qsize 0\n",
      "2020-11-20 16:09:06,485 : INFO : EPOCH 1 - PROGRESS: at 33.67% examples, 494251 words/s, in_qsize 8, out_qsize 0\n",
      "2020-11-20 16:09:07,486 : INFO : EPOCH 1 - PROGRESS: at 37.78% examples, 499142 words/s, in_qsize 7, out_qsize 0\n",
      "2020-11-20 16:09:08,497 : INFO : EPOCH 1 - PROGRESS: at 41.86% examples, 503606 words/s, in_qsize 7, out_qsize 0\n",
      "2020-11-20 16:09:09,540 : INFO : EPOCH 1 - PROGRESS: at 45.06% examples, 491995 words/s, in_qsize 7, out_qsize 0\n",
      "2020-11-20 16:09:10,543 : INFO : EPOCH 1 - PROGRESS: at 48.26% examples, 479163 words/s, in_qsize 8, out_qsize 0\n",
      "2020-11-20 16:09:11,569 : INFO : EPOCH 1 - PROGRESS: at 53.13% examples, 476999 words/s, in_qsize 6, out_qsize 1\n",
      "2020-11-20 16:09:12,572 : INFO : EPOCH 1 - PROGRESS: at 57.45% examples, 474738 words/s, in_qsize 8, out_qsize 1\n",
      "2020-11-20 16:09:13,586 : INFO : EPOCH 1 - PROGRESS: at 60.17% examples, 467908 words/s, in_qsize 8, out_qsize 0\n",
      "2020-11-20 16:09:14,627 : INFO : EPOCH 1 - PROGRESS: at 63.90% examples, 463147 words/s, in_qsize 6, out_qsize 1\n",
      "2020-11-20 16:09:15,638 : INFO : EPOCH 1 - PROGRESS: at 66.90% examples, 461829 words/s, in_qsize 7, out_qsize 0\n",
      "2020-11-20 16:09:16,659 : INFO : EPOCH 1 - PROGRESS: at 70.69% examples, 461719 words/s, in_qsize 7, out_qsize 0\n",
      "2020-11-20 16:09:17,659 : INFO : EPOCH 1 - PROGRESS: at 73.68% examples, 460405 words/s, in_qsize 7, out_qsize 0\n",
      "2020-11-20 16:09:18,681 : INFO : EPOCH 1 - PROGRESS: at 76.37% examples, 459747 words/s, in_qsize 7, out_qsize 0\n",
      "2020-11-20 16:09:19,699 : INFO : EPOCH 1 - PROGRESS: at 79.38% examples, 458906 words/s, in_qsize 7, out_qsize 0\n",
      "2020-11-20 16:09:20,714 : INFO : EPOCH 1 - PROGRESS: at 82.73% examples, 458273 words/s, in_qsize 8, out_qsize 0\n",
      "2020-11-20 16:09:21,723 : INFO : EPOCH 1 - PROGRESS: at 85.64% examples, 459381 words/s, in_qsize 7, out_qsize 0\n",
      "2020-11-20 16:09:22,733 : INFO : EPOCH 1 - PROGRESS: at 88.39% examples, 458117 words/s, in_qsize 7, out_qsize 0\n",
      "2020-11-20 16:09:23,737 : INFO : EPOCH 1 - PROGRESS: at 91.95% examples, 459549 words/s, in_qsize 8, out_qsize 0\n",
      "2020-11-20 16:09:24,747 : INFO : EPOCH 1 - PROGRESS: at 95.50% examples, 459519 words/s, in_qsize 7, out_qsize 0\n",
      "2020-11-20 16:09:25,765 : INFO : EPOCH 1 - PROGRESS: at 99.39% examples, 461048 words/s, in_qsize 5, out_qsize 2\n",
      "2020-11-20 16:09:25,839 : INFO : worker thread finished; awaiting finish of 3 more threads\n",
      "2020-11-20 16:09:25,871 : INFO : worker thread finished; awaiting finish of 2 more threads\n",
      "2020-11-20 16:09:25,887 : INFO : worker thread finished; awaiting finish of 1 more threads\n",
      "2020-11-20 16:09:25,890 : INFO : worker thread finished; awaiting finish of 0 more threads\n",
      "2020-11-20 16:09:25,893 : INFO : EPOCH - 1 : training on 15196282 raw words (12679952 effective words) took 27.5s, 461695 effective words/s\n",
      "2020-11-20 16:09:26,900 : INFO : EPOCH 2 - PROGRESS: at 3.89% examples, 513178 words/s, in_qsize 7, out_qsize 0\n",
      "2020-11-20 16:09:27,905 : INFO : EPOCH 2 - PROGRESS: at 8.36% examples, 502992 words/s, in_qsize 7, out_qsize 0\n",
      "2020-11-20 16:09:28,920 : INFO : EPOCH 2 - PROGRESS: at 12.18% examples, 481054 words/s, in_qsize 7, out_qsize 0\n",
      "2020-11-20 16:09:29,933 : INFO : EPOCH 2 - PROGRESS: at 16.24% examples, 456785 words/s, in_qsize 7, out_qsize 0\n",
      "2020-11-20 16:09:30,965 : INFO : EPOCH 2 - PROGRESS: at 21.35% examples, 454119 words/s, in_qsize 7, out_qsize 0\n",
      "2020-11-20 16:09:31,978 : INFO : EPOCH 2 - PROGRESS: at 26.11% examples, 458887 words/s, in_qsize 7, out_qsize 0\n",
      "2020-11-20 16:09:32,994 : INFO : EPOCH 2 - PROGRESS: at 29.29% examples, 465495 words/s, in_qsize 8, out_qsize 0\n",
      "2020-11-20 16:09:34,016 : INFO : EPOCH 2 - PROGRESS: at 32.40% examples, 467576 words/s, in_qsize 8, out_qsize 0\n",
      "2020-11-20 16:09:35,043 : INFO : EPOCH 2 - PROGRESS: at 35.72% examples, 466117 words/s, in_qsize 7, out_qsize 0\n",
      "2020-11-20 16:09:36,061 : INFO : EPOCH 2 - PROGRESS: at 39.67% examples, 469881 words/s, in_qsize 7, out_qsize 0\n",
      "2020-11-20 16:09:37,073 : INFO : EPOCH 2 - PROGRESS: at 43.39% examples, 471425 words/s, in_qsize 7, out_qsize 0\n",
      "2020-11-20 16:09:38,076 : INFO : EPOCH 2 - PROGRESS: at 47.56% examples, 471656 words/s, in_qsize 7, out_qsize 0\n",
      "2020-11-20 16:09:39,078 : INFO : EPOCH 2 - PROGRESS: at 51.06% examples, 458295 words/s, in_qsize 7, out_qsize 0\n",
      "2020-11-20 16:09:40,080 : INFO : EPOCH 2 - PROGRESS: at 56.00% examples, 457919 words/s, in_qsize 7, out_qsize 0\n",
      "2020-11-20 16:09:41,107 : INFO : EPOCH 2 - PROGRESS: at 59.21% examples, 458251 words/s, in_qsize 7, out_qsize 0\n",
      "2020-11-20 16:09:42,141 : INFO : EPOCH 2 - PROGRESS: at 62.37% examples, 453929 words/s, in_qsize 7, out_qsize 0\n",
      "2020-11-20 16:09:43,149 : INFO : EPOCH 2 - PROGRESS: at 65.86% examples, 452370 words/s, in_qsize 7, out_qsize 0\n",
      "2020-11-20 16:09:44,166 : INFO : EPOCH 2 - PROGRESS: at 69.69% examples, 455023 words/s, in_qsize 8, out_qsize 0\n",
      "2020-11-20 16:09:45,170 : INFO : EPOCH 2 - PROGRESS: at 73.25% examples, 455462 words/s, in_qsize 7, out_qsize 0\n",
      "2020-11-20 16:09:46,186 : INFO : EPOCH 2 - PROGRESS: at 75.94% examples, 455639 words/s, in_qsize 8, out_qsize 0\n",
      "2020-11-20 16:09:47,209 : INFO : EPOCH 2 - PROGRESS: at 79.44% examples, 458442 words/s, in_qsize 7, out_qsize 0\n",
      "2020-11-20 16:09:48,248 : INFO : EPOCH 2 - PROGRESS: at 83.17% examples, 460311 words/s, in_qsize 6, out_qsize 1\n",
      "2020-11-20 16:09:49,280 : INFO : EPOCH 2 - PROGRESS: at 86.23% examples, 461998 words/s, in_qsize 8, out_qsize 0\n",
      "2020-11-20 16:09:50,286 : INFO : EPOCH 2 - PROGRESS: at 89.79% examples, 464702 words/s, in_qsize 7, out_qsize 0\n"
     ]
    },
    {
     "name": "stderr",
     "output_type": "stream",
     "text": [
      "2020-11-20 16:09:51,297 : INFO : EPOCH 2 - PROGRESS: at 93.57% examples, 466581 words/s, in_qsize 8, out_qsize 1\n",
      "2020-11-20 16:09:52,302 : INFO : EPOCH 2 - PROGRESS: at 98.03% examples, 468673 words/s, in_qsize 7, out_qsize 0\n",
      "2020-11-20 16:09:52,848 : INFO : worker thread finished; awaiting finish of 3 more threads\n",
      "2020-11-20 16:09:52,865 : INFO : worker thread finished; awaiting finish of 2 more threads\n",
      "2020-11-20 16:09:52,887 : INFO : worker thread finished; awaiting finish of 1 more threads\n",
      "2020-11-20 16:09:52,889 : INFO : worker thread finished; awaiting finish of 0 more threads\n",
      "2020-11-20 16:09:52,890 : INFO : EPOCH - 2 : training on 15196282 raw words (12680483 effective words) took 27.0s, 469798 effective words/s\n",
      "2020-11-20 16:09:53,907 : INFO : EPOCH 3 - PROGRESS: at 3.24% examples, 443297 words/s, in_qsize 7, out_qsize 0\n",
      "2020-11-20 16:09:54,913 : INFO : EPOCH 3 - PROGRESS: at 7.17% examples, 446402 words/s, in_qsize 8, out_qsize 0\n",
      "2020-11-20 16:09:55,921 : INFO : EPOCH 3 - PROGRESS: at 11.69% examples, 461308 words/s, in_qsize 6, out_qsize 1\n",
      "2020-11-20 16:09:56,923 : INFO : EPOCH 3 - PROGRESS: at 17.38% examples, 480230 words/s, in_qsize 8, out_qsize 0\n",
      "2020-11-20 16:09:57,925 : INFO : EPOCH 3 - PROGRESS: at 22.83% examples, 485366 words/s, in_qsize 8, out_qsize 0\n",
      "2020-11-20 16:09:58,943 : INFO : EPOCH 3 - PROGRESS: at 26.93% examples, 482482 words/s, in_qsize 7, out_qsize 0\n",
      "2020-11-20 16:09:59,944 : INFO : EPOCH 3 - PROGRESS: at 29.48% examples, 473420 words/s, in_qsize 7, out_qsize 0\n",
      "2020-11-20 16:10:00,966 : INFO : EPOCH 3 - PROGRESS: at 31.85% examples, 459752 words/s, in_qsize 8, out_qsize 0\n",
      "2020-11-20 16:10:01,986 : INFO : EPOCH 3 - PROGRESS: at 34.34% examples, 448331 words/s, in_qsize 8, out_qsize 0\n",
      "2020-11-20 16:10:02,991 : INFO : EPOCH 3 - PROGRESS: at 36.97% examples, 439163 words/s, in_qsize 7, out_qsize 0\n",
      "2020-11-20 16:10:04,024 : INFO : EPOCH 3 - PROGRESS: at 40.16% examples, 435374 words/s, in_qsize 7, out_qsize 0\n",
      "2020-11-20 16:10:05,025 : INFO : EPOCH 3 - PROGRESS: at 43.46% examples, 434989 words/s, in_qsize 7, out_qsize 0\n",
      "2020-11-20 16:10:06,040 : INFO : EPOCH 3 - PROGRESS: at 47.56% examples, 437045 words/s, in_qsize 8, out_qsize 0\n",
      "2020-11-20 16:10:07,063 : INFO : EPOCH 3 - PROGRESS: at 52.83% examples, 439946 words/s, in_qsize 7, out_qsize 0\n",
      "2020-11-20 16:10:08,098 : INFO : EPOCH 3 - PROGRESS: at 57.40% examples, 441170 words/s, in_qsize 8, out_qsize 1\n",
      "2020-11-20 16:10:09,106 : INFO : EPOCH 3 - PROGRESS: at 60.64% examples, 441861 words/s, in_qsize 7, out_qsize 0\n",
      "2020-11-20 16:10:10,114 : INFO : EPOCH 3 - PROGRESS: at 64.63% examples, 442011 words/s, in_qsize 8, out_qsize 0\n",
      "2020-11-20 16:10:11,114 : INFO : EPOCH 3 - PROGRESS: at 68.24% examples, 445919 words/s, in_qsize 8, out_qsize 0\n",
      "2020-11-20 16:10:12,158 : INFO : EPOCH 3 - PROGRESS: at 72.62% examples, 449134 words/s, in_qsize 7, out_qsize 0\n",
      "2020-11-20 16:10:13,229 : INFO : EPOCH 3 - PROGRESS: at 75.27% examples, 449269 words/s, in_qsize 8, out_qsize 2\n",
      "2020-11-20 16:10:14,232 : INFO : EPOCH 3 - PROGRESS: at 78.85% examples, 454075 words/s, in_qsize 8, out_qsize 0\n",
      "2020-11-20 16:10:15,236 : INFO : EPOCH 3 - PROGRESS: at 82.78% examples, 457579 words/s, in_qsize 7, out_qsize 0\n",
      "2020-11-20 16:10:16,239 : INFO : EPOCH 3 - PROGRESS: at 85.90% examples, 460291 words/s, in_qsize 7, out_qsize 0\n",
      "2020-11-20 16:10:17,242 : INFO : EPOCH 3 - PROGRESS: at 89.04% examples, 461250 words/s, in_qsize 7, out_qsize 0\n",
      "2020-11-20 16:10:18,250 : INFO : EPOCH 3 - PROGRESS: at 92.63% examples, 462252 words/s, in_qsize 7, out_qsize 0\n",
      "2020-11-20 16:10:19,274 : INFO : EPOCH 3 - PROGRESS: at 96.59% examples, 462975 words/s, in_qsize 8, out_qsize 1\n",
      "2020-11-20 16:10:20,119 : INFO : worker thread finished; awaiting finish of 3 more threads\n",
      "2020-11-20 16:10:20,123 : INFO : worker thread finished; awaiting finish of 2 more threads\n",
      "2020-11-20 16:10:20,155 : INFO : worker thread finished; awaiting finish of 1 more threads\n",
      "2020-11-20 16:10:20,162 : INFO : worker thread finished; awaiting finish of 0 more threads\n",
      "2020-11-20 16:10:20,163 : INFO : EPOCH - 3 : training on 15196282 raw words (12681349 effective words) took 27.3s, 465081 effective words/s\n",
      "2020-11-20 16:10:21,181 : INFO : EPOCH 4 - PROGRESS: at 3.89% examples, 507939 words/s, in_qsize 7, out_qsize 0\n",
      "2020-11-20 16:10:22,187 : INFO : EPOCH 4 - PROGRESS: at 8.78% examples, 519949 words/s, in_qsize 8, out_qsize 0\n",
      "2020-11-20 16:10:23,188 : INFO : EPOCH 4 - PROGRESS: at 13.44% examples, 525399 words/s, in_qsize 7, out_qsize 0\n",
      "2020-11-20 16:10:24,197 : INFO : EPOCH 4 - PROGRESS: at 19.53% examples, 522471 words/s, in_qsize 7, out_qsize 0\n",
      "2020-11-20 16:10:25,205 : INFO : EPOCH 4 - PROGRESS: at 25.10% examples, 522004 words/s, in_qsize 8, out_qsize 1\n",
      "2020-11-20 16:10:26,209 : INFO : EPOCH 4 - PROGRESS: at 28.32% examples, 521881 words/s, in_qsize 8, out_qsize 0\n",
      "2020-11-20 16:10:27,210 : INFO : EPOCH 4 - PROGRESS: at 31.55% examples, 520939 words/s, in_qsize 7, out_qsize 0\n",
      "2020-11-20 16:10:28,218 : INFO : EPOCH 4 - PROGRESS: at 35.23% examples, 521042 words/s, in_qsize 7, out_qsize 0\n",
      "2020-11-20 16:10:29,224 : INFO : EPOCH 4 - PROGRESS: at 39.35% examples, 522608 words/s, in_qsize 7, out_qsize 0\n",
      "2020-11-20 16:10:30,251 : INFO : EPOCH 4 - PROGRESS: at 43.46% examples, 523378 words/s, in_qsize 7, out_qsize 0\n",
      "2020-11-20 16:10:31,263 : INFO : EPOCH 4 - PROGRESS: at 48.17% examples, 522675 words/s, in_qsize 7, out_qsize 0\n",
      "2020-11-20 16:10:32,274 : INFO : EPOCH 4 - PROGRESS: at 53.55% examples, 521020 words/s, in_qsize 7, out_qsize 0\n",
      "2020-11-20 16:10:33,292 : INFO : EPOCH 4 - PROGRESS: at 57.91% examples, 517575 words/s, in_qsize 7, out_qsize 0\n",
      "2020-11-20 16:10:34,311 : INFO : EPOCH 4 - PROGRESS: at 61.51% examples, 514418 words/s, in_qsize 7, out_qsize 0\n",
      "2020-11-20 16:10:35,325 : INFO : EPOCH 4 - PROGRESS: at 65.73% examples, 513276 words/s, in_qsize 7, out_qsize 0\n",
      "2020-11-20 16:10:36,348 : INFO : EPOCH 4 - PROGRESS: at 69.56% examples, 512823 words/s, in_qsize 8, out_qsize 0\n",
      "2020-11-20 16:10:37,360 : INFO : EPOCH 4 - PROGRESS: at 73.39% examples, 512166 words/s, in_qsize 8, out_qsize 0\n",
      "2020-11-20 16:10:38,362 : INFO : EPOCH 4 - PROGRESS: at 76.37% examples, 511873 words/s, in_qsize 7, out_qsize 0\n",
      "2020-11-20 16:10:39,370 : INFO : EPOCH 4 - PROGRESS: at 79.78% examples, 511454 words/s, in_qsize 7, out_qsize 0\n",
      "2020-11-20 16:10:40,382 : INFO : EPOCH 4 - PROGRESS: at 83.33% examples, 510261 words/s, in_qsize 8, out_qsize 0\n",
      "2020-11-20 16:10:41,386 : INFO : EPOCH 4 - PROGRESS: at 86.39% examples, 510333 words/s, in_qsize 8, out_qsize 0\n",
      "2020-11-20 16:10:42,406 : INFO : EPOCH 4 - PROGRESS: at 90.04% examples, 511227 words/s, in_qsize 7, out_qsize 0\n",
      "2020-11-20 16:10:43,410 : INFO : EPOCH 4 - PROGRESS: at 93.57% examples, 509939 words/s, in_qsize 7, out_qsize 0\n",
      "2020-11-20 16:10:44,415 : INFO : EPOCH 4 - PROGRESS: at 97.95% examples, 509734 words/s, in_qsize 7, out_qsize 0\n",
      "2020-11-20 16:10:45,004 : INFO : worker thread finished; awaiting finish of 3 more threads\n",
      "2020-11-20 16:10:45,010 : INFO : worker thread finished; awaiting finish of 2 more threads\n",
      "2020-11-20 16:10:45,032 : INFO : worker thread finished; awaiting finish of 1 more threads\n",
      "2020-11-20 16:10:45,036 : INFO : worker thread finished; awaiting finish of 0 more threads\n",
      "2020-11-20 16:10:45,038 : INFO : EPOCH - 4 : training on 15196282 raw words (12682107 effective words) took 24.9s, 509928 effective words/s\n",
      "2020-11-20 16:10:46,050 : INFO : EPOCH 5 - PROGRESS: at 3.81% examples, 503606 words/s, in_qsize 7, out_qsize 0\n",
      "2020-11-20 16:10:47,065 : INFO : EPOCH 5 - PROGRESS: at 8.78% examples, 519717 words/s, in_qsize 7, out_qsize 0\n",
      "2020-11-20 16:10:48,069 : INFO : EPOCH 5 - PROGRESS: at 13.36% examples, 521735 words/s, in_qsize 7, out_qsize 0\n",
      "2020-11-20 16:10:49,071 : INFO : EPOCH 5 - PROGRESS: at 19.33% examples, 516684 words/s, in_qsize 7, out_qsize 0\n",
      "2020-11-20 16:10:50,076 : INFO : EPOCH 5 - PROGRESS: at 23.75% examples, 499714 words/s, in_qsize 7, out_qsize 0\n",
      "2020-11-20 16:10:51,102 : INFO : EPOCH 5 - PROGRESS: at 27.37% examples, 493779 words/s, in_qsize 7, out_qsize 0\n",
      "2020-11-20 16:10:52,114 : INFO : EPOCH 5 - PROGRESS: at 30.58% examples, 497120 words/s, in_qsize 7, out_qsize 0\n",
      "2020-11-20 16:10:53,126 : INFO : EPOCH 5 - PROGRESS: at 34.04% examples, 499053 words/s, in_qsize 7, out_qsize 0\n"
     ]
    },
    {
     "name": "stderr",
     "output_type": "stream",
     "text": [
      "2020-11-20 16:10:54,170 : INFO : EPOCH 5 - PROGRESS: at 37.91% examples, 497349 words/s, in_qsize 7, out_qsize 0\n",
      "2020-11-20 16:10:55,177 : INFO : EPOCH 5 - PROGRESS: at 41.26% examples, 492072 words/s, in_qsize 7, out_qsize 0\n",
      "2020-11-20 16:10:56,198 : INFO : EPOCH 5 - PROGRESS: at 45.53% examples, 495080 words/s, in_qsize 8, out_qsize 0\n",
      "2020-11-20 16:10:57,224 : INFO : EPOCH 5 - PROGRESS: at 50.75% examples, 493296 words/s, in_qsize 6, out_qsize 1\n",
      "2020-11-20 16:10:58,232 : INFO : EPOCH 5 - PROGRESS: at 56.14% examples, 493687 words/s, in_qsize 8, out_qsize 0\n",
      "2020-11-20 16:10:59,237 : INFO : EPOCH 5 - PROGRESS: at 59.72% examples, 495957 words/s, in_qsize 7, out_qsize 0\n",
      "2020-11-20 16:11:00,268 : INFO : EPOCH 5 - PROGRESS: at 64.40% examples, 497234 words/s, in_qsize 8, out_qsize 0\n",
      "2020-11-20 16:11:01,296 : INFO : EPOCH 5 - PROGRESS: at 68.18% examples, 499293 words/s, in_qsize 7, out_qsize 0\n",
      "2020-11-20 16:11:02,318 : INFO : EPOCH 5 - PROGRESS: at 72.49% examples, 499297 words/s, in_qsize 8, out_qsize 0\n",
      "2020-11-20 16:11:03,339 : INFO : EPOCH 5 - PROGRESS: at 75.43% examples, 500694 words/s, in_qsize 8, out_qsize 1\n",
      "2020-11-20 16:11:04,347 : INFO : EPOCH 5 - PROGRESS: at 78.91% examples, 502278 words/s, in_qsize 7, out_qsize 0\n",
      "2020-11-20 16:11:05,359 : INFO : EPOCH 5 - PROGRESS: at 82.47% examples, 500263 words/s, in_qsize 7, out_qsize 1\n",
      "2020-11-20 16:11:06,382 : INFO : EPOCH 5 - PROGRESS: at 85.34% examples, 499202 words/s, in_qsize 8, out_qsize 1\n",
      "2020-11-20 16:11:07,389 : INFO : EPOCH 5 - PROGRESS: at 88.79% examples, 500988 words/s, in_qsize 7, out_qsize 0\n",
      "2020-11-20 16:11:08,421 : INFO : EPOCH 5 - PROGRESS: at 92.80% examples, 502294 words/s, in_qsize 7, out_qsize 0\n",
      "2020-11-20 16:11:09,431 : INFO : EPOCH 5 - PROGRESS: at 97.02% examples, 502469 words/s, in_qsize 8, out_qsize 1\n",
      "2020-11-20 16:11:10,195 : INFO : worker thread finished; awaiting finish of 3 more threads\n",
      "2020-11-20 16:11:10,198 : INFO : worker thread finished; awaiting finish of 2 more threads\n",
      "2020-11-20 16:11:10,202 : INFO : worker thread finished; awaiting finish of 1 more threads\n",
      "2020-11-20 16:11:10,214 : INFO : worker thread finished; awaiting finish of 0 more threads\n",
      "2020-11-20 16:11:10,215 : INFO : EPOCH - 5 : training on 15196282 raw words (12680186 effective words) took 25.2s, 503760 effective words/s\n",
      "2020-11-20 16:11:10,216 : INFO : training on a 75981410 raw words (63404077 effective words) took 131.8s, 481093 effective words/s\n"
     ]
    }
   ],
   "source": [
    "print(\"Training model\")\n",
    "model = word2vec.Word2Vec(textWord2v, workers = 4, size = 350, min_count = 40, window = 10, sample = 1e-3)"
   ]
  },
  {
   "cell_type": "code",
   "execution_count": 263,
   "metadata": {},
   "outputs": [
    {
     "name": "stdout",
     "output_type": "stream",
     "text": [
      "(22172, 350)\n"
     ]
    }
   ],
   "source": [
    "print(model.wv.vectors.shape)"
   ]
  },
  {
   "cell_type": "code",
   "execution_count": 264,
   "metadata": {},
   "outputs": [],
   "source": [
    "def GetFeatures(words, model, num_features):\n",
    "    # 출력 벡터 초기화\n",
    "    feature_vector = np.zeros((num_features), dtype = np.float32)\n",
    "    \n",
    "    num_words = 0\n",
    "    #어휘사전 준비\n",
    "    index2word_set = set(model.wv.index2word)\n",
    "    \n",
    "    for word in words:\n",
    "        if word in index2word_set:\n",
    "            num_words += 1\n",
    "            # 사전에 해당하는 단어에 대해 단어 벡터 더함\n",
    "            featrue_vector = np.add(feature_vector, model[word])\n",
    "    \n",
    "    # 문장의 단어 수만큼 나누어 단어 벡터의 평균값을 문장 벡터로 함\n",
    "    feature_vector = np.divide(feature_vector, num_words)\n",
    "    return feature_vector"
   ]
  },
  {
   "cell_type": "code",
   "execution_count": 265,
   "metadata": {},
   "outputs": [],
   "source": [
    "def GetDataset(texts, model, num_features):\n",
    "    dataset = list()\n",
    "    \n",
    "    for text in texts:\n",
    "        dataset.append(GetFeatures(text, model, num_features))\n",
    "    \n",
    "    reviewFeatureVecs = np.stack(dataset)\n",
    "    \n",
    "    return reviewFeatureVecs"
   ]
  },
  {
   "cell_type": "code",
   "execution_count": 266,
   "metadata": {},
   "outputs": [
    {
     "name": "stderr",
     "output_type": "stream",
     "text": [
      "C:\\Users\\tjswn\\anaconda3\\envs\\tensorflow\\lib\\site-packages\\ipykernel_launcher.py:13: DeprecationWarning: Call to deprecated `__getitem__` (Method will be removed in 4.0.0, use self.wv.__getitem__() instead).\n",
      "  del sys.path[0]\n",
      "C:\\Users\\tjswn\\anaconda3\\envs\\tensorflow\\lib\\site-packages\\ipykernel_launcher.py:16: RuntimeWarning: invalid value encountered in true_divide\n",
      "  app.launch_new_instance()\n"
     ]
    }
   ],
   "source": [
    "test_data_vecs = GetDataset(textWord2v ,model, 350)"
   ]
  },
  {
   "cell_type": "code",
   "execution_count": 267,
   "metadata": {},
   "outputs": [],
   "source": [
    "X = test_data_vecs\n",
    "y = np.array(sentences)\n",
    "\n",
    "RANDOM_SEED = 42\n",
    "TEST_SPLIT = 0.2\n",
    "\n",
    "X_train4, X_test4, y_train4, y_test4 = train_test_split(X, y, test_size = TEST_SPLIT, random_state = RANDOM_SEED)\n",
    "X_train4, X_val4, y_train4, y_val4 = train_test_split(X_train4, y_train4, test_size = TEST_SPLIT, random_state = RANDOM_SEED)"
   ]
  },
  {
   "cell_type": "code",
   "execution_count": 268,
   "metadata": {},
   "outputs": [
    {
     "name": "stdout",
     "output_type": "stream",
     "text": [
      "(57689, 350)\n",
      "(18029, 350)\n",
      "(57689,)\n",
      "(18029,)\n",
      "(14423, 350)\n",
      "(14423,)\n"
     ]
    }
   ],
   "source": [
    "print(X_train4.shape)\n",
    "print(X_test4.shape)\n",
    "print(y_train4.shape)\n",
    "print(y_test4.shape)\n",
    "print(X_val4.shape)\n",
    "print(y_val4.shape)"
   ]
  },
  {
   "cell_type": "code",
   "execution_count": 269,
   "metadata": {},
   "outputs": [
    {
     "name": "stderr",
     "output_type": "stream",
     "text": [
      "2020-11-20 16:22:19,511 : INFO : precomputing L2-norms of word weight vectors\n"
     ]
    }
   ],
   "source": [
    "# 학습 완료 후 필요없는 메모리 unload\n",
    "model.init_sims(replace=True)"
   ]
  },
  {
   "cell_type": "code",
   "execution_count": null,
   "metadata": {},
   "outputs": [],
   "source": []
  },
  {
   "cell_type": "code",
   "execution_count": null,
   "metadata": {},
   "outputs": [],
   "source": []
  }
 ],
 "metadata": {
  "kernelspec": {
   "display_name": "Python 3",
   "language": "python",
   "name": "python3"
  },
  "language_info": {
   "codemirror_mode": {
    "name": "ipython",
    "version": 3
   },
   "file_extension": ".py",
   "mimetype": "text/x-python",
   "name": "python",
   "nbconvert_exporter": "python",
   "pygments_lexer": "ipython3",
   "version": "3.7.9"
  }
 },
 "nbformat": 4,
 "nbformat_minor": 4
}
